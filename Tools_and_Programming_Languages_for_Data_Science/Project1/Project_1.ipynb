{
 "cells": [
  {
   "cell_type": "markdown",
   "metadata": {},
   "source": [
    "# Tools and Programming Languages for Data Science: Project 1 "
   ]
  },
  {
   "cell_type": "markdown",
   "metadata": {},
   "source": [
    "### Notes: \n",
    "\n",
    "- I will use the abbreviations df/dfs for dataframe/s in this Notebook.\n",
    "- I will use the term \"sub df\" (=subset dataframe) for dataframes which I sliced out from another dataframe.\n",
    "- For exercise 1 it was necessary to get a first overview of all datasets and to discover entries, values, dtypes etc. that needed to be fixed. I got this \"first overview\" in a seperate notebook and don't show it here, because that would be too much. But mostly you will know what I explored, as I explain many of my steps in exercise 1 with it."
   ]
  },
  {
   "cell_type": "code",
   "execution_count": 1,
   "metadata": {},
   "outputs": [],
   "source": [
    "import pandas as pd\n",
    "import numpy as np\n",
    "import matplotlib.pyplot as plt\n",
    "import seaborn as sns"
   ]
  },
  {
   "cell_type": "markdown",
   "metadata": {},
   "source": [
    "Of course the first task is to read in all data files:"
   ]
  },
  {
   "cell_type": "code",
   "execution_count": 2,
   "metadata": {},
   "outputs": [],
   "source": [
    "# 1. Read in all files/data -> all contained in a folder with name \"data_project1\"\n",
    "\n",
    "years = [year for year in range(2006, 2016+1, 2)] # create list with years of the Olympics -> can be changed easily if needed for more datasets\n",
    "olympics_dict = {}                                # all variables will be stored in a dictionary -> key = string with year, value = df\n",
    "\n",
    "for year in years:                                # read files in loop and append dictionary \n",
    "    olympics_dict[\"olympics_{0}\".format(year)] = pd.read_csv(\"data_project1/results_{0}.csv\".format(year)) \n",
    "\n",
    "\n",
    "# 2. Also read the metadata stored in excel file \n",
    "athletes_data = pd.read_excel(\"data_project1/metadata.xlsx\", sheet_name=\"athletes\")\n",
    "games_data = pd.read_excel(\"data_project1/metadata.xlsx\", sheet_name=\"games\", header=3)"
   ]
  },
  {
   "cell_type": "code",
   "execution_count": null,
   "metadata": {},
   "outputs": [],
   "source": []
  },
  {
   "cell_type": "markdown",
   "metadata": {},
   "source": [
    "# Exercise 1"
   ]
  },
  {
   "cell_type": "markdown",
   "metadata": {},
   "source": [
    "First I checked all CSV datasets. All dataframes have the same structure, meaning they have the same column names in the same order with the same respective data types WITH ONE EXCEPTION: in all dataframes the column \"position\" is dtype=float64 but in \"olympics_2012\" this column is dtype=object. \n",
    "I checked the \"olympics_2012\" dataframe and the likely reason for the different dtype is, that in column \"position\" there is one number written as a word and not as a number (\"Fourty-Two\" instead of 42.0). Therefore I to fix this by replacing the word with the respective float number, followed by a conversion of the \"position\" column to dtype=float64. Note that I wanted to replace the word through chained assignment with column.replace(\"Fourty-Two\", 42.0, inplace=True) but then I get a FutureWarning because there will be changes for pandas 3.0. As I don't want to have this warning all the time I execute the cell, I use a slightly different method to alter the column.\n",
    "\n",
    "After that we have the same column names in the same order with the same respective data type in each \"olympics_xxxx\" df:"
   ]
  },
  {
   "cell_type": "code",
   "execution_count": 3,
   "metadata": {},
   "outputs": [],
   "source": [
    "#olympics_dict[\"olympics_2012\"].position.replace(\"Fourty-Two\", 42.0, inplace=True)                             # replacing method with FutureWarning\n",
    "olympics_dict[\"olympics_2012\"].position = olympics_dict[\"olympics_2012\"].position.replace(\"Fourty-Two\", 42.0)  # replace word value with float    \n",
    "olympics_dict[\"olympics_2012\"][[\"position\"]] = olympics_dict[\"olympics_2012\"][[\"position\"]].astype(float)      # convert whole column to float"
   ]
  },
  {
   "cell_type": "markdown",
   "metadata": {},
   "source": [
    "Then I want to add three columns to each of the six dataframes: year, country and city of the respective Olympic Games. I can get this information from the metadata file (see variable \"games_data\"), however the data is not in chronological order AND there is no data for 2008. Fortunately it's easy to get all the information for the 2008 Olympics with a Google search, so I add it manually. After that, I sort the games_data df by \"year\":\n",
    "\n",
    "Note: There are still missing values in the \"opened\" and \"closed\" columns, but not for the olympics I'm examining. However if you want to include other olympic games, you should check the values in the two columns."
   ]
  },
  {
   "cell_type": "code",
   "execution_count": 4,
   "metadata": {},
   "outputs": [],
   "source": [
    "games_data.rename(columns={\"country\": \"host_country\", \"city\": \"host_city\"}, inplace=True)\n",
    "games_data.loc[50.5] = 2008, \"Summer\", \"Beijing\", \"People's Republic of China\", \"2008-08-08\", \"2008-08-24\"\n",
    "games_data.sort_values(by=\"year\", inplace=True)\n",
    "games_data.reset_index(drop=True, inplace=True)"
   ]
  },
  {
   "cell_type": "markdown",
   "metadata": {},
   "source": [
    "Then I use the list \"years\", which I already used for reading in all CSV files, to insert columns with the year, host city, opening and closing dates to all results dataframes. Instead of inserting a host city column someone may insert a host country column. But that could be a bit confusing because there already is a \"country\" column in each of the results dfs, which contains the nationalities of the athletes. \n",
    "\n",
    "Finally I use pd.concat() to concat the six results dfs on top of each other. This works well because they have the same number of columns, with the same column names in the same order. Additionally the concated df will start with the results from 2006 and end with the ones from 2016, so there is a first chronological structure. I store it in the variable \"results_data\":"
   ]
  },
  {
   "cell_type": "code",
   "execution_count": 5,
   "metadata": {},
   "outputs": [],
   "source": [
    "for year in years: \n",
    "    \n",
    "    host_city = games_data[games_data.year == year].host_city.item()\n",
    "    opening_date = games_data[games_data.year == year].opened.item()                     # get opening date of olympics in that year\n",
    "    closing_date = games_data[games_data.year == year].closed.item()                     # get closig date of olympics in that year\n",
    "\n",
    "    olympics_dict[\"olympics_{0}\".format(year)].insert(0, \"year\", year)                   # add year column with values to each results df\n",
    "    olympics_dict[\"olympics_{0}\".format(year)].insert(1, \"host_city\", host_city)      # add host city column with values to each results df\n",
    "    olympics_dict[\"olympics_{0}\".format(year)].insert(2, \"opening_date\", opening_date)   # add opening date column with values to each results df\n",
    "    olympics_dict[\"olympics_{0}\".format(year)].insert(3, \"closing_date\", closing_date)   # add closing date column with values to each results df\n",
    "\n",
    "results_data = pd.concat(olympics_dict.values()) "
   ]
  },
  {
   "cell_type": "markdown",
   "metadata": {},
   "source": [
    "Now let's look at the df with the metadata of the athletes, stored in variable \"athletes_data\". I have to make some small changes in it, before I merge it with the \"results_data\" df. Specifically I split the \"name\" column in two columns \"first_name\" and \"last_name\" with the \"•\" as the seperator. After that I drop the columns \"name\", \"measurements\", \"died\" and \"affiliations\" because we don't need them for this project and all of them have a lot of missing values. So I don't think they would be useful for any further evaluation. Finally I searched the birth date of the athlete with ID 117719 and add this information, as this is the only NaN value in column \"born\":"
   ]
  },
  {
   "cell_type": "code",
   "execution_count": 6,
   "metadata": {},
   "outputs": [],
   "source": [
    "# First, apply changes to athletes_data:\n",
    "athletes_data[[\"first_name\", \"last_name\"]] = athletes_data[\"name\"].str.split(\"•\", expand=True) # split \"name\" column\n",
    "athletes_data.drop(columns=[\"name\", \"measurements\", \"died\", \"affiliations\"], inplace=True)     # drop columns \n",
    "no_birth_index = athletes_data[athletes_data.born.isna()].index.item()     # index of athlete without birthdate\n",
    "athletes_data.loc[no_birth_index, \"born\"] = \"1990-01-08\"                   # add birthdate to athlete"
   ]
  },
  {
   "cell_type": "markdown",
   "metadata": {},
   "source": [
    "After fixing all of these issues I can merge \"athletes_data\" with \"results_data\" via the column \"athlete_id\". The merged df will be stored in a new variable \"olympics_df\", which I will use for the following exercises. For \"olympics_df\" I convert the columns \"position\" and \"athlete_id\" from float to int and the columns \"opening_date\", \"closing_date\" and \"born\" from object to datetime. Also I reorder the columns for a more logical structure. I want the columns to start with general data related to the Olympics followed by the data related to the athletes (so from left to right it get's more detailed)."
   ]
  },
  {
   "cell_type": "code",
   "execution_count": 7,
   "metadata": {},
   "outputs": [],
   "source": [
    "# Merging \"athletes_data\" with \"results_data\":\n",
    "olympics_df = pd.merge(left=results_data, right=athletes_data, on=\"athlete_id\", how=\"outer\")             # merge dfs\n",
    "olympics_df[[\"position\", \"athlete_id\"]] = olympics_df[[\"position\", \"athlete_id\"]].fillna(0).astype(int)  # replacing NaN with 0 and convert columns to int \n",
    "\n",
    "olympics_df[[\"opening_date\", \"closing_date\", \"born\"]] = olympics_df[[\"opening_date\", \"closing_date\", \"born\"]].apply(  # convert date columns to datetime\n",
    "                                                        lambda x: pd.to_datetime(x).dt.date)             # dt.date -> just date without time\n",
    "\n",
    "\n",
    "# Reorder columns of olympics_df\n",
    "olympics_df = olympics_df[[\"year\", \"season\", \"host_city\", \"opening_date\", \"closing_date\", \"sport\", \"event\", \"position\",  # reorder columns\n",
    "                           \"medal\", \"country\", \"team\", \"athlete_id\", \"first_name\", \"last_name\", \"sex\", \"born\"]]    "
   ]
  },
  {
   "cell_type": "markdown",
   "metadata": {},
   "source": [
    "Let's finish with the last task for exercise 1. I sort the dataframe permanently by year, sport, event and position. Also I display the first 3 and last 3 rows and print the number of rows and columns as mentioned in the task:"
   ]
  },
  {
   "cell_type": "code",
   "execution_count": 8,
   "metadata": {},
   "outputs": [],
   "source": [
    "# Sort df by year, sport, event and position:\n",
    "\n",
    "olympics_df.sort_values(by=[\"year\", \"sport\", \"event\", \"position\"], inplace=True)  # sort df by year, sport, event and position\n",
    "olympics_df.reset_index(drop=True, inplace=True)                                  # reset index"
   ]
  },
  {
   "cell_type": "code",
   "execution_count": 9,
   "metadata": {},
   "outputs": [
    {
     "name": "stdout",
     "output_type": "stream",
     "text": [
      "First 3 rows of olympics_df:\n"
     ]
    },
    {
     "data": {
      "text/html": [
       "<div>\n",
       "<style scoped>\n",
       "    .dataframe tbody tr th:only-of-type {\n",
       "        vertical-align: middle;\n",
       "    }\n",
       "\n",
       "    .dataframe tbody tr th {\n",
       "        vertical-align: top;\n",
       "    }\n",
       "\n",
       "    .dataframe thead th {\n",
       "        text-align: right;\n",
       "    }\n",
       "</style>\n",
       "<table border=\"1\" class=\"dataframe\">\n",
       "  <thead>\n",
       "    <tr style=\"text-align: right;\">\n",
       "      <th></th>\n",
       "      <th>year</th>\n",
       "      <th>season</th>\n",
       "      <th>host_city</th>\n",
       "      <th>opening_date</th>\n",
       "      <th>closing_date</th>\n",
       "      <th>sport</th>\n",
       "      <th>event</th>\n",
       "      <th>position</th>\n",
       "      <th>medal</th>\n",
       "      <th>country</th>\n",
       "      <th>team</th>\n",
       "      <th>athlete_id</th>\n",
       "      <th>first_name</th>\n",
       "      <th>last_name</th>\n",
       "      <th>sex</th>\n",
       "      <th>born</th>\n",
       "    </tr>\n",
       "  </thead>\n",
       "  <tbody>\n",
       "    <tr>\n",
       "      <th>0</th>\n",
       "      <td>2006</td>\n",
       "      <td>Winter</td>\n",
       "      <td>Torino</td>\n",
       "      <td>2006-02-10</td>\n",
       "      <td>2006-02-26</td>\n",
       "      <td>Alpine Skiing</td>\n",
       "      <td>Combined, Men</td>\n",
       "      <td>0</td>\n",
       "      <td>NaN</td>\n",
       "      <td>Norway</td>\n",
       "      <td>NaN</td>\n",
       "      <td>88005</td>\n",
       "      <td>Lasse</td>\n",
       "      <td>Kjus</td>\n",
       "      <td>Male</td>\n",
       "      <td>1971-01-14</td>\n",
       "    </tr>\n",
       "    <tr>\n",
       "      <th>1</th>\n",
       "      <td>2006</td>\n",
       "      <td>Winter</td>\n",
       "      <td>Torino</td>\n",
       "      <td>2006-02-10</td>\n",
       "      <td>2006-02-26</td>\n",
       "      <td>Alpine Skiing</td>\n",
       "      <td>Combined, Men</td>\n",
       "      <td>0</td>\n",
       "      <td>NaN</td>\n",
       "      <td>Norway</td>\n",
       "      <td>NaN</td>\n",
       "      <td>99335</td>\n",
       "      <td>Kjetil André</td>\n",
       "      <td>Aamodt</td>\n",
       "      <td>Male</td>\n",
       "      <td>1971-09-02</td>\n",
       "    </tr>\n",
       "    <tr>\n",
       "      <th>2</th>\n",
       "      <td>2006</td>\n",
       "      <td>Winter</td>\n",
       "      <td>Torino</td>\n",
       "      <td>2006-02-10</td>\n",
       "      <td>2006-02-26</td>\n",
       "      <td>Alpine Skiing</td>\n",
       "      <td>Combined, Men</td>\n",
       "      <td>0</td>\n",
       "      <td>NaN</td>\n",
       "      <td>South Africa</td>\n",
       "      <td>NaN</td>\n",
       "      <td>99507</td>\n",
       "      <td>Alex</td>\n",
       "      <td>Heath</td>\n",
       "      <td>Male</td>\n",
       "      <td>1978-09-21</td>\n",
       "    </tr>\n",
       "  </tbody>\n",
       "</table>\n",
       "</div>"
      ],
      "text/plain": [
       "   year  season host_city opening_date closing_date          sport  \\\n",
       "0  2006  Winter    Torino   2006-02-10   2006-02-26  Alpine Skiing   \n",
       "1  2006  Winter    Torino   2006-02-10   2006-02-26  Alpine Skiing   \n",
       "2  2006  Winter    Torino   2006-02-10   2006-02-26  Alpine Skiing   \n",
       "\n",
       "           event  position medal       country team  athlete_id    first_name  \\\n",
       "0  Combined, Men         0   NaN        Norway  NaN       88005         Lasse   \n",
       "1  Combined, Men         0   NaN        Norway  NaN       99335  Kjetil André   \n",
       "2  Combined, Men         0   NaN  South Africa  NaN       99507          Alex   \n",
       "\n",
       "  last_name   sex        born  \n",
       "0      Kjus  Male  1971-01-14  \n",
       "1    Aamodt  Male  1971-09-02  \n",
       "2     Heath  Male  1978-09-21  "
      ]
     },
     "execution_count": 9,
     "metadata": {},
     "output_type": "execute_result"
    }
   ],
   "source": [
    "# Display first 3 rows:  \n",
    "\n",
    "print(\"First 3 rows of olympics_df:\") \n",
    "olympics_df.head(n=3)"
   ]
  },
  {
   "cell_type": "code",
   "execution_count": 10,
   "metadata": {},
   "outputs": [
    {
     "name": "stdout",
     "output_type": "stream",
     "text": [
      "Last 3 rows of olympics_df:\n"
     ]
    },
    {
     "data": {
      "text/html": [
       "<div>\n",
       "<style scoped>\n",
       "    .dataframe tbody tr th:only-of-type {\n",
       "        vertical-align: middle;\n",
       "    }\n",
       "\n",
       "    .dataframe tbody tr th {\n",
       "        vertical-align: top;\n",
       "    }\n",
       "\n",
       "    .dataframe thead th {\n",
       "        text-align: right;\n",
       "    }\n",
       "</style>\n",
       "<table border=\"1\" class=\"dataframe\">\n",
       "  <thead>\n",
       "    <tr style=\"text-align: right;\">\n",
       "      <th></th>\n",
       "      <th>year</th>\n",
       "      <th>season</th>\n",
       "      <th>host_city</th>\n",
       "      <th>opening_date</th>\n",
       "      <th>closing_date</th>\n",
       "      <th>sport</th>\n",
       "      <th>event</th>\n",
       "      <th>position</th>\n",
       "      <th>medal</th>\n",
       "      <th>country</th>\n",
       "      <th>team</th>\n",
       "      <th>athlete_id</th>\n",
       "      <th>first_name</th>\n",
       "      <th>last_name</th>\n",
       "      <th>sex</th>\n",
       "      <th>born</th>\n",
       "    </tr>\n",
       "  </thead>\n",
       "  <tbody>\n",
       "    <tr>\n",
       "      <th>54273</th>\n",
       "      <td>2016</td>\n",
       "      <td>Summer</td>\n",
       "      <td>Rio de Janeiro</td>\n",
       "      <td>2016-08-05</td>\n",
       "      <td>2016-08-21</td>\n",
       "      <td>Wrestling</td>\n",
       "      <td>Welterweight, Greco-Roman, Men</td>\n",
       "      <td>16</td>\n",
       "      <td>NaN</td>\n",
       "      <td>Hungary</td>\n",
       "      <td>NaN</td>\n",
       "      <td>117165</td>\n",
       "      <td>Tamás</td>\n",
       "      <td>Lőrincz</td>\n",
       "      <td>Male</td>\n",
       "      <td>1986-12-20</td>\n",
       "    </tr>\n",
       "    <tr>\n",
       "      <th>54274</th>\n",
       "      <td>2016</td>\n",
       "      <td>Summer</td>\n",
       "      <td>Rio de Janeiro</td>\n",
       "      <td>2016-08-05</td>\n",
       "      <td>2016-08-21</td>\n",
       "      <td>Wrestling</td>\n",
       "      <td>Welterweight, Greco-Roman, Men</td>\n",
       "      <td>17</td>\n",
       "      <td>NaN</td>\n",
       "      <td>Kyrgyzstan</td>\n",
       "      <td>NaN</td>\n",
       "      <td>134915</td>\n",
       "      <td>Ruslan</td>\n",
       "      <td>Tsarev</td>\n",
       "      <td>Male</td>\n",
       "      <td>1991-07-16</td>\n",
       "    </tr>\n",
       "    <tr>\n",
       "      <th>54275</th>\n",
       "      <td>2016</td>\n",
       "      <td>Summer</td>\n",
       "      <td>Rio de Janeiro</td>\n",
       "      <td>2016-08-05</td>\n",
       "      <td>2016-08-21</td>\n",
       "      <td>Wrestling</td>\n",
       "      <td>Welterweight, Greco-Roman, Men</td>\n",
       "      <td>18</td>\n",
       "      <td>NaN</td>\n",
       "      <td>Egypt</td>\n",
       "      <td>NaN</td>\n",
       "      <td>133610</td>\n",
       "      <td>Adham</td>\n",
       "      <td>Saleh</td>\n",
       "      <td>Male</td>\n",
       "      <td>1993-06-27</td>\n",
       "    </tr>\n",
       "  </tbody>\n",
       "</table>\n",
       "</div>"
      ],
      "text/plain": [
       "       year  season       host_city opening_date closing_date      sport  \\\n",
       "54273  2016  Summer  Rio de Janeiro   2016-08-05   2016-08-21  Wrestling   \n",
       "54274  2016  Summer  Rio de Janeiro   2016-08-05   2016-08-21  Wrestling   \n",
       "54275  2016  Summer  Rio de Janeiro   2016-08-05   2016-08-21  Wrestling   \n",
       "\n",
       "                                event  position medal     country team  \\\n",
       "54273  Welterweight, Greco-Roman, Men        16   NaN     Hungary  NaN   \n",
       "54274  Welterweight, Greco-Roman, Men        17   NaN  Kyrgyzstan  NaN   \n",
       "54275  Welterweight, Greco-Roman, Men        18   NaN       Egypt  NaN   \n",
       "\n",
       "       athlete_id first_name last_name   sex        born  \n",
       "54273      117165      Tamás   Lőrincz  Male  1986-12-20  \n",
       "54274      134915     Ruslan    Tsarev  Male  1991-07-16  \n",
       "54275      133610      Adham     Saleh  Male  1993-06-27  "
      ]
     },
     "execution_count": 10,
     "metadata": {},
     "output_type": "execute_result"
    }
   ],
   "source": [
    "# Display last 3 rows:\n",
    "\n",
    "print(\"Last 3 rows of olympics_df:\")\n",
    "olympics_df.tail(n=3)"
   ]
  },
  {
   "cell_type": "code",
   "execution_count": 11,
   "metadata": {},
   "outputs": [
    {
     "name": "stdout",
     "output_type": "stream",
     "text": [
      "The final dataframe is stored in the variable 'olympics_df' and has 54276 rows and 16 columns.\n"
     ]
    }
   ],
   "source": [
    "# Display number of rows and columns:\n",
    "\n",
    "row_num = olympics_df.shape[0]\n",
    "col_num = olympics_df.shape[1]\n",
    "print(\"The final dataframe is stored in the variable 'olympics_df' and has\", row_num, \"rows and\", col_num, \"columns.\")"
   ]
  },
  {
   "cell_type": "code",
   "execution_count": null,
   "metadata": {},
   "outputs": [],
   "source": []
  },
  {
   "cell_type": "markdown",
   "metadata": {},
   "source": [
    "# Exercise 2"
   ]
  },
  {
   "cell_type": "markdown",
   "metadata": {},
   "source": [
    "To get the woman who won the Gold medal in the 100 meters race of the 2012 olympic games, I just use conditions on the \"year\", \"event\" and \"position\" columns. This leads to the row/entry with the wanted athlete, which is stored in the variable \"get_wmn\". From this variable the name can be extracted and printed easily, by calling the item()-function on the \"first_name\" and \"last_name\" column:"
   ]
  },
  {
   "cell_type": "code",
   "execution_count": 12,
   "metadata": {},
   "outputs": [
    {
     "name": "stdout",
     "output_type": "stream",
     "text": [
      "Shelly-Ann Fraser-Pryce won the gold medal in the 100 metres women race of the 2012 olympic games.\n"
     ]
    }
   ],
   "source": [
    "# Which woman won the Gold medal in the 100 meters race of the 2012 olympic games?\n",
    "\n",
    "get_wmn = olympics_df[(olympics_df.year == 2012)                   # use conditions to find entry in df\n",
    "                      & (olympics_df.event == \"100 metres, Women\") \n",
    "                      & (olympics_df.position == 1)] \n",
    "\n",
    "get_wmn_first_name = get_wmn.first_name.item()  # get first name of athlete\n",
    "get_wmn_last_name = get_wmn.last_name.item()    # get last name of athlete\n",
    "print(get_wmn_first_name, get_wmn_last_name, \"won the gold medal in the 100 metres women race of the 2012 olympic games.\")"
   ]
  },
  {
   "cell_type": "code",
   "execution_count": null,
   "metadata": {},
   "outputs": [],
   "source": []
  },
  {
   "cell_type": "markdown",
   "metadata": {},
   "source": [
    "Now let's move on to the athletes with the most gold medals for different countries. First I create a sub df \"winners\", which just contains entries with the value \"Gold\" in the \"medal\" column, and I create a list with countries to evaluate. Then I iterate over this list to check if there is any athlete from the current country in the \"winners\" df. If this isn't the case, no athlete from this country won a gold medal in any of the olympics from 2006 to 2016. For further evaluation I group the \"winners\" df by country and get the group with the current one, stored in \"winners_of_country\". So then I would have a df with all gold medal winners of a specific country from 2006 to 2016. In this df I just can use value_counts() on the \"athlete_id\" column, to get the ID of the athlete with the highest occurance and the respective count number (which is the count number of gold medals for this athlete). I store both values in variables and use the athlete ID to find the first and last name of the corresponding athlete. It doesn't matter in which df we use the ID to search for the name, as it's obviously the same everywhere. In the end I use some conditional statements to print out the result in a grammatically correct sentences:"
   ]
  },
  {
   "cell_type": "code",
   "execution_count": 13,
   "metadata": {},
   "outputs": [
    {
     "name": "stdout",
     "output_type": "stream",
     "text": [
      "For Jamaica the athlete with the most gold medals is Usain Bolt with 8 gold medals.\n",
      "For Trinidad and Tobago the athlete with the most gold medals is Marc Burns with 1 gold medal.\n",
      "Barbados doesn't have any gold medal winners in this dataset.\n",
      "For Grenada the athlete with the most gold medals is Kirani James with 1 gold medal.\n",
      "Saint Kitts and Nevis doesn't have any gold medal winners in this dataset.\n"
     ]
    }
   ],
   "source": [
    "# Which athlete has won the most gold medals, considering only athletes from the following countries: \n",
    "# “Jamaica”, “Trinidad and Tobago”, “Barbados”, “Grenada”, “Saint Kitts and Nevis”?\n",
    "\n",
    "winners = olympics_df[olympics_df.medal == \"Gold\"]                         # df which just contains entries with a gold medal\n",
    "countries_to_search  = [\"Jamaica\", \"Trinidad and Tobago\", \"Barbados\",      # list of countries to search for gold medal winners -> easy to change\n",
    "                        \"Grenada\", \"Saint Kitts and Nevis\"]                \n",
    "\n",
    "for country in countries_to_search:\n",
    "    if any(winners.country == country):                                          # check if current country occures in \"winners\" df\n",
    "        winners_of_country = winners.groupby([\"country\"]).get_group((country,))  # group \"winners\" df by country and get current country group\n",
    "        max_winner_index = winners_of_country[[\"athlete_id\"]].value_counts().index[0]     # get index (=athlete_id) of most occuring athlete \n",
    "        max_winner_medal_count = winners_of_country[[\"athlete_id\"]].value_counts().max()  # get max value (= number of gold medals) of this athlete                      \n",
    "        max_winner_first_name = winners[winners.athlete_id==max_winner_index].iloc[0].first_name  # get first name of athlete\n",
    "        max_winner_last_name = winners[winners.athlete_id==max_winner_index].iloc[0].last_name    # get last name of athlete\n",
    "        \n",
    "        if max_winner_medal_count ==1:\n",
    "            print(\"For\", country, \"the athlete with the most gold medals is\", \n",
    "                  max_winner_first_name, max_winner_last_name, \"with\", max_winner_medal_count, \"gold medal.\")\n",
    "        else:\n",
    "            print(\"For\", country, \"the athlete with the most gold medals is\", \n",
    "                  max_winner_first_name, max_winner_last_name, \"with\", max_winner_medal_count, \"gold medals.\")\n",
    "    else:\n",
    "        print(country, \"doesn't have any gold medal winners in this dataset.\")\n"
   ]
  },
  {
   "cell_type": "code",
   "execution_count": null,
   "metadata": {},
   "outputs": [],
   "source": []
  },
  {
   "cell_type": "markdown",
   "metadata": {},
   "source": [
    "When I search for the best, worst and average position achieved by athletes from Nepal I have to consider that I converted the \"position\" column to dtype int. Therefore all NaN values in this column were converted to 0. Therefore I get the sub df \"nepal_df\" which just contains athletes from Nepal and excludes all entries where the \"position\" column has the value 0. There is not much to explain, so I just provided some comments in the code cell. Also I did a little extra research, because I wanted to provide the names of the athletes with the best/worst positions. For this you also find some comments in the next cell because I don't want this explanation to be too long but and this part wasn't explicitly asked for. I output the \"exact\" average/mean as a decimal number together with the orresponding rounded number because the position in a sports tournament is a positive integer."
   ]
  },
  {
   "cell_type": "code",
   "execution_count": 14,
   "metadata": {},
   "outputs": [
    {
     "name": "stdout",
     "output_type": "stream",
     "text": [
      "The best position achieved by athlete/s from Nepal is position 7 by following athlete/s:\n",
      "Deepak Bista\n",
      "Nisha Rawal\n",
      "\n",
      "The worst position achieved by athlete/s from Nepal is position 94 by following athlete/s:\n",
      "Dachhiri Sherpa\n",
      "\n",
      "The average position achieved by athlete/s from Nepal is 47.78, which means the rounded average position is 48.\n"
     ]
    }
   ],
   "source": [
    "# What was the best position, worst position, and average position achieved by athletes from “Nepal”?\n",
    "\n",
    "nepal_df = olympics_df[(olympics_df.country==\"Nepal\") & (olympics_df.position!=0)]  # get df of athletes from Nepal with no missing \"position\" value\n",
    "nepal_best_position = nepal_df.position.min()                                       # min value = best position\n",
    "nepal_worst_position = nepal_df.position.max()                                      # max value = worst position\n",
    "nepal_avg_position = nepal_df.position.mean().round(2)                              # average position of all athletes from Nepal\n",
    "nepal_round_avg_position = int(nepal_avg_position.round(0))                         # rounded average position of all athletes from Nepal\n",
    "\n",
    "\n",
    "# EXTRA: output the athlete names who achieved the best/worst positions by finding them via the best/worst position value:\n",
    "\n",
    "best_athletes = olympics_df[(olympics_df.country==\"Nepal\") & (olympics_df.position==nepal_best_position)]  # get athletes with best positions\n",
    "best_athletes_names = []                                                                                   # list for names of best athletes \n",
    "for i in range(len(best_athletes)):\n",
    "    best_athletes_names.append(best_athletes.iloc[i].first_name + \" \" + best_athletes.iloc[i].last_name)   # concat first and last names to one string\n",
    "\n",
    "print(\"The best position achieved by athlete/s from Nepal is position\", nepal_best_position,\"by following athlete/s:\")\n",
    "for i in range(len(best_athletes_names)):\n",
    "    print(best_athletes_names[i])\n",
    "print()\n",
    "\n",
    "\n",
    "worst_athletes = olympics_df[(olympics_df.country==\"Nepal\") & (olympics_df.position==nepal_worst_position)]  # get athletes with worst positions\n",
    "worst_athletes_names = []                                                                                    # list for names of best athletes\n",
    "for i in range(len(worst_athletes)):\n",
    "    worst_athletes_names.append(worst_athletes.iloc[i].first_name+ \" \" + worst_athletes.iloc[i].last_name)  # concat first and last names to one string\n",
    "\n",
    "print(\"The worst position achieved by athlete/s from Nepal is position\", nepal_worst_position,\"by following athlete/s:\")\n",
    "for i in range(len(worst_athletes_names)):\n",
    "    print(worst_athletes_names[i])\n",
    "\n",
    "print()\n",
    "print(\"The average position achieved by athlete/s from Nepal is \" + str(nepal_avg_position) + \n",
    "      \", which means the rounded average position is \"+ str(nepal_round_avg_position) + \".\")"
   ]
  },
  {
   "cell_type": "code",
   "execution_count": null,
   "metadata": {},
   "outputs": [],
   "source": []
  },
  {
   "cell_type": "markdown",
   "metadata": {},
   "source": [
    "# Exercise 3"
   ]
  },
  {
   "cell_type": "markdown",
   "metadata": {},
   "source": [
    "For this exercise I create a list, which contains the years of the olympics to evaluate, and two dictionaries (summer and winter olympics) in which I will store the years as keys and the number of participants as values. I use a loop to iterate over the year list to get a df of the results just for the olympics of a current year. In this year in count the number of unique values in the \"athlete_id\" column, which equals the number of participants for the olympic games in this year. Finally I use a condition on the \"season\" column to either append my summer or winter dictionary with the year as key and the number of participants as value. \n",
    "\n",
    "Note: In the end I just check the \"season\" column of the first row, as all values in this column are the same for the olympic games in a certain year."
   ]
  },
  {
   "cell_type": "code",
   "execution_count": 15,
   "metadata": {},
   "outputs": [],
   "source": [
    "years = [year for year in range(2006, 2016+1, 2)]  # list with years of olympics  \n",
    "participants_summer = {}                           # dictionary for summer olympics: key = year ; value = number of participants\n",
    "participants_winter = {}                           # dictionary for summer olympics: key = year ; value = number of participants\n",
    "\n",
    "for year in years:\n",
    "    olympics_of_year = olympics_df[olympics_df.year == year]\n",
    "    num_participants_of_year = olympics_of_year.athlete_id.nunique(dropna=True)\n",
    "\n",
    "    if olympics_of_year.iloc[0].season == \"Summer\":\n",
    "        participants_summer[year] = num_participants_of_year\n",
    "    elif olympics_of_year.iloc[0].season == \"Winter\":\n",
    "        participants_winter[year] = num_participants_of_year\n",
    "    else:\n",
    "        print(\"There is an invalid value in the season column\")"
   ]
  },
  {
   "cell_type": "markdown",
   "metadata": {},
   "source": [
    "Let's get a visualization how the number of participants has changed over the years. There is not much to explain, I used the lecture slides and the seaborn documentation to make the graphic a bit more appealing."
   ]
  },
  {
   "cell_type": "code",
   "execution_count": 16,
   "metadata": {},
   "outputs": [
    {
     "data": {
      "text/plain": [
       "[Text(0, 0, '2504'), Text(0, 0, '2553'), Text(0, 0, '2772')]"
      ]
     },
     "execution_count": 16,
     "metadata": {},
     "output_type": "execute_result"
    },
    {
     "data": {
      "image/png": "[encoded data removed]",
      "text/plain": [
       "<Figure size 1400x550 with 2 Axes>"
      ]
     },
     "metadata": {},
     "output_type": "display_data"
    }
   ],
   "source": [
    "fig, ax = plt.subplots(ncols=2, nrows=1)\n",
    "\n",
    "fig.set_size_inches(14,5.5)\n",
    "fig.suptitle(\"Number of participants at the summer and winter olypics from 2006 to 2016\")\n",
    "fig.set_facecolor(\"lightgrey\")\n",
    "\n",
    "ax1 = sns.barplot(data=participants_summer, x=list(participants_summer.keys()), y=list(participants_summer.values()), ax=ax[0], color=\"darkred\")\n",
    "ax1.set_title(\"Summer Olympics\")\n",
    "ax1.set_xlabel(\"years\")\n",
    "ax1.set_ylabel(\"number of participants\")\n",
    "ax1.set_ylim((0, 12000))\n",
    "ax1.bar_label(ax1.containers[0])\n",
    "\n",
    "ax2 = sns.barplot(data=participants_winter, x=list(participants_winter.keys()), y=list(participants_winter.values()), ax=ax[1], color=\"darkblue\")\n",
    "ax2.set_title(\"Winter Olympics\")\n",
    "ax2.set_xlabel(\"years\")\n",
    "ax2.set_ylabel(\"number of participants\")\n",
    "ax2.set_ylim((0, 3000))\n",
    "ax2.bar_label(ax2.containers[0])"
   ]
  },
  {
   "cell_type": "code",
   "execution_count": null,
   "metadata": {},
   "outputs": [],
   "source": []
  },
  {
   "cell_type": "markdown",
   "metadata": {},
   "source": [
    "# Exercise 4"
   ]
  },
  {
   "cell_type": "markdown",
   "metadata": {},
   "source": [
    "First I create a sub df which just contains entries from 2016 and I group them by last name. In these groups there can be different athlete IDs as different athletes can have the same last name. Therefore I count the distinct athlete_id values in each group with .nunique(). Consequently, for every last name I get the info how many distinct ahletes have this name. Therefore the max value corresponds to the most common last name among the athletes."
   ]
  },
  {
   "cell_type": "code",
   "execution_count": 17,
   "metadata": {},
   "outputs": [
    {
     "name": "stdout",
     "output_type": "stream",
     "text": [
      "The most common last name among the athletes is the last name 'López' which occures 29 times, so it is shared by 29 athletes.\n"
     ]
    }
   ],
   "source": [
    "sub_df_2016 = olympics_df[olympics_df.year == 2016].groupby(\"last_name\") # create sub df with entries from 2016 and group bx-y last name\n",
    "\n",
    "count_last_names = sub_df_2016.athlete_id.nunique()            # count different athlete IDs in each group\n",
    "max_id_count = count_last_names.max()                          # get max value of athlete_id count (= number of athletes with same last name)\n",
    "last_names_df = count_last_names.to_frame().reset_index()      # convert series with original index last name to df and reset idex\n",
    "last_names_df.rename(columns={\"athlete_id\": \"occurance\"}, inplace=True)                 # rename column \"athlete_id\" (contains counts) to \"occurance\"\n",
    "last_name = last_names_df[last_names_df.occurance == max_id_count].last_name.item() # get most common last name among the athletes\n",
    "\n",
    "print(\"The most common last name among the athletes is the last name '\" + last_name + \"' which occures \" + str(max_id_count) + \n",
    "      \" times, so it is shared by \" + str(max_id_count) + \" athletes.\")\n"
   ]
  },
  {
   "cell_type": "code",
   "execution_count": null,
   "metadata": {},
   "outputs": [],
   "source": []
  },
  {
   "cell_type": "markdown",
   "metadata": {},
   "source": [
    "# Exercise 5"
   ]
  },
  {
   "cell_type": "markdown",
   "metadata": {},
   "source": [
    "First of all, there are multiple ways to calculate the average age and the preciseness of it. Someone would argue that you take just the full years of an athlete at the time of the beginning of the olympics (e.g. 25 years). This argument is understandable because in normal daily situations probably everyone says their age in full years and not 'I'm 25.36\" years old. However I would like to calculate it to calculate it a bit more precisely, so I use the Pandas Timedelta class to calculate the difference between the \"opening_date\" an \"born\" column. Unfortunately this class can't return the difference in months or years but just in days or smaller timeframes. Therefore I decided to divide the day difference by 365.25, which is the number of days per year (taking leap years into consideration). On this way I get every athlete's age as the number of years between birth and opening date (as defined) BUT this number will still be a float because I want the end result to be relatively exact.\n"
   ]
  },
  {
   "cell_type": "markdown",
   "metadata": {},
   "source": [
    "I can reuse the the df stored in the vatriable \"winners\" from exercise 2, when I searched for the athletes with the most gold medals for some countries. First I calculate the age for each gold medal winner via an apply and lambda function and store it a new column \"age\" in the df with the gold medal winners. Then I group this df by sports and calculate the mean of the age column for every group. At the end I sort the results by an descending order and output the 5 sport with the highest average age of gold medal winners:"
   ]
  },
  {
   "cell_type": "code",
   "execution_count": 18,
   "metadata": {},
   "outputs": [
    {
     "name": "stdout",
     "output_type": "stream",
     "text": [
      "The 5 sports with the highest average age of gold medal winners are:\n",
      "\n",
      "Equestrian Jumping: 42.5 years\n",
      "Equestrian Eventing: 38.0 years\n",
      "Equestrian Dressage: 36.4 years\n",
      "Curling: 33.4 years\n",
      "Cycling Road: 32.4 years\n"
     ]
    }
   ],
   "source": [
    "age = winners.apply(lambda row: pd.Timedelta(row.opening_date - row.born).days/365.25, axis=1) # calculate age for every gold medal winner\n",
    "winners.insert(16, column=\"age\", value=age)                                                    # append age column to winners df\n",
    "sorted_winner_avg_age_per_sport = winners.groupby(\"sport\").age.mean().sort_values(ascending=False).reset_index() # calculate + sort average age per sports\n",
    "sorted_winner_avg_age_per_sport.rename(columns={\"age\":\"average_age\"}, inplace=True)            # rename column for avergage age \n",
    "\n",
    "print(\"The 5 sports with the highest average age of gold medal winners are:\")\n",
    "print()\n",
    "\n",
    "for i in range(0,5,1):\n",
    "    print(sorted_winner_avg_age_per_sport.iloc[i].sport + \": \" + str(round(sorted_winner_avg_age_per_sport.iloc[i].average_age, ndigits=1)) + \" years\")\n",
    "\n",
    "#sorted_winner_avg_age_per_sport.iloc[0:5]    # uncomment this code, of you want to have the result as a df"
   ]
  },
  {
   "cell_type": "code",
   "execution_count": null,
   "metadata": {},
   "outputs": [],
   "source": []
  },
  {
   "cell_type": "markdown",
   "metadata": {},
   "source": [
    "# Exercise 6"
   ]
  },
  {
   "cell_type": "markdown",
   "metadata": {},
   "source": [
    "First I get a sub df with all entries from the 2016 olympics where the value in the \"medal\" column is not NaN and store it in \"medals_2016\". Then I create a list which contains all the unique countries of that new df. Furthermore I use a dictionary with these unique countires as keys. The value for each key (each country) will be a list with 4 items: gold count, silver count, bronze count, total count. At the beginning every country's list will be [0,0,0,0]. So in the end I want to have a dictionary like this: {\"United States\": [1,2,3,6], \"Germany\": [2,3,5,10], ...}\n",
    "\n",
    "I use a loop to iterate over the list with the unique countries with any medal in 2016 and for every country there will be a nested loop to iterate over the medal values (\"Gold\", \"Silver\", \"Bronze\"). The variable \"medal_index\" describes the position of the medal in the list, which contains the medals for the current country. For every medal I take the rules for counting into consideration (e.g. medals for a whole team counts as one medal). So I apply value_counts() for the 2 columns \"sport\" and \"event\". By doing this, I get a series which contains the counted medals for every specific event in any specific sport. I'm not interested in these counts but in the length of the series itself, as this legth is the official medal count. As my explanation might be a bit confusing here is an example:\n",
    "\n",
    "Country X just has athletes who won gold medals (no silver and bronze): one athlete in Athletics 100m Men; the Women Beachvolleyball Team (2 athletes and the Women Volleyball Team (12 athletes) -> the value_counts()-series would look like this: [1,2,12] -> the length is 3 which would be the official gold medal count for this country.\n",
    "\n",
    "I apply this method to every medal and in the end I sum the the three values to get the total medal count. In the end I just convert the dictionary to a df and aplly some transformations, so my final table looks like the official one. I don't want to explain it in detail here as this text is already pretty long. But I added some comments in the corresponding cell."
   ]
  },
  {
   "cell_type": "code",
   "execution_count": 19,
   "metadata": {},
   "outputs": [],
   "source": [
    "# First: Getting all medals/values which I need for the medal table\n",
    "\n",
    "medals_2016 = olympics_df[(olympics_df.year == 2016) & olympics_df.medal.notna()==True] # df with countries that won any type of medal in 2016 \n",
    "countries_any_medals_2016 = list(medals_2016.country.unique())                          # list with unique countries in medals_2016 df (see line above)\n",
    "countries_medals_count = {country: [0,0,0,0] for country in countries_any_medals_2016}  # keys = countries, values = list for each country with 4 items:\n",
    "                                                                                        # gold, silver, bronze and total medal count\n",
    "\n",
    "medals = [\"Gold\", \"Silver\", \"Bronze\"]             # list with medal values\n",
    "\n",
    "for country in countries_any_medals_2016:         # iterate over countries with any type of medal in 2016\n",
    "    medal_index = 0                               # position index of medal in list for current country        \n",
    "    for medal in medals:                          # iterate over list with medal values\n",
    "        current_medal = medals_2016[(medals_2016.country == country) & (medals_2016.medal == medal)]  # search for current medal value of current country   \n",
    "        medal_count = len(current_medal[[\"sport\", \"event\"]].value_counts())  # count values by sport and event and get length (number of rows) of that df\n",
    "        countries_medals_count[country][medal_index] = medal_count           # set medal_count of current medal for current country\n",
    "        medal_index += 1                                                     # add 1 to medal index for next medal value\n",
    "\n",
    "        if medal ==\"Bronze\":                                                                     # if we counted gold, silver and bronze medals:\n",
    "            countries_medals_count[country][medal_index] = sum(countries_medals_count[country])  # calculate and set total number of medals \n",
    "            medal_index = 0                                                                      # reset medal index for next country\n"
   ]
  },
  {
   "cell_type": "code",
   "execution_count": 20,
   "metadata": {},
   "outputs": [
    {
     "data": {
      "text/html": [
       "<style type=\"text/css\">\n",
       "</style>\n",
       "<table id=\"T_253fa\">\n",
       "  <thead>\n",
       "    <tr>\n",
       "      <th id=\"T_253fa_level0_col0\" class=\"col_heading level0 col0\" >Rank</th>\n",
       "      <th id=\"T_253fa_level0_col1\" class=\"col_heading level0 col1\" >NOC</th>\n",
       "      <th id=\"T_253fa_level0_col2\" class=\"col_heading level0 col2\" >Gold</th>\n",
       "      <th id=\"T_253fa_level0_col3\" class=\"col_heading level0 col3\" >Silver</th>\n",
       "      <th id=\"T_253fa_level0_col4\" class=\"col_heading level0 col4\" >Bronze</th>\n",
       "      <th id=\"T_253fa_level0_col5\" class=\"col_heading level0 col5\" >Total</th>\n",
       "    </tr>\n",
       "  </thead>\n",
       "  <tbody>\n",
       "    <tr>\n",
       "      <td id=\"T_253fa_row0_col0\" class=\"data row0 col0\" >1</td>\n",
       "      <td id=\"T_253fa_row0_col1\" class=\"data row0 col1\" >United States</td>\n",
       "      <td id=\"T_253fa_row0_col2\" class=\"data row0 col2\" >46</td>\n",
       "      <td id=\"T_253fa_row0_col3\" class=\"data row0 col3\" >37</td>\n",
       "      <td id=\"T_253fa_row0_col4\" class=\"data row0 col4\" >38</td>\n",
       "      <td id=\"T_253fa_row0_col5\" class=\"data row0 col5\" >121</td>\n",
       "    </tr>\n",
       "    <tr>\n",
       "      <td id=\"T_253fa_row1_col0\" class=\"data row1 col0\" >2</td>\n",
       "      <td id=\"T_253fa_row1_col1\" class=\"data row1 col1\" >Great Britain</td>\n",
       "      <td id=\"T_253fa_row1_col2\" class=\"data row1 col2\" >27</td>\n",
       "      <td id=\"T_253fa_row1_col3\" class=\"data row1 col3\" >23</td>\n",
       "      <td id=\"T_253fa_row1_col4\" class=\"data row1 col4\" >17</td>\n",
       "      <td id=\"T_253fa_row1_col5\" class=\"data row1 col5\" >67</td>\n",
       "    </tr>\n",
       "    <tr>\n",
       "      <td id=\"T_253fa_row2_col0\" class=\"data row2 col0\" >3</td>\n",
       "      <td id=\"T_253fa_row2_col1\" class=\"data row2 col1\" >People's Republic of China</td>\n",
       "      <td id=\"T_253fa_row2_col2\" class=\"data row2 col2\" >26</td>\n",
       "      <td id=\"T_253fa_row2_col3\" class=\"data row2 col3\" >18</td>\n",
       "      <td id=\"T_253fa_row2_col4\" class=\"data row2 col4\" >26</td>\n",
       "      <td id=\"T_253fa_row2_col5\" class=\"data row2 col5\" >70</td>\n",
       "    </tr>\n",
       "    <tr>\n",
       "      <td id=\"T_253fa_row3_col0\" class=\"data row3 col0\" >4</td>\n",
       "      <td id=\"T_253fa_row3_col1\" class=\"data row3 col1\" >Russian Federation</td>\n",
       "      <td id=\"T_253fa_row3_col2\" class=\"data row3 col2\" >19</td>\n",
       "      <td id=\"T_253fa_row3_col3\" class=\"data row3 col3\" >17</td>\n",
       "      <td id=\"T_253fa_row3_col4\" class=\"data row3 col4\" >20</td>\n",
       "      <td id=\"T_253fa_row3_col5\" class=\"data row3 col5\" >56</td>\n",
       "    </tr>\n",
       "    <tr>\n",
       "      <td id=\"T_253fa_row4_col0\" class=\"data row4 col0\" >5</td>\n",
       "      <td id=\"T_253fa_row4_col1\" class=\"data row4 col1\" >Germany</td>\n",
       "      <td id=\"T_253fa_row4_col2\" class=\"data row4 col2\" >17</td>\n",
       "      <td id=\"T_253fa_row4_col3\" class=\"data row4 col3\" >10</td>\n",
       "      <td id=\"T_253fa_row4_col4\" class=\"data row4 col4\" >15</td>\n",
       "      <td id=\"T_253fa_row4_col5\" class=\"data row4 col5\" >42</td>\n",
       "    </tr>\n",
       "    <tr>\n",
       "      <td id=\"T_253fa_row5_col0\" class=\"data row5 col0\" >6</td>\n",
       "      <td id=\"T_253fa_row5_col1\" class=\"data row5 col1\" >Japan</td>\n",
       "      <td id=\"T_253fa_row5_col2\" class=\"data row5 col2\" >12</td>\n",
       "      <td id=\"T_253fa_row5_col3\" class=\"data row5 col3\" >8</td>\n",
       "      <td id=\"T_253fa_row5_col4\" class=\"data row5 col4\" >21</td>\n",
       "      <td id=\"T_253fa_row5_col5\" class=\"data row5 col5\" >41</td>\n",
       "    </tr>\n",
       "    <tr>\n",
       "      <td id=\"T_253fa_row6_col0\" class=\"data row6 col0\" >7</td>\n",
       "      <td id=\"T_253fa_row6_col1\" class=\"data row6 col1\" >France</td>\n",
       "      <td id=\"T_253fa_row6_col2\" class=\"data row6 col2\" >10</td>\n",
       "      <td id=\"T_253fa_row6_col3\" class=\"data row6 col3\" >18</td>\n",
       "      <td id=\"T_253fa_row6_col4\" class=\"data row6 col4\" >14</td>\n",
       "      <td id=\"T_253fa_row6_col5\" class=\"data row6 col5\" >42</td>\n",
       "    </tr>\n",
       "    <tr>\n",
       "      <td id=\"T_253fa_row7_col0\" class=\"data row7 col0\" >8</td>\n",
       "      <td id=\"T_253fa_row7_col1\" class=\"data row7 col1\" >Republic of Korea</td>\n",
       "      <td id=\"T_253fa_row7_col2\" class=\"data row7 col2\" >9</td>\n",
       "      <td id=\"T_253fa_row7_col3\" class=\"data row7 col3\" >3</td>\n",
       "      <td id=\"T_253fa_row7_col4\" class=\"data row7 col4\" >9</td>\n",
       "      <td id=\"T_253fa_row7_col5\" class=\"data row7 col5\" >21</td>\n",
       "    </tr>\n",
       "    <tr>\n",
       "      <td id=\"T_253fa_row8_col0\" class=\"data row8 col0\" >9</td>\n",
       "      <td id=\"T_253fa_row8_col1\" class=\"data row8 col1\" >Italy</td>\n",
       "      <td id=\"T_253fa_row8_col2\" class=\"data row8 col2\" >8</td>\n",
       "      <td id=\"T_253fa_row8_col3\" class=\"data row8 col3\" >12</td>\n",
       "      <td id=\"T_253fa_row8_col4\" class=\"data row8 col4\" >8</td>\n",
       "      <td id=\"T_253fa_row8_col5\" class=\"data row8 col5\" >28</td>\n",
       "    </tr>\n",
       "    <tr>\n",
       "      <td id=\"T_253fa_row9_col0\" class=\"data row9 col0\" >10</td>\n",
       "      <td id=\"T_253fa_row9_col1\" class=\"data row9 col1\" >Australia</td>\n",
       "      <td id=\"T_253fa_row9_col2\" class=\"data row9 col2\" >8</td>\n",
       "      <td id=\"T_253fa_row9_col3\" class=\"data row9 col3\" >11</td>\n",
       "      <td id=\"T_253fa_row9_col4\" class=\"data row9 col4\" >10</td>\n",
       "      <td id=\"T_253fa_row9_col5\" class=\"data row9 col5\" >29</td>\n",
       "    </tr>\n",
       "  </tbody>\n",
       "</table>\n"
      ],
      "text/plain": [
       "<pandas.io.formats.style.Styler at 0x195f9d05550>"
      ]
     },
     "execution_count": 20,
     "metadata": {},
     "output_type": "execute_result"
    }
   ],
   "source": [
    "# Second: converting dictionary to df and transform df so it look like the official medal table\n",
    "\n",
    "medal_table = pd.DataFrame.from_dict(countries_medals_count, orient=\"index\", columns=[\"Gold\", \"Silver\",\"Bronze\", \"Total\"]) # transform dict to df\n",
    "medal_table.sort_values(by=[\"Gold\", \"Silver\", \"Bronze\"], ascending=[False, False, False], inplace=True)   # sort df according to medal table rules\n",
    "medal_table.reset_index(inplace=True)                          # before reset: index = country names -> reset\n",
    "medal_table.rename(columns={\"index\": \"NOC\"}, inplace=True)     # after reset: all countries in column named \"index\" -> rename column to \"NOC\"\n",
    "medal_table.index += 1                                         # because we reseted index: new index starts at 0 -> add 1 to use it later as \"Rank\"\n",
    "medal_table.reset_index(inplace=True)                          # reset index again \n",
    "medal_table.rename(columns={\"index\": \"Rank\"}, inplace=True)    # again, rename the \"old\" index column to \"Rank\" (that's why I added 1)\n",
    "medal_table.iloc[0:10].style.hide()                            # get first 10 countries and display without index\n"
   ]
  },
  {
   "cell_type": "code",
   "execution_count": null,
   "metadata": {},
   "outputs": [],
   "source": []
  }
 ],
 "metadata": {
  "kernelspec": {
   "display_name": ".venv",
   "language": "python",
   "name": "python3"
  },
  "language_info": {
   "codemirror_mode": {
    "name": "ipython",
    "version": 3
   },
   "file_extension": ".py",
   "mimetype": "text/x-python",
   "name": "python",
   "nbconvert_exporter": "python",
   "pygments_lexer": "ipython3",
   "version": "3.12.6"
  }
 },
 "nbformat": 4,
 "nbformat_minor": 2
}
