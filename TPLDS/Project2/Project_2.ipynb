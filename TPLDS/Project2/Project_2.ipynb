{
 "cells": [
  {
   "cell_type": "markdown",
   "metadata": {},
   "source": [
    "# Tools and Programming Languages for Data Science: Project 2"
   ]
  },
  {
   "cell_type": "markdown",
   "metadata": {},
   "source": [
    "### Notes: \n",
    "\n",
    "- I will use the abbreviations df/dfs for dataframe/s in this Notebook.\n",
    "- I will use the term \"sub df\" (=subset dataframe) for dataframes which I sliced out from another dataframe.\n",
    "- For exercise 1 and 2 it was necessary to get a first overview or some extra data exploration of all datasets/combined dataframes and to discover entries, values, dtypes etc. that needed to be fixed. I did this in a seperate notebook and don't show it here, but I explain my findings."
   ]
  },
  {
   "cell_type": "code",
   "execution_count": 57,
   "metadata": {},
   "outputs": [],
   "source": [
    "import pandas as pd\n",
    "import requests\n",
    "from sklearn.model_selection import train_test_split\n",
    "from sklearn.linear_model import LinearRegression\n",
    "from sklearn.metrics import root_mean_squared_error"
   ]
  },
  {
   "cell_type": "markdown",
   "metadata": {},
   "source": [
    "# Exercise 1"
   ]
  },
  {
   "cell_type": "markdown",
   "metadata": {},
   "source": [
    "I decided that my function should take three lists for the arguments. \n",
    "For the \"indicators\" argument a list must be provided and the elements must be strings. The same applies for the \"countries\" argument. The \"years\" list can just contain one single year or two years if a time range should be evaluated. In the latter case the smaller/earlier year number will be used as the beginning of the range and the greater/later year number as the end, even if someone would provide it the opposite way. Furthermore it doesn't matter if the years within the list are provided as ints, floats or strings. In any case my function transforms it in a way, that it can be used for the API call. Also, if some argument isn't provided the right way, my function prints an error message with a hint how the respective argument should be typed in.\n",
    "\n",
    "Generally my function iterates over the indicators list. For every indicator my function uses all provided countries and all provided years to make one API call. But as the API just returns the 50 items per page by default, there could be many cases where my function would have to make multiple requests (one for each page). Therefore, when the function made the first call for an indicator it checks the total number of items in the response. If the total number of items is <= 50, all items are one the first page and no modification has to be made. Otherwise the function makes a new API call, but now setting the \"per_page\" argument in the URL with the total number of items. Then we would get all items on one page. So there are AT MOST two calls for each indicator: one if total number of items <= 50 or two if total number of items > 50. Also responses will always be given in json format, as I set the parameter this way.\n",
    "\n",
    "From the responses the function will collect certain information which will be stored in lists. These lists will be used at the end to create entries for the df. Each entry/row will contain the country name, the specific year, indicator ID, indicator in written format (indicator IDs aren't really self-explanatory) and the realized value of the indicator."
   ]
  },
  {
   "cell_type": "code",
   "execution_count": 58,
   "metadata": {},
   "outputs": [],
   "source": [
    "def get_worldbank_data(indicators, countries, years):\n",
    "    \"\"\"\n",
    "    Query data from the Worldbannk Indicator API. For each indicator all provided countries for all provided years will be evaluated.\n",
    "    \n",
    "    :param list of str indicators: List of indicators to search. \n",
    "                                   Each list element has to be type str.\n",
    "    :param list of str countries:  List of the countries two-letter ISO codes to search for each indicator. \n",
    "                                   Alternatively \"all\" for all countries.\n",
    "                                   Each list element has to be type str.\n",
    "    :param list of int/str years:  Year(s) to search for each country and each indicator. \n",
    "                                   Either one single year or two years for range, with first year = start, second year = end.\n",
    "                                   Each list element has to be type int or str.\n",
    "\n",
    "    :return: Data Frame with requested data\n",
    "    :rtype: pandas.core.frame.DataFrame.\n",
    "    \"\"\"\n",
    "\n",
    "    if len(countries) >= 1:                                    # at least one county must be given\n",
    "        countries_for_URL = \";\".join(countries)                # join country/countries for putting them into the request URL\n",
    "    else:\n",
    "        print(\"Error: Please provide at least one country or 'all' for the API request.\")\n",
    "\n",
    "    if (len(years) == 1) | (len(years) == 2):                  # one year must be given or two years for a time range\n",
    "        years = [int(float(year)) for year in years]           # no matter how elements in years are given initially-> convert elements to int\n",
    "        years.sort(key=int)                                    # sort year(s)\n",
    "        years_for_URL = \":\".join(str(year) for year in years)  # join year(s) for putting them into the request URL\n",
    "    else:\n",
    "        print(\"Error: Please provide a single year or two years for range, with first year = start, second year = end.\")\n",
    "\n",
    "    if len(indicators) >= 1:                                   # at least one county must be given\n",
    "        country_name_lst, year_lst, indicator_id_lst, indicator_lst, value_lst = [], [], [], [], []   # lists to collect information for df\n",
    "        \n",
    "        for indicator in indicators:\n",
    "            indicator_for_URL = indicator                      # indicator for request URL\n",
    "            URL = f\"https://api.worldbank.org/v2/country/{countries_for_URL}/indicator/{indicator_for_URL}?date={years_for_URL}&format=json\"\n",
    "            response = requests.get(URL)\n",
    "            data = response.json()\n",
    "            \n",
    "            if data[0][\"total\"] > 50:                          # check if there are more than 50 items -> if true, new API call\n",
    "                results_per_page = data[0][\"total\"]            # for new API call: get all items on one page\n",
    "                URL = f\"https://api.worldbank.org/v2/country/{countries_for_URL}/indicator/{indicator_for_URL}?\" +\\\n",
    "                      f\"date={years_for_URL}&per_page={results_per_page}&format=json\"\n",
    "                response = requests.get(URL)\n",
    "                data = response.json()\n",
    "\n",
    "            for dict in data[1]:                                    # iterate over all dictionaries/entries in the API response\n",
    "                country_name_lst.append(dict[\"country\"][\"value\"])   # append list with country name\n",
    "                year_lst.append(dict[\"date\"])                       # append list with year \n",
    "                indicator_id_lst.append(dict[\"indicator\"][\"id\"])    # append list with indicator id\n",
    "                indicator_lst.append(dict[\"indicator\"][\"value\"])    # append list with indicator in written format\n",
    "                value_lst.append(dict[\"value\"])                     # append list with realized indicator value\n",
    "    else:\n",
    "        print(\"Error: Please provide at least one indicator for the API request.\")\n",
    "    \n",
    "    # after collecting and storing all infos in lists -> create df:\n",
    "    final_df = pd.DataFrame({\"country_name\": country_name_lst,     \n",
    "                            \"year\": year_lst,\n",
    "                            \"indicator_id\": indicator_id_lst,\n",
    "                            \"indicator\": indicator_lst,\n",
    "                            \"indicator_value\": value_lst})\n",
    "    \n",
    "    return final_df \n"
   ]
  },
  {
   "cell_type": "markdown",
   "metadata": {},
   "source": [
    "Let's demonstrate that the function works with the following queries. Note how I provide the year values, to show that the function is relatively robust against \"unconventional\" inputs. You can also try to swap the years, e.g. for a) you can put in [2020, 2015] instead of [2015, 2020]. The result will still be the same, as the function order the years before it makes an API call."
   ]
  },
  {
   "cell_type": "markdown",
   "metadata": {},
   "source": [
    "### 1a) \n",
    "total population (SP.POP.TOTL) of Germany (DE) and France (FR) between 2015 and 2020:"
   ]
  },
  {
   "cell_type": "code",
   "execution_count": 59,
   "metadata": {},
   "outputs": [
    {
     "data": {
      "text/html": [
       "<div>\n",
       "<style scoped>\n",
       "    .dataframe tbody tr th:only-of-type {\n",
       "        vertical-align: middle;\n",
       "    }\n",
       "\n",
       "    .dataframe tbody tr th {\n",
       "        vertical-align: top;\n",
       "    }\n",
       "\n",
       "    .dataframe thead th {\n",
       "        text-align: right;\n",
       "    }\n",
       "</style>\n",
       "<table border=\"1\" class=\"dataframe\">\n",
       "  <thead>\n",
       "    <tr style=\"text-align: right;\">\n",
       "      <th></th>\n",
       "      <th>country_name</th>\n",
       "      <th>year</th>\n",
       "      <th>indicator_id</th>\n",
       "      <th>indicator</th>\n",
       "      <th>indicator_value</th>\n",
       "    </tr>\n",
       "  </thead>\n",
       "  <tbody>\n",
       "    <tr>\n",
       "      <th>0</th>\n",
       "      <td>Germany</td>\n",
       "      <td>2020</td>\n",
       "      <td>SP.POP.TOTL</td>\n",
       "      <td>Population, total</td>\n",
       "      <td>83160871</td>\n",
       "    </tr>\n",
       "    <tr>\n",
       "      <th>1</th>\n",
       "      <td>Germany</td>\n",
       "      <td>2019</td>\n",
       "      <td>SP.POP.TOTL</td>\n",
       "      <td>Population, total</td>\n",
       "      <td>83092962</td>\n",
       "    </tr>\n",
       "    <tr>\n",
       "      <th>2</th>\n",
       "      <td>Germany</td>\n",
       "      <td>2018</td>\n",
       "      <td>SP.POP.TOTL</td>\n",
       "      <td>Population, total</td>\n",
       "      <td>82905782</td>\n",
       "    </tr>\n",
       "    <tr>\n",
       "      <th>3</th>\n",
       "      <td>Germany</td>\n",
       "      <td>2017</td>\n",
       "      <td>SP.POP.TOTL</td>\n",
       "      <td>Population, total</td>\n",
       "      <td>82657002</td>\n",
       "    </tr>\n",
       "    <tr>\n",
       "      <th>4</th>\n",
       "      <td>Germany</td>\n",
       "      <td>2016</td>\n",
       "      <td>SP.POP.TOTL</td>\n",
       "      <td>Population, total</td>\n",
       "      <td>82348669</td>\n",
       "    </tr>\n",
       "    <tr>\n",
       "      <th>5</th>\n",
       "      <td>Germany</td>\n",
       "      <td>2015</td>\n",
       "      <td>SP.POP.TOTL</td>\n",
       "      <td>Population, total</td>\n",
       "      <td>81686611</td>\n",
       "    </tr>\n",
       "    <tr>\n",
       "      <th>6</th>\n",
       "      <td>France</td>\n",
       "      <td>2020</td>\n",
       "      <td>SP.POP.TOTL</td>\n",
       "      <td>Population, total</td>\n",
       "      <td>67571107</td>\n",
       "    </tr>\n",
       "    <tr>\n",
       "      <th>7</th>\n",
       "      <td>France</td>\n",
       "      <td>2019</td>\n",
       "      <td>SP.POP.TOTL</td>\n",
       "      <td>Population, total</td>\n",
       "      <td>67388001</td>\n",
       "    </tr>\n",
       "    <tr>\n",
       "      <th>8</th>\n",
       "      <td>France</td>\n",
       "      <td>2018</td>\n",
       "      <td>SP.POP.TOTL</td>\n",
       "      <td>Population, total</td>\n",
       "      <td>67158348</td>\n",
       "    </tr>\n",
       "    <tr>\n",
       "      <th>9</th>\n",
       "      <td>France</td>\n",
       "      <td>2017</td>\n",
       "      <td>SP.POP.TOTL</td>\n",
       "      <td>Population, total</td>\n",
       "      <td>66918020</td>\n",
       "    </tr>\n",
       "    <tr>\n",
       "      <th>10</th>\n",
       "      <td>France</td>\n",
       "      <td>2016</td>\n",
       "      <td>SP.POP.TOTL</td>\n",
       "      <td>Population, total</td>\n",
       "      <td>66724104</td>\n",
       "    </tr>\n",
       "    <tr>\n",
       "      <th>11</th>\n",
       "      <td>France</td>\n",
       "      <td>2015</td>\n",
       "      <td>SP.POP.TOTL</td>\n",
       "      <td>Population, total</td>\n",
       "      <td>66548272</td>\n",
       "    </tr>\n",
       "  </tbody>\n",
       "</table>\n",
       "</div>"
      ],
      "text/plain": [
       "   country_name  year indicator_id          indicator  indicator_value\n",
       "0       Germany  2020  SP.POP.TOTL  Population, total         83160871\n",
       "1       Germany  2019  SP.POP.TOTL  Population, total         83092962\n",
       "2       Germany  2018  SP.POP.TOTL  Population, total         82905782\n",
       "3       Germany  2017  SP.POP.TOTL  Population, total         82657002\n",
       "4       Germany  2016  SP.POP.TOTL  Population, total         82348669\n",
       "5       Germany  2015  SP.POP.TOTL  Population, total         81686611\n",
       "6        France  2020  SP.POP.TOTL  Population, total         67571107\n",
       "7        France  2019  SP.POP.TOTL  Population, total         67388001\n",
       "8        France  2018  SP.POP.TOTL  Population, total         67158348\n",
       "9        France  2017  SP.POP.TOTL  Population, total         66918020\n",
       "10       France  2016  SP.POP.TOTL  Population, total         66724104\n",
       "11       France  2015  SP.POP.TOTL  Population, total         66548272"
      ]
     },
     "execution_count": 59,
     "metadata": {},
     "output_type": "execute_result"
    }
   ],
   "source": [
    "pop_de_fr_2015_2020 = get_worldbank_data([\"SP.POP.TOTL\"], [\"DE\",\"FR\"], [\"2015.0\", \"2020.0\"])\n",
    "pop_de_fr_2015_2020"
   ]
  },
  {
   "cell_type": "markdown",
   "metadata": {},
   "source": [
    "### 1b) \n",
    "total population (SP.POP.TOTL), GDP in current US$ (NY.GDP.MKTP.CD) and life expectancy in years at birth (SP.DYN.LE00.IN) of all countries in 2012 (print shape of resulting DataFrame and display first 10 rows):"
   ]
  },
  {
   "cell_type": "code",
   "execution_count": 60,
   "metadata": {},
   "outputs": [
    {
     "name": "stdout",
     "output_type": "stream",
     "text": [
      "Shape:  (798, 5)\n",
      "The resulting data frame has 798 rows and 5 columns.\n"
     ]
    },
    {
     "data": {
      "text/html": [
       "<div>\n",
       "<style scoped>\n",
       "    .dataframe tbody tr th:only-of-type {\n",
       "        vertical-align: middle;\n",
       "    }\n",
       "\n",
       "    .dataframe tbody tr th {\n",
       "        vertical-align: top;\n",
       "    }\n",
       "\n",
       "    .dataframe thead th {\n",
       "        text-align: right;\n",
       "    }\n",
       "</style>\n",
       "<table border=\"1\" class=\"dataframe\">\n",
       "  <thead>\n",
       "    <tr style=\"text-align: right;\">\n",
       "      <th></th>\n",
       "      <th>country_name</th>\n",
       "      <th>year</th>\n",
       "      <th>indicator_id</th>\n",
       "      <th>indicator</th>\n",
       "      <th>indicator_value</th>\n",
       "    </tr>\n",
       "  </thead>\n",
       "  <tbody>\n",
       "    <tr>\n",
       "      <th>0</th>\n",
       "      <td>Africa Eastern and Southern</td>\n",
       "      <td>2012</td>\n",
       "      <td>SP.POP.TOTL</td>\n",
       "      <td>Population, total</td>\n",
       "      <td>5.525307e+08</td>\n",
       "    </tr>\n",
       "    <tr>\n",
       "      <th>1</th>\n",
       "      <td>Africa Western and Central</td>\n",
       "      <td>2012</td>\n",
       "      <td>SP.POP.TOTL</td>\n",
       "      <td>Population, total</td>\n",
       "      <td>3.767980e+08</td>\n",
       "    </tr>\n",
       "    <tr>\n",
       "      <th>2</th>\n",
       "      <td>Arab World</td>\n",
       "      <td>2012</td>\n",
       "      <td>SP.POP.TOTL</td>\n",
       "      <td>Population, total</td>\n",
       "      <td>3.803834e+08</td>\n",
       "    </tr>\n",
       "    <tr>\n",
       "      <th>3</th>\n",
       "      <td>Caribbean small states</td>\n",
       "      <td>2012</td>\n",
       "      <td>SP.POP.TOTL</td>\n",
       "      <td>Population, total</td>\n",
       "      <td>2.898802e+06</td>\n",
       "    </tr>\n",
       "    <tr>\n",
       "      <th>4</th>\n",
       "      <td>Central Europe and the Baltics</td>\n",
       "      <td>2012</td>\n",
       "      <td>SP.POP.TOTL</td>\n",
       "      <td>Population, total</td>\n",
       "      <td>1.039353e+08</td>\n",
       "    </tr>\n",
       "    <tr>\n",
       "      <th>5</th>\n",
       "      <td>Early-demographic dividend</td>\n",
       "      <td>2012</td>\n",
       "      <td>SP.POP.TOTL</td>\n",
       "      <td>Population, total</td>\n",
       "      <td>3.035160e+09</td>\n",
       "    </tr>\n",
       "    <tr>\n",
       "      <th>6</th>\n",
       "      <td>East Asia &amp; Pacific</td>\n",
       "      <td>2012</td>\n",
       "      <td>SP.POP.TOTL</td>\n",
       "      <td>Population, total</td>\n",
       "      <td>2.243777e+09</td>\n",
       "    </tr>\n",
       "    <tr>\n",
       "      <th>7</th>\n",
       "      <td>East Asia &amp; Pacific (excluding high income)</td>\n",
       "      <td>2012</td>\n",
       "      <td>SP.POP.TOTL</td>\n",
       "      <td>Population, total</td>\n",
       "      <td>2.001246e+09</td>\n",
       "    </tr>\n",
       "    <tr>\n",
       "      <th>8</th>\n",
       "      <td>East Asia &amp; Pacific (IDA &amp; IBRD countries)</td>\n",
       "      <td>2012</td>\n",
       "      <td>SP.POP.TOTL</td>\n",
       "      <td>Population, total</td>\n",
       "      <td>1.976387e+09</td>\n",
       "    </tr>\n",
       "    <tr>\n",
       "      <th>9</th>\n",
       "      <td>Euro area</td>\n",
       "      <td>2012</td>\n",
       "      <td>SP.POP.TOTL</td>\n",
       "      <td>Population, total</td>\n",
       "      <td>3.404507e+08</td>\n",
       "    </tr>\n",
       "  </tbody>\n",
       "</table>\n",
       "</div>"
      ],
      "text/plain": [
       "                                  country_name  year indicator_id  \\\n",
       "0                  Africa Eastern and Southern  2012  SP.POP.TOTL   \n",
       "1                   Africa Western and Central  2012  SP.POP.TOTL   \n",
       "2                                   Arab World  2012  SP.POP.TOTL   \n",
       "3                       Caribbean small states  2012  SP.POP.TOTL   \n",
       "4               Central Europe and the Baltics  2012  SP.POP.TOTL   \n",
       "5                   Early-demographic dividend  2012  SP.POP.TOTL   \n",
       "6                          East Asia & Pacific  2012  SP.POP.TOTL   \n",
       "7  East Asia & Pacific (excluding high income)  2012  SP.POP.TOTL   \n",
       "8   East Asia & Pacific (IDA & IBRD countries)  2012  SP.POP.TOTL   \n",
       "9                                    Euro area  2012  SP.POP.TOTL   \n",
       "\n",
       "           indicator  indicator_value  \n",
       "0  Population, total     5.525307e+08  \n",
       "1  Population, total     3.767980e+08  \n",
       "2  Population, total     3.803834e+08  \n",
       "3  Population, total     2.898802e+06  \n",
       "4  Population, total     1.039353e+08  \n",
       "5  Population, total     3.035160e+09  \n",
       "6  Population, total     2.243777e+09  \n",
       "7  Population, total     2.001246e+09  \n",
       "8  Population, total     1.976387e+09  \n",
       "9  Population, total     3.404507e+08  "
      ]
     },
     "execution_count": 60,
     "metadata": {},
     "output_type": "execute_result"
    }
   ],
   "source": [
    "pop_gdp_lifeexp_all_2012 = get_worldbank_data([\"SP.POP.TOTL\", \"NY.GDP.MKTP.CD\", \"SP.DYN.LE00.IN\"], [\"all\"], [\"2012\"])\n",
    "num_rows = pop_gdp_lifeexp_all_2012.shape[0]\n",
    "num_col = pop_gdp_lifeexp_all_2012.shape[1]\n",
    "print(\"Shape: \", pop_gdp_lifeexp_all_2012.shape)\n",
    "print(\"The resulting data frame has\", num_rows, \"rows and\", num_col, \"columns.\" )\n",
    "pop_gdp_lifeexp_all_2012.head(10)\n"
   ]
  },
  {
   "cell_type": "markdown",
   "metadata": {},
   "source": [
    "### 1c) \n",
    "How many API calls makes your function for a) and b) respectively?"
   ]
  },
  {
   "cell_type": "markdown",
   "metadata": {},
   "source": [
    "### Answer: \n",
    "\n",
    "The number of API calls depends on the number of elements in the provided \"indicators\" list. For each indicator my function makes either one API call, if the number of total elements in the response is <= 50, or 2 API calls, if the number of total elements in the response is > 50. \n",
    "\n",
    "Therefore for a) my function makes one API call. For b) it makes 6 API calls, because there are 3 indicators and for each indicator the function has to make a second API call after the first one, as for each indicator the response contains 266 total elements. \n",
    "\n",
    "Imagine the function would not check the total number of items and therefore just read every page of the initial response. Then every page would have 50 items at most, but to get the next page it would need a new API call. For b) this would lead to 6 API calls per indicator, resulting in 18 calls overall, which wouldn't be efficient at all."
   ]
  },
  {
   "cell_type": "code",
   "execution_count": null,
   "metadata": {},
   "outputs": [],
   "source": []
  },
  {
   "cell_type": "markdown",
   "metadata": {},
   "source": [
    "# Exercise 2"
   ]
  },
  {
   "cell_type": "markdown",
   "metadata": {},
   "source": [
    "### 2a)"
   ]
  },
  {
   "cell_type": "markdown",
   "metadata": {},
   "source": [
    "First I read in the medal table csv and store in the variable \"medal_table\". As i want to join the dfs \"medal_table\" and \"pop_gdp_lifeexp_all_2012\" via the country names, I need the country names to match exactly. So I checked which countries from the medal table are not found in the \"country_name\" column of the \"pop_gdp_lifeexp_all_2012\" df. Indeed there were some countries which couldn't be found, however not because they were really missing but just because they had a different name in \"pop_gdp_lifeexp_all_2012\". I decided to replace these country names in the medal table with the country names as they are specified in \"pop_gdp_lifeexp_all_2012\", because the df \"medal_table\" is smaller. Unfortunately there was one country from the medal table which really isn't included in the other df and that's Chinese Taipei (better kown as Taiwan). After some research I found out that the Worldbank doesn't collect information about Taiwan and it's also not included in the values for China but just for some worldwide evaluatios. After all I decided to drop Chinese Taipei/Taiwan from the medal table, because it doesn't have any usecase for the follwoing tasks if there is no data in the Worldbank df. In the end I add a column with the total number of medals (sum up gold, silver and bronze) for each country which will be used in exercise 3:"
   ]
  },
  {
   "cell_type": "code",
   "execution_count": 61,
   "metadata": {},
   "outputs": [],
   "source": [
    "medal_table = pd.read_csv(\"medal_table.csv\", header=0)     # read medal table CSV\n",
    "\n",
    "# replace country names in \"medal_table\" with corresponding country names from \"pop_gdp_lifeexp_all_2012\":\n",
    "medal_table.replace({\"People's Republic of China\": \"China\",\n",
    "                     \"Great Britain\": \"United Kingdom\",\n",
    "                     \"Republic of Korea\": \"Korea, Rep.\",\n",
    "                     \"Islamic Republic of Iran\": \"Iran, Islamic Rep.\",\n",
    "                     \"Czech Republic\": \"Czechia\",\n",
    "                     \"Democratic People's Republic of Korea\": \"Korea, Dem. People's Rep.\",\n",
    "                     \"Turkey\": \"Turkiye\",\n",
    "                     \"The Bahamas\": \"Bahamas, The\",\n",
    "                     \"Venezuela\": \"Venezuela, RB\",\n",
    "                     \"Egypt\": \"Egypt, Arab Rep.\",\n",
    "                     \"Slovakia\": \"Slovak Republic\",\n",
    "                     \"Hong Kong, China\": \"Hong Kong SAR, China\",\n",
    "                     \"Kingdom of Saudi Arabia\": \"Saudi Arabia\",\n",
    "                     \"Vietnam\": \"Viet Nam\"},inplace=True)\n",
    "\n",
    "medal_table.drop(medal_table[medal_table[\"country\"]==\"Chinese Taipei\"].index, inplace=True)    # drop country Chinese Taipei/Taiwan\n",
    "medal_table[\"sum_medals\"] = medal_table[[\"gold\", \"silver\", \"bronze\"]].sum(axis=1)              # add column with total nuber of medals\n",
    "medal_table.reset_index(inplace=True, drop=True)                                               # reset index"
   ]
  },
  {
   "cell_type": "markdown",
   "metadata": {},
   "source": [
    "Now I merge \"medal_table\" with \"pop_gdp_lifeexp_all_2012\" via the country names. I use left_on and right_on as the columns have slightly different names. Also there are way more countries in \"pop_gdp_lifeexp_all_2012\" than in \"medal_table, because many countries didn't win a medal in 2012. For the following exercises I just need the countries which also appear in the medal table, so I use an inner join for the merge. The resulting df will be the base for the upcoming tasks and therefore I store it in a new variable called \"medals_all_indicators_df\". Further I drop some columns which aren't useful after the merge and rename one column which contains the year. \n",
    "\n",
    "The next step is to pivot on the \"indicator\" column. If I wouldn't do this the df would look like the ones in 1a) and 1b), with an column \"indicator\" and an extra column \"indicator_value\". I want the indicators to be the column headers and fill these columns with the values for the respective coutry. \n",
    "\n",
    "At the end I do some final cleaning, including renaming the indicator columns and sorting the df by countries in alphabetical order. Even if it wasn't explicitly required, I print the first rows to show how the final result \"medals_all_indicators_df\" looks like:"
   ]
  },
  {
   "cell_type": "code",
   "execution_count": 62,
   "metadata": {},
   "outputs": [
    {
     "data": {
      "text/html": [
       "<div>\n",
       "<style scoped>\n",
       "    .dataframe tbody tr th:only-of-type {\n",
       "        vertical-align: middle;\n",
       "    }\n",
       "\n",
       "    .dataframe tbody tr th {\n",
       "        vertical-align: top;\n",
       "    }\n",
       "\n",
       "    .dataframe thead th {\n",
       "        text-align: right;\n",
       "    }\n",
       "</style>\n",
       "<table border=\"1\" class=\"dataframe\">\n",
       "  <thead>\n",
       "    <tr style=\"text-align: right;\">\n",
       "      <th></th>\n",
       "      <th>year</th>\n",
       "      <th>country</th>\n",
       "      <th>ISO_3_code</th>\n",
       "      <th>gold</th>\n",
       "      <th>silver</th>\n",
       "      <th>bronze</th>\n",
       "      <th>sum_medals</th>\n",
       "      <th>GDP_in_USD</th>\n",
       "      <th>life_expect_in_years</th>\n",
       "      <th>population</th>\n",
       "    </tr>\n",
       "  </thead>\n",
       "  <tbody>\n",
       "    <tr>\n",
       "      <th>0</th>\n",
       "      <td>2012</td>\n",
       "      <td>Afghanistan</td>\n",
       "      <td>AFG</td>\n",
       "      <td>0</td>\n",
       "      <td>0</td>\n",
       "      <td>1</td>\n",
       "      <td>1</td>\n",
       "      <td>1.990733e+10</td>\n",
       "      <td>61.923</td>\n",
       "      <td>30466479</td>\n",
       "    </tr>\n",
       "    <tr>\n",
       "      <th>1</th>\n",
       "      <td>2012</td>\n",
       "      <td>Algeria</td>\n",
       "      <td>ALG</td>\n",
       "      <td>1</td>\n",
       "      <td>0</td>\n",
       "      <td>0</td>\n",
       "      <td>1</td>\n",
       "      <td>2.271437e+11</td>\n",
       "      <td>74.202</td>\n",
       "      <td>37260563</td>\n",
       "    </tr>\n",
       "    <tr>\n",
       "      <th>2</th>\n",
       "      <td>2012</td>\n",
       "      <td>Argentina</td>\n",
       "      <td>ARG</td>\n",
       "      <td>1</td>\n",
       "      <td>1</td>\n",
       "      <td>2</td>\n",
       "      <td>4</td>\n",
       "      <td>5.459824e+11</td>\n",
       "      <td>76.467</td>\n",
       "      <td>41733271</td>\n",
       "    </tr>\n",
       "    <tr>\n",
       "      <th>3</th>\n",
       "      <td>2012</td>\n",
       "      <td>Armenia</td>\n",
       "      <td>ARM</td>\n",
       "      <td>0</td>\n",
       "      <td>1</td>\n",
       "      <td>1</td>\n",
       "      <td>2</td>\n",
       "      <td>1.061932e+10</td>\n",
       "      <td>73.454</td>\n",
       "      <td>2914421</td>\n",
       "    </tr>\n",
       "  </tbody>\n",
       "</table>\n",
       "</div>"
      ],
      "text/plain": [
       "   year      country ISO_3_code  gold  silver  bronze  sum_medals  \\\n",
       "0  2012  Afghanistan        AFG     0       0       1           1   \n",
       "1  2012      Algeria        ALG     1       0       0           1   \n",
       "2  2012    Argentina        ARG     1       1       2           4   \n",
       "3  2012      Armenia        ARM     0       1       1           2   \n",
       "\n",
       "     GDP_in_USD  life_expect_in_years  population  \n",
       "0  1.990733e+10                61.923    30466479  \n",
       "1  2.271437e+11                74.202    37260563  \n",
       "2  5.459824e+11                76.467    41733271  \n",
       "3  1.061932e+10                73.454     2914421  "
      ]
     },
     "execution_count": 62,
     "metadata": {},
     "output_type": "execute_result"
    }
   ],
   "source": [
    "medals_all_indicators_df = pd.merge(left= medal_table, right= pop_gdp_lifeexp_all_2012,          # merge \"medal_table\" with \"pop_gdp_lifeexp_all_2012\"\n",
    "                                left_on=\"country\", right_on=\"country_name\", how=\"inner\")    \n",
    "medals_all_indicators_df.drop(columns=[\"country_name\", \"year_y\", \"indicator_id\"], inplace=True)  # drop columns\n",
    "medals_all_indicators_df.rename({\"year_x\":\"year\"}, axis=1, inplace=True)                         # rename year column\n",
    "\n",
    "# now pivot the df, to get a cleaner look:\n",
    "medals_all_indicators_df = medals_all_indicators_df.pivot(index=[\"year\", \"country\", \"country_code\", \"gold\", \"silver\", \"bronze\", \"sum_medals\"],\n",
    "                                                          columns=\"indicator\",\n",
    "                                                          values=\"indicator_value\")\n",
    "\n",
    "# final cleaning:\n",
    "medals_all_indicators_df.reset_index(inplace=True)                          # reset index\n",
    "medals_all_indicators_df.columns.name = None                                # remove name of columns index \n",
    "medals_all_indicators_df.rename(columns={\"country_code\": \"ISO_3_code\",      # rename columns\n",
    "                                         \"GDP (current US$)\": \"GDP_in_USD\",                      \n",
    "                                         \"Life expectancy at birth, total (years)\": \"life_expect_in_years\",\n",
    "                                         \"Population, total\": \"population\"}, inplace=True)\n",
    "medals_all_indicators_df[\"population\"] = medals_all_indicators_df[\"population\"].astype(int)    # convert population numbers to integers\n",
    "medals_all_indicators_df.sort_values(by=\"country\", inplace=True)                               # sort df by country names\n",
    "medals_all_indicators_df.head(4)         "
   ]
  },
  {
   "cell_type": "markdown",
   "metadata": {},
   "source": [
    "# IMPORTANT NOTE:\n",
    "\n",
    "Ich checked my final \"medals_all_indicators_df\" df for missing values and indeed there is one row (Nort Korea) which doesn't have data in the GDP column. As this doesn't affect task 2b) I will keep this row for now but then I will drop it at the beginning of exercise 3."
   ]
  },
  {
   "cell_type": "markdown",
   "metadata": {},
   "source": [
    "### 2b)"
   ]
  },
  {
   "cell_type": "markdown",
   "metadata": {},
   "source": [
    "For this task I create a copy of \"medals_all_indicators_df\" and store it in \"medals_population_df\", so I can manipulate it without affecting the original df. \n",
    "\n",
    "The column \"population\" contains the population number for all countries. I divide this column by 10 000 000 to get the population number in 10 million units and assign the result to a new column \"pop_in_10_millions\". In want to show this new column in the alternative medal table too because in my opinion it helps in assessing the results. Next I divide the \"gold\", \"silver\" and \"bronze\" columns by the new \"pop_in_10_millions\" column to calculate the number of medals per 10 million inhabitants for each country. First I thought about rounding the results to full integers but finally I decided not to do it, because I think we would lose some information as we divided the initial medal counts by 10 million inhabitants.\n",
    "\n",
    "Furthermore I drop several columns which aren't necessary for the final representation. Finally I sort the df by gold, silver and bronze (all per 10 million inhabitants), insert a colum with the new ranks and show you the first ten countries. As now there is the \"new_rank\" column, I don't show the index of the df:"
   ]
  },
  {
   "cell_type": "code",
   "execution_count": 63,
   "metadata": {},
   "outputs": [
    {
     "data": {
      "text/html": [
       "<style type=\"text/css\">\n",
       "</style>\n",
       "<table id=\"T_fb556\">\n",
       "  <thead>\n",
       "    <tr>\n",
       "      <th id=\"T_fb556_level0_col0\" class=\"col_heading level0 col0\" >year</th>\n",
       "      <th id=\"T_fb556_level0_col1\" class=\"col_heading level0 col1\" >new_rank</th>\n",
       "      <th id=\"T_fb556_level0_col2\" class=\"col_heading level0 col2\" >country</th>\n",
       "      <th id=\"T_fb556_level0_col3\" class=\"col_heading level0 col3\" >ISO_3_code</th>\n",
       "      <th id=\"T_fb556_level0_col4\" class=\"col_heading level0 col4\" >population</th>\n",
       "      <th id=\"T_fb556_level0_col5\" class=\"col_heading level0 col5\" >pop_in_10_millions</th>\n",
       "      <th id=\"T_fb556_level0_col6\" class=\"col_heading level0 col6\" >gold/10_mil_inhab</th>\n",
       "      <th id=\"T_fb556_level0_col7\" class=\"col_heading level0 col7\" >silver/10_mil_inhab</th>\n",
       "      <th id=\"T_fb556_level0_col8\" class=\"col_heading level0 col8\" >bronze/10_mil_inhab</th>\n",
       "    </tr>\n",
       "  </thead>\n",
       "  <tbody>\n",
       "    <tr>\n",
       "      <td id=\"T_fb556_row0_col0\" class=\"data row0 col0\" >2012</td>\n",
       "      <td id=\"T_fb556_row0_col1\" class=\"data row0 col1\" >1</td>\n",
       "      <td id=\"T_fb556_row0_col2\" class=\"data row0 col2\" >Grenada</td>\n",
       "      <td id=\"T_fb556_row0_col3\" class=\"data row0 col3\" >GRN</td>\n",
       "      <td id=\"T_fb556_row0_col4\" class=\"data row0 col4\" >115,912</td>\n",
       "      <td id=\"T_fb556_row0_col5\" class=\"data row0 col5\" >0.011591</td>\n",
       "      <td id=\"T_fb556_row0_col6\" class=\"data row0 col6\" >86.272345</td>\n",
       "      <td id=\"T_fb556_row0_col7\" class=\"data row0 col7\" >0.000000</td>\n",
       "      <td id=\"T_fb556_row0_col8\" class=\"data row0 col8\" >0.000000</td>\n",
       "    </tr>\n",
       "    <tr>\n",
       "      <td id=\"T_fb556_row1_col0\" class=\"data row1 col0\" >2012</td>\n",
       "      <td id=\"T_fb556_row1_col1\" class=\"data row1 col1\" >2</td>\n",
       "      <td id=\"T_fb556_row1_col2\" class=\"data row1 col2\" >Bahamas, The</td>\n",
       "      <td id=\"T_fb556_row1_col3\" class=\"data row1 col3\" >BAH</td>\n",
       "      <td id=\"T_fb556_row1_col4\" class=\"data row1 col4\" >382,061</td>\n",
       "      <td id=\"T_fb556_row1_col5\" class=\"data row1 col5\" >0.038206</td>\n",
       "      <td id=\"T_fb556_row1_col6\" class=\"data row1 col6\" >26.173831</td>\n",
       "      <td id=\"T_fb556_row1_col7\" class=\"data row1 col7\" >0.000000</td>\n",
       "      <td id=\"T_fb556_row1_col8\" class=\"data row1 col8\" >0.000000</td>\n",
       "    </tr>\n",
       "    <tr>\n",
       "      <td id=\"T_fb556_row2_col0\" class=\"data row2 col0\" >2012</td>\n",
       "      <td id=\"T_fb556_row2_col1\" class=\"data row2 col1\" >3</td>\n",
       "      <td id=\"T_fb556_row2_col2\" class=\"data row2 col2\" >Jamaica</td>\n",
       "      <td id=\"T_fb556_row2_col3\" class=\"data row2 col3\" >JAM</td>\n",
       "      <td id=\"T_fb556_row2_col4\" class=\"data row2 col4\" >2,759,817</td>\n",
       "      <td id=\"T_fb556_row2_col5\" class=\"data row2 col5\" >0.275982</td>\n",
       "      <td id=\"T_fb556_row2_col6\" class=\"data row2 col6\" >14.493715</td>\n",
       "      <td id=\"T_fb556_row2_col7\" class=\"data row2 col7\" >18.117143</td>\n",
       "      <td id=\"T_fb556_row2_col8\" class=\"data row2 col8\" >10.870286</td>\n",
       "    </tr>\n",
       "    <tr>\n",
       "      <td id=\"T_fb556_row3_col0\" class=\"data row3 col0\" >2012</td>\n",
       "      <td id=\"T_fb556_row3_col1\" class=\"data row3 col1\" >4</td>\n",
       "      <td id=\"T_fb556_row3_col2\" class=\"data row3 col2\" >New Zealand</td>\n",
       "      <td id=\"T_fb556_row3_col3\" class=\"data row3 col3\" >NZL</td>\n",
       "      <td id=\"T_fb556_row3_col4\" class=\"data row3 col4\" >4,408,100</td>\n",
       "      <td id=\"T_fb556_row3_col5\" class=\"data row3 col5\" >0.440810</td>\n",
       "      <td id=\"T_fb556_row3_col6\" class=\"data row3 col6\" >13.611306</td>\n",
       "      <td id=\"T_fb556_row3_col7\" class=\"data row3 col7\" >4.537102</td>\n",
       "      <td id=\"T_fb556_row3_col8\" class=\"data row3 col8\" >11.342755</td>\n",
       "    </tr>\n",
       "    <tr>\n",
       "      <td id=\"T_fb556_row4_col0\" class=\"data row4 col0\" >2012</td>\n",
       "      <td id=\"T_fb556_row4_col1\" class=\"data row4 col1\" >5</td>\n",
       "      <td id=\"T_fb556_row4_col2\" class=\"data row4 col2\" >Bahrain</td>\n",
       "      <td id=\"T_fb556_row4_col3\" class=\"data row4 col3\" >BRN</td>\n",
       "      <td id=\"T_fb556_row4_col4\" class=\"data row4 col4\" >1,224,939</td>\n",
       "      <td id=\"T_fb556_row4_col5\" class=\"data row4 col5\" >0.122494</td>\n",
       "      <td id=\"T_fb556_row4_col6\" class=\"data row4 col6\" >8.163672</td>\n",
       "      <td id=\"T_fb556_row4_col7\" class=\"data row4 col7\" >0.000000</td>\n",
       "      <td id=\"T_fb556_row4_col8\" class=\"data row4 col8\" >0.000000</td>\n",
       "    </tr>\n",
       "    <tr>\n",
       "      <td id=\"T_fb556_row5_col0\" class=\"data row5 col0\" >2012</td>\n",
       "      <td id=\"T_fb556_row5_col1\" class=\"data row5 col1\" >6</td>\n",
       "      <td id=\"T_fb556_row5_col2\" class=\"data row5 col2\" >Hungary</td>\n",
       "      <td id=\"T_fb556_row5_col3\" class=\"data row5 col3\" >HUN</td>\n",
       "      <td id=\"T_fb556_row5_col4\" class=\"data row5 col4\" >9,920,362</td>\n",
       "      <td id=\"T_fb556_row5_col5\" class=\"data row5 col5\" >0.992036</td>\n",
       "      <td id=\"T_fb556_row5_col6\" class=\"data row5 col6\" >8.064222</td>\n",
       "      <td id=\"T_fb556_row5_col7\" class=\"data row5 col7\" >4.032111</td>\n",
       "      <td id=\"T_fb556_row5_col8\" class=\"data row5 col8\" >6.048166</td>\n",
       "    </tr>\n",
       "    <tr>\n",
       "      <td id=\"T_fb556_row6_col0\" class=\"data row6 col0\" >2012</td>\n",
       "      <td id=\"T_fb556_row6_col1\" class=\"data row6 col1\" >7</td>\n",
       "      <td id=\"T_fb556_row6_col2\" class=\"data row6 col2\" >Croatia</td>\n",
       "      <td id=\"T_fb556_row6_col3\" class=\"data row6 col3\" >CRO</td>\n",
       "      <td id=\"T_fb556_row6_col4\" class=\"data row6 col4\" >4,267,558</td>\n",
       "      <td id=\"T_fb556_row6_col5\" class=\"data row6 col5\" >0.426756</td>\n",
       "      <td id=\"T_fb556_row6_col6\" class=\"data row6 col6\" >7.029781</td>\n",
       "      <td id=\"T_fb556_row6_col7\" class=\"data row6 col7\" >2.343260</td>\n",
       "      <td id=\"T_fb556_row6_col8\" class=\"data row6 col8\" >4.686521</td>\n",
       "    </tr>\n",
       "    <tr>\n",
       "      <td id=\"T_fb556_row7_col0\" class=\"data row7 col0\" >2012</td>\n",
       "      <td id=\"T_fb556_row7_col1\" class=\"data row7 col1\" >8</td>\n",
       "      <td id=\"T_fb556_row7_col2\" class=\"data row7 col2\" >Trinidad and Tobago</td>\n",
       "      <td id=\"T_fb556_row7_col3\" class=\"data row7 col3\" >TTO</td>\n",
       "      <td id=\"T_fb556_row7_col4\" class=\"data row7 col4\" >1,430,377</td>\n",
       "      <td id=\"T_fb556_row7_col5\" class=\"data row7 col5\" >0.143038</td>\n",
       "      <td id=\"T_fb556_row7_col6\" class=\"data row7 col6\" >6.991164</td>\n",
       "      <td id=\"T_fb556_row7_col7\" class=\"data row7 col7\" >6.991164</td>\n",
       "      <td id=\"T_fb556_row7_col8\" class=\"data row7 col8\" >13.982328</td>\n",
       "    </tr>\n",
       "    <tr>\n",
       "      <td id=\"T_fb556_row8_col0\" class=\"data row8 col0\" >2012</td>\n",
       "      <td id=\"T_fb556_row8_col1\" class=\"data row8 col1\" >9</td>\n",
       "      <td id=\"T_fb556_row8_col2\" class=\"data row8 col2\" >Lithuania</td>\n",
       "      <td id=\"T_fb556_row8_col3\" class=\"data row8 col3\" >LTU</td>\n",
       "      <td id=\"T_fb556_row8_col4\" class=\"data row8 col4\" >2,987,773</td>\n",
       "      <td id=\"T_fb556_row8_col5\" class=\"data row8 col5\" >0.298777</td>\n",
       "      <td id=\"T_fb556_row8_col6\" class=\"data row8 col6\" >6.693949</td>\n",
       "      <td id=\"T_fb556_row8_col7\" class=\"data row8 col7\" >0.000000</td>\n",
       "      <td id=\"T_fb556_row8_col8\" class=\"data row8 col8\" >10.040923</td>\n",
       "    </tr>\n",
       "    <tr>\n",
       "      <td id=\"T_fb556_row9_col0\" class=\"data row9 col0\" >2012</td>\n",
       "      <td id=\"T_fb556_row9_col1\" class=\"data row9 col1\" >10</td>\n",
       "      <td id=\"T_fb556_row9_col2\" class=\"data row9 col2\" >Latvia</td>\n",
       "      <td id=\"T_fb556_row9_col3\" class=\"data row9 col3\" >LAT</td>\n",
       "      <td id=\"T_fb556_row9_col4\" class=\"data row9 col4\" >2,034,319</td>\n",
       "      <td id=\"T_fb556_row9_col5\" class=\"data row9 col5\" >0.203432</td>\n",
       "      <td id=\"T_fb556_row9_col6\" class=\"data row9 col6\" >4.915650</td>\n",
       "      <td id=\"T_fb556_row9_col7\" class=\"data row9 col7\" >0.000000</td>\n",
       "      <td id=\"T_fb556_row9_col8\" class=\"data row9 col8\" >4.915650</td>\n",
       "    </tr>\n",
       "  </tbody>\n",
       "</table>\n"
      ],
      "text/plain": [
       "<pandas.io.formats.style.Styler at 0x212d6166a50>"
      ]
     },
     "execution_count": 63,
     "metadata": {},
     "output_type": "execute_result"
    }
   ],
   "source": [
    "medals_population_df = medals_all_indicators_df.copy()                                            # create copy\n",
    "medals_population_df[\"pop_in_10_millions\"] = medals_population_df[\"population\"].div(10000000)     # population in 10 mil units\n",
    "medals_population_df[[\"gold/10_mil_inhab\", \"silver/10_mil_inhab\", \"bronze/10_mil_inhab\"]] = \\\n",
    "    medals_population_df[[\"gold\", \"silver\", \"bronze\"]].div(medals_population_df[\"pop_in_10_millions\"], axis=0)  # number medals per 10 mil inhabitants\n",
    "\n",
    "medals_population_df.drop(columns=[\"gold\", \"silver\", \"bronze\", \"sum_medals\", \"GDP_in_USD\", \"life_expect_in_years\"], inplace=True)       # drop unnecessary columns \n",
    "medals_population_df.sort_values(by=[\"gold/10_mil_inhab\", \"silver/10_mil_inhab\", \"bronze/10_mil_inhab\"], inplace=True, ascending=False) # sort df by medals\n",
    "medals_population_df.reset_index(inplace=True, drop=True)                                                          # reset index after new order                                         \n",
    "medals_population_df.insert(1, column=\"new_rank\", value=list(range(1, len(medals_population_df)+1)))               # insert column with new ranks\n",
    "medals_population_df[\"population\"] = medals_population_df.apply(lambda x: \"{:,}\".format(x[\"population\"]), axis=1)  # separate 1000 units with comma\n",
    "medals_population_df.head(10).style.hide()"
   ]
  },
  {
   "cell_type": "code",
   "execution_count": null,
   "metadata": {},
   "outputs": [],
   "source": []
  },
  {
   "cell_type": "markdown",
   "metadata": {},
   "source": [
    "# Exercise 3"
   ]
  },
  {
   "cell_type": "markdown",
   "metadata": {},
   "source": [
    "As stated at the end of task 2a), now I drop the row (North Korea) which has a missing value in the GDP column:"
   ]
  },
  {
   "cell_type": "code",
   "execution_count": 64,
   "metadata": {},
   "outputs": [],
   "source": [
    "medals_all_indicators_df.dropna(axis=0, how=\"any\", inplace=True)\n",
    "medals_all_indicators_df.reset_index(inplace=True, drop=True)"
   ]
  },
  {
   "cell_type": "markdown",
   "metadata": {},
   "source": [
    "### 3a)"
   ]
  },
  {
   "cell_type": "markdown",
   "metadata": {},
   "source": [
    "For this subtask I just follow the steps we discussed in the lecture. I define the columns \"GDP_in_USD\", \"life_expect_in_years\", \"population\" as features and the column \"sum_medals\" as target:"
   ]
  },
  {
   "cell_type": "code",
   "execution_count": 65,
   "metadata": {},
   "outputs": [],
   "source": [
    "# define features and target for machine learning model:\n",
    "X = medals_all_indicators_df[[\"GDP_in_USD\", \"life_expect_in_years\", \"population\"]]     # features: GDP, life expectancy and  population\n",
    "y = medals_all_indicators_df[\"sum_medals\"]                                             # target: total number of medals"
   ]
  },
  {
   "cell_type": "markdown",
   "metadata": {},
   "source": [
    "Then I use train_test_split() to split the data into training and test sets. After that I define my model as linear regression and train it with the training set by the fit-method(). By doing this, the model tries to find the best fitting line through the data, which is the line that minimizes the mean squared error. Finally I want to evaluate how good the model is. Therefore I use the X_test data to make predictions about the outcomes. Comparing these outcomes with the y_test data (which are the TRUE amounts of medals won by countries) will show how well the model fits. The metric for the comparison is the root mean squared error, which tells how far off the predicitons are on average from the true values:"
   ]
  },
  {
   "cell_type": "code",
   "execution_count": 66,
   "metadata": {},
   "outputs": [
    {
     "name": "stdout",
     "output_type": "stream",
     "text": [
      "Root Mean Squared Error (rounded): 5.579\n"
     ]
    }
   ],
   "source": [
    "# 1. split data into a training and a test set:\n",
    "X_train, X_test, y_train, y_test = train_test_split(X, y, test_size=0.2, random_state=1) \n",
    "\n",
    "# 2. Train a linear regression model using population, life expectancy and the GDP per capita of a country as features:\n",
    "model = LinearRegression()\n",
    "model.fit(X_train, y_train)\n",
    "\n",
    "# 3. evaluate the model using the root mean squared error as the performance metric:\n",
    "y_pred = model.predict(X_test)                    # predict on the test set\n",
    "rmse = root_mean_squared_error(y_test, y_pred)    # evaluate the model with the root mean squared error\n",
    "print(f\"Root Mean Squared Error (rounded): {round(rmse, ndigits=3)}\")"
   ]
  },
  {
   "cell_type": "markdown",
   "metadata": {},
   "source": [
    "### 3b)"
   ]
  },
  {
   "cell_type": "markdown",
   "metadata": {},
   "source": [
    "Question: How do you judge the performance? \n",
    "\n",
    "Answer:\n",
    "\n",
    "The root mean squared error measures the average distance of the data points from the regression line. As my model's RMSE is 5.579, it means that on average my model predicts that a country has 5.579 more or less medals than this country would have in reality. Considering that in 2012 the USA had the most medals with 104 in total, this means my model is around 5 % away from the truth (always remembering that rmse is an average distance). This would be kind of okay if all countries would have won that amound of medals. But the problem is that our df contains 84 countries and out of these there are just 5 which won more than 40 medals in total. Therefore the average error is quite high for the majority of countries."
   ]
  },
  {
   "cell_type": "markdown",
   "metadata": {},
   "source": [
    "Question: What are possible reasons for this performance?\n",
    "\n",
    "Answer:\n",
    "\n",
    "The reason for this performance might be the fact that the RMSE is prone to outliers (e.g. USA). Also there might be some kind of multicollinearity, which means that two or more independent variables have a strong correlation with each other. Multicollinearity can lead to a higher RMSE, so that might be an issue here. Another aspect could be that a linear regression model is just not the best model in this case and we should use some other kind of regression (logistic, polynomial, ridge regression)."
   ]
  },
  {
   "cell_type": "markdown",
   "metadata": {},
   "source": [
    "Question: How could the model be improved?\n",
    "\n",
    "Answer:\n",
    "\n",
    "I already mentioned the proneness of the RMSE to outliers, so maybe we should exclude these outliers when we train our model. Someone could argue that we might use more independent variables for improvement. And that's not even wrong, because more independet variables reduce the RMSE value in ANY case, even if it doesn't make any sense. Considering this we should think about using independent variables that could really impact the overall performance of a country in the olympics. So the quality (or sense) of the indipendent variables should be more important than the quantity. For example we could replace the GDP with another monetary value, for example the amount of money a countrie government puts into the development of professional sports infrastructure. And/or for every country we could try to find out how many people are active in sports in general. Maybe societies with a higher percentage of people that do some kind of sports also perform better in the olympics. This metric could be more fitting than just using the total population number."
   ]
  },
  {
   "cell_type": "markdown",
   "metadata": {},
   "source": [
    "### 3c)"
   ]
  },
  {
   "cell_type": "markdown",
   "metadata": {},
   "source": [
    "First I have to calculate the GDP of our hypothetical country with the given GDP per capita and total population values:\n",
    "\n",
    "GDP_in_USD = GDP per capita * population = 20.000 US$/capita * 10,000,000 capitas = $200 * 10^9$ US$\n",
    "\n",
    "Then I let my model predict the number of medals the hypothetical country would win. For the the output I round the result as a country can just win \"full\" medals:"
   ]
  },
  {
   "cell_type": "code",
   "execution_count": 67,
   "metadata": {},
   "outputs": [
    {
     "name": "stdout",
     "output_type": "stream",
     "text": [
      "The model predicts that the country would win 6 medals.\n"
     ]
    }
   ],
   "source": [
    "test_country = pd.DataFrame([{\"GDP_in_USD\": 200 * 10**9, \"life_expect_in_years\": 70, \"population\": 10**7}]) # create our hypothetical country\n",
    "print(f\"The model predicts that the country would win {round(model.predict(test_country)[0])} medals.\")"
   ]
  },
  {
   "cell_type": "code",
   "execution_count": null,
   "metadata": {},
   "outputs": [],
   "source": []
  }
 ],
 "metadata": {
  "kernelspec": {
   "display_name": ".venv",
   "language": "python",
   "name": "python3"
  },
  "language_info": {
   "codemirror_mode": {
    "name": "ipython",
    "version": 3
   },
   "file_extension": ".py",
   "mimetype": "text/x-python",
   "name": "python",
   "nbconvert_exporter": "python",
   "pygments_lexer": "ipython3",
   "version": "3.12.6"
  }
 },
 "nbformat": 4,
 "nbformat_minor": 2
}
