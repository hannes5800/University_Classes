{
 "cells": [
  {
   "cell_type": "markdown",
   "id": "6fe0d63c",
   "metadata": {},
   "source": [
    "# Big Data Technologies - Big Data Applications: Kafka"
   ]
  },
  {
   "cell_type": "markdown",
   "id": "6e699ab5",
   "metadata": {},
   "source": [
    "## Task 1"
   ]
  },
  {
   "cell_type": "markdown",
   "id": "37015beb",
   "metadata": {},
   "source": [
    "#### **Kafka and Zookeeper installation via Docker (from Notebook)**"
   ]
  },
  {
   "cell_type": "markdown",
   "id": "a6a5c9c0",
   "metadata": {},
   "source": [
    "##### 1. Zookeeper: "
   ]
  },
  {
   "cell_type": "code",
   "execution_count": 13,
   "id": "3949ddb0",
   "metadata": {},
   "outputs": [
    {
     "name": "stdout",
     "output_type": "stream",
     "text": [
      "d14acc86cae730d5b40cee292864db24ecb70fa23dad7cc1fbdb0fbce5bc7329\n"
     ]
    }
   ],
   "source": [
    "# Run Zookeeper \n",
    "!docker run -d --name zookeeper -p 2181:2181 -e ZOOKEEPER_CLIENT_PORT=2181 confluentinc/cp-zookeeper:7.5.0"
   ]
  },
  {
   "cell_type": "markdown",
   "id": "545cd3af",
   "metadata": {},
   "source": [
    "##### 2. Kafka (linked to Zookeeper):"
   ]
  },
  {
   "cell_type": "code",
   "execution_count": 14,
   "id": "ccb689f5",
   "metadata": {},
   "outputs": [
    {
     "name": "stdout",
     "output_type": "stream",
     "text": [
      "ecd4b051d1365447b3d89e84e9bfeeff240044e367043c3bc7069441fcf7f2e4\n"
     ]
    }
   ],
   "source": [
    "# Run Kafka (linked to Zookeeper)\n",
    "!docker run -d --name kafka -p 9092:9092 -e KAFKA_BROKER_ID=1 -e KAFKA_ZOOKEEPER_CONNECT=zookeeper:2181 -e KAFKA_ADVERTISED_LISTENERS=PLAINTEXT://localhost:9092 -e KAFKA_OFFSETS_TOPIC_REPLICATION_FACTOR=1 -e KAFKA_DELETE_TOPIC_ENABLE=true --link zookeeper confluentinc/cp-kafka:7.5.0"
   ]
  },
  {
   "cell_type": "markdown",
   "id": "ccb5c619",
   "metadata": {},
   "source": [
    "#### **If needed, use the following cell to start the container(s):**"
   ]
  },
  {
   "cell_type": "code",
   "execution_count": 15,
   "id": "5d28574e",
   "metadata": {},
   "outputs": [
    {
     "name": "stdout",
     "output_type": "stream",
     "text": [
      "zookeeper\n",
      "kafka\n"
     ]
    }
   ],
   "source": [
    "# Start container(s) if needed\n",
    "!docker start zookeeper\n",
    "!docker start kafka"
   ]
  },
  {
   "cell_type": "code",
   "execution_count": 16,
   "id": "7c52dd9d",
   "metadata": {},
   "outputs": [
    {
     "name": "stdout",
     "output_type": "stream",
     "text": [
      "CONTAINER ID   IMAGE                             COMMAND                  CREATED          STATUS          PORTS                                        NAMES\n",
      "ecd4b051d136   confluentinc/cp-kafka:7.5.0       \"/etc/confluent/dock…\"   30 seconds ago   Up 30 seconds   0.0.0.0:9092->9092/tcp                       kafka\n",
      "d14acc86cae7   confluentinc/cp-zookeeper:7.5.0   \"/etc/confluent/dock…\"   34 seconds ago   Up 34 seconds   2888/tcp, 0.0.0.0:2181->2181/tcp, 3888/tcp   zookeeper\n"
     ]
    }
   ],
   "source": [
    "# List running containers: should include Zookeeper and Kafka\n",
    "!docker ps"
   ]
  },
  {
   "cell_type": "code",
   "execution_count": null,
   "id": "dda10108",
   "metadata": {},
   "outputs": [],
   "source": []
  },
  {
   "cell_type": "markdown",
   "id": "662ee94c",
   "metadata": {},
   "source": [
    "## Task 2"
   ]
  },
  {
   "cell_type": "markdown",
   "id": "adb2f082",
   "metadata": {},
   "source": [
    "#### **Kafka Topic Creation**\n",
    "\n",
    "Create the topic \"measurements\" via Docker (from Notebook):"
   ]
  },
  {
   "cell_type": "code",
   "execution_count": 17,
   "id": "4c062099",
   "metadata": {},
   "outputs": [],
   "source": [
    "# Create topic \"measurements\" if it doesn't exist already\n",
    "# Creates the topic from within the notebook using the Kafka CLI inside the container\n",
    "!docker exec kafka kafka-topics --create --topic measurements --bootstrap-server localhost:9092 --partitions 1 --replication-factor 1 --if-not-exists"
   ]
  },
  {
   "cell_type": "markdown",
   "id": "a876fa0a",
   "metadata": {},
   "source": [
    "#### **Show that topic now exists in the Kafka container:**"
   ]
  },
  {
   "cell_type": "code",
   "execution_count": 18,
   "id": "8744aaed",
   "metadata": {},
   "outputs": [
    {
     "name": "stdout",
     "output_type": "stream",
     "text": [
      "__consumer_offsets\n",
      "measurements\n"
     ]
    }
   ],
   "source": [
    "!docker exec kafka kafka-topics --list --bootstrap-server localhost:9092"
   ]
  },
  {
   "cell_type": "markdown",
   "id": "3f6e77bd",
   "metadata": {},
   "source": [
    "## Task 3"
   ]
  },
  {
   "cell_type": "markdown",
   "id": "005cebf0",
   "metadata": {},
   "source": [
    "#### **Install the Kafka Python library:**"
   ]
  },
  {
   "cell_type": "code",
   "execution_count": 19,
   "id": "cdb7a0f3",
   "metadata": {},
   "outputs": [
    {
     "name": "stdout",
     "output_type": "stream",
     "text": [
      "Collecting kafka-python\n",
      "  Using cached kafka_python-2.2.10-py2.py3-none-any.whl.metadata (10.0 kB)\n",
      "Using cached kafka_python-2.2.10-py2.py3-none-any.whl (309 kB)\n",
      "Installing collected packages: kafka-python\n",
      "Successfully installed kafka-python-2.2.10\n"
     ]
    }
   ],
   "source": [
    "# Install kafka-python if not already installed\n",
    "!pip install kafka-python"
   ]
  },
  {
   "cell_type": "markdown",
   "id": "2836505a",
   "metadata": {},
   "source": [
    "#### **Import all relevant packages, which are used for the following steps:**"
   ]
  },
  {
   "cell_type": "code",
   "execution_count": 20,
   "id": "545c31cb",
   "metadata": {},
   "outputs": [],
   "source": [
    "from kafka import KafkaProducer, KafkaConsumer\n",
    "from datetime import datetime\n",
    "import time\n",
    "import json\n",
    "import random\n",
    "import pandas as pd"
   ]
  },
  {
   "cell_type": "markdown",
   "id": "66320ef6",
   "metadata": {},
   "source": [
    "#### **Kafka Python Client Connection Test**\n",
    "\n",
    "To test the Kafka broker within this notebook, a producer and a consumer are created:\n",
    "- The producer sent a simple test message (\"Test message from Jupyter\") to the topic \"measurements\".\n",
    "- The consumer subscribed to the same topic and printed out the received message.\n",
    "\n",
    "This will confirm that the Kafka setup and Python client are working correctly."
   ]
  },
  {
   "cell_type": "code",
   "execution_count": 21,
   "id": "5af7077b",
   "metadata": {},
   "outputs": [
    {
     "name": "stdout",
     "output_type": "stream",
     "text": [
      "Message sent and acknowledged by Kafka: RecordMetadata(topic='measurements', partition=0, topic_partition=TopicPartition(topic='measurements', partition=0), offset=0, timestamp=1748863942802, checksum=None, serialized_key_size=-1, serialized_value_size=99, serialized_header_size=-1)\n"
     ]
    }
   ],
   "source": [
    "# Create a Kafka producer instance\n",
    "producer = KafkaProducer(\n",
    "    bootstrap_servers='localhost:9092',\n",
    "    value_serializer=lambda v: json.dumps(v).encode('utf-8')\n",
    ")\n",
    "\n",
    "# Send test message in JSON format\n",
    "test_message = {\n",
    "    \"sensor\": \"test\",\n",
    "    \"value\": \"Test message from Jupyter\",\n",
    "    \"timestamp\": datetime.now().isoformat()\n",
    "}\n",
    "future = producer.send(\"measurements\", test_message)\n",
    "\n",
    "# Get delivery acknowledgment from the Kafka broker\n",
    "result = future.get(timeout=10)\n",
    "print(f\"Message sent and acknowledged by Kafka: {result}\")"
   ]
  },
  {
   "cell_type": "code",
   "execution_count": 22,
   "id": "3e390705",
   "metadata": {},
   "outputs": [
    {
     "name": "stdout",
     "output_type": "stream",
     "text": [
      "Messages from 'measurements' topic:\n",
      "{\"sensor\": \"test\", \"value\": \"Test message from Jupyter\", \"timestamp\": \"2025-06-02T13:32:22.669518\"}\n"
     ]
    }
   ],
   "source": [
    "# Create a Kafka consumer instance\n",
    "consumer = KafkaConsumer(\n",
    "    'measurements',\n",
    "    bootstrap_servers='localhost:9092',\n",
    "    auto_offset_reset='earliest',\n",
    "    enable_auto_commit=True,\n",
    "    group_id='test-group'\n",
    ")\n",
    "\n",
    "print(\"Messages from 'measurements' topic:\")\n",
    "for message in consumer:\n",
    "    print(f\"{message.value.decode('utf-8')}\")\n",
    "    break  # Just read one message for testing\n"
   ]
  },
  {
   "cell_type": "markdown",
   "id": "ff8287dc",
   "metadata": {},
   "source": [
    "## Task 4"
   ]
  },
  {
   "cell_type": "markdown",
   "id": "fe8a1ca8",
   "metadata": {},
   "source": [
    "#### **Random Measurement Generator**\n",
    "\n",
    "This producer simulates sensor measurements by periodically generating random data and sending it to the Kafka topic \"measurements\".\n",
    "\n",
    "Each message includes:\n",
    "- A sensor type (temperature)\n",
    "- A random value\n",
    "- A timestamp\n",
    "\n",
    "The data is structured as a JSON object and encoded in UTF-8 before being sent to Kafka."
   ]
  },
  {
   "cell_type": "code",
   "execution_count": 23,
   "id": "b9c1e5d6",
   "metadata": {},
   "outputs": [
    {
     "name": "stdout",
     "output_type": "stream",
     "text": [
      "Sent: {'sensor': 'temperature', 'value': 8.92, 'unit': '°C', 'timestamp': '2025-06-02T13:32:26.839797'}\n",
      "Sent: {'sensor': 'temperature', 'value': 29.56, 'unit': '°C', 'timestamp': '2025-06-02T13:32:27.162315'}\n",
      "Sent: {'sensor': 'temperature', 'value': 24.25, 'unit': '°C', 'timestamp': '2025-06-02T13:32:27.364947'}\n",
      "Sent: {'sensor': 'temperature', 'value': 29.48, 'unit': '°C', 'timestamp': '2025-06-02T13:32:27.566260'}\n",
      "Sent: {'sensor': 'temperature', 'value': 19.21, 'unit': '°C', 'timestamp': '2025-06-02T13:32:27.769791'}\n",
      "Sent: {'sensor': 'temperature', 'value': 18.77, 'unit': '°C', 'timestamp': '2025-06-02T13:32:27.970788'}\n",
      "Sent: {'sensor': 'temperature', 'value': 3.39, 'unit': '°C', 'timestamp': '2025-06-02T13:32:28.173204'}\n",
      "Sent: {'sensor': 'temperature', 'value': 29.48, 'unit': '°C', 'timestamp': '2025-06-02T13:32:28.374201'}\n",
      "Sent: {'sensor': 'temperature', 'value': 13.84, 'unit': '°C', 'timestamp': '2025-06-02T13:32:28.576981'}\n",
      "Sent: {'sensor': 'temperature', 'value': 24.29, 'unit': '°C', 'timestamp': '2025-06-02T13:32:28.778144'}\n",
      "Sent: {'sensor': 'temperature', 'value': 9.06, 'unit': '°C', 'timestamp': '2025-06-02T13:32:28.981187'}\n",
      "Sent: {'sensor': 'temperature', 'value': 12.81, 'unit': '°C', 'timestamp': '2025-06-02T13:32:29.184596'}\n",
      "Sent: {'sensor': 'temperature', 'value': 2.61, 'unit': '°C', 'timestamp': '2025-06-02T13:32:29.385820'}\n",
      "Sent: {'sensor': 'temperature', 'value': 22.54, 'unit': '°C', 'timestamp': '2025-06-02T13:32:29.589542'}\n",
      "Sent: {'sensor': 'temperature', 'value': 22.02, 'unit': '°C', 'timestamp': '2025-06-02T13:32:29.791775'}\n",
      "Sent: {'sensor': 'temperature', 'value': 16.58, 'unit': '°C', 'timestamp': '2025-06-02T13:32:29.992945'}\n",
      "Sent: {'sensor': 'temperature', 'value': 25.54, 'unit': '°C', 'timestamp': '2025-06-02T13:32:30.194522'}\n",
      "Sent: {'sensor': 'temperature', 'value': 13.07, 'unit': '°C', 'timestamp': '2025-06-02T13:32:30.395614'}\n",
      "Sent: {'sensor': 'temperature', 'value': 9.6, 'unit': '°C', 'timestamp': '2025-06-02T13:32:30.597299'}\n",
      "Sent: {'sensor': 'temperature', 'value': 13.72, 'unit': '°C', 'timestamp': '2025-06-02T13:32:30.798758'}\n",
      "Sent: {'sensor': 'temperature', 'value': 18.55, 'unit': '°C', 'timestamp': '2025-06-02T13:32:31.002117'}\n",
      "Sent: {'sensor': 'temperature', 'value': 0.54, 'unit': '°C', 'timestamp': '2025-06-02T13:32:31.203364'}\n",
      "Sent: {'sensor': 'temperature', 'value': 3.92, 'unit': '°C', 'timestamp': '2025-06-02T13:32:31.405384'}\n",
      "Sent: {'sensor': 'temperature', 'value': 25.21, 'unit': '°C', 'timestamp': '2025-06-02T13:32:31.607452'}\n",
      "Sent: {'sensor': 'temperature', 'value': 5.27, 'unit': '°C', 'timestamp': '2025-06-02T13:32:31.808767'}\n",
      "Sent: {'sensor': 'temperature', 'value': 13.6, 'unit': '°C', 'timestamp': '2025-06-02T13:32:32.011061'}\n",
      "Sent: {'sensor': 'temperature', 'value': 2.06, 'unit': '°C', 'timestamp': '2025-06-02T13:32:32.212683'}\n",
      "Sent: {'sensor': 'temperature', 'value': 3.23, 'unit': '°C', 'timestamp': '2025-06-02T13:32:32.416204'}\n",
      "Sent: {'sensor': 'temperature', 'value': 22.55, 'unit': '°C', 'timestamp': '2025-06-02T13:32:32.618023'}\n",
      "Sent: {'sensor': 'temperature', 'value': 16.89, 'unit': '°C', 'timestamp': '2025-06-02T13:32:32.819149'}\n",
      "Sent: {'sensor': 'temperature', 'value': 11.21, 'unit': '°C', 'timestamp': '2025-06-02T13:32:33.021720'}\n",
      "Sent: {'sensor': 'temperature', 'value': 11.48, 'unit': '°C', 'timestamp': '2025-06-02T13:32:33.222701'}\n",
      "Sent: {'sensor': 'temperature', 'value': 8.13, 'unit': '°C', 'timestamp': '2025-06-02T13:32:33.424533'}\n",
      "Sent: {'sensor': 'temperature', 'value': 3.04, 'unit': '°C', 'timestamp': '2025-06-02T13:32:33.626100'}\n",
      "Sent: {'sensor': 'temperature', 'value': 1.41, 'unit': '°C', 'timestamp': '2025-06-02T13:32:33.828388'}\n",
      "Sent: {'sensor': 'temperature', 'value': 5.23, 'unit': '°C', 'timestamp': '2025-06-02T13:32:34.032122'}\n",
      "Sent: {'sensor': 'temperature', 'value': 6.84, 'unit': '°C', 'timestamp': '2025-06-02T13:32:34.243153'}\n",
      "Sent: {'sensor': 'temperature', 'value': 28.42, 'unit': '°C', 'timestamp': '2025-06-02T13:32:34.445119'}\n",
      "Sent: {'sensor': 'temperature', 'value': 27.38, 'unit': '°C', 'timestamp': '2025-06-02T13:32:34.646775'}\n",
      "Sent: {'sensor': 'temperature', 'value': 9.98, 'unit': '°C', 'timestamp': '2025-06-02T13:32:34.849001'}\n",
      "Sent: {'sensor': 'temperature', 'value': 19.23, 'unit': '°C', 'timestamp': '2025-06-02T13:32:35.050657'}\n",
      "Sent: {'sensor': 'temperature', 'value': 28.84, 'unit': '°C', 'timestamp': '2025-06-02T13:32:35.253065'}\n",
      "Sent: {'sensor': 'temperature', 'value': 0.05, 'unit': '°C', 'timestamp': '2025-06-02T13:32:35.454419'}\n",
      "Sent: {'sensor': 'temperature', 'value': 17.84, 'unit': '°C', 'timestamp': '2025-06-02T13:32:35.656140'}\n",
      "Sent: {'sensor': 'temperature', 'value': 8.83, 'unit': '°C', 'timestamp': '2025-06-02T13:32:35.856975'}\n",
      "Sent: {'sensor': 'temperature', 'value': 19.49, 'unit': '°C', 'timestamp': '2025-06-02T13:32:36.059533'}\n",
      "Sent: {'sensor': 'temperature', 'value': 13.77, 'unit': '°C', 'timestamp': '2025-06-02T13:32:36.263646'}\n",
      "Sent: {'sensor': 'temperature', 'value': 15.21, 'unit': '°C', 'timestamp': '2025-06-02T13:32:36.464589'}\n",
      "Sent: {'sensor': 'temperature', 'value': 14.88, 'unit': '°C', 'timestamp': '2025-06-02T13:32:36.666753'}\n",
      "Sent: {'sensor': 'temperature', 'value': 8.8, 'unit': '°C', 'timestamp': '2025-06-02T13:32:36.868445'}\n",
      "Sent: {'sensor': 'temperature', 'value': 11.3, 'unit': '°C', 'timestamp': '2025-06-02T13:32:37.070569'}\n",
      "Sent: {'sensor': 'temperature', 'value': 0.64, 'unit': '°C', 'timestamp': '2025-06-02T13:32:37.272083'}\n",
      "Sent: {'sensor': 'temperature', 'value': 28.0, 'unit': '°C', 'timestamp': '2025-06-02T13:32:37.474469'}\n",
      "Sent: {'sensor': 'temperature', 'value': 16.49, 'unit': '°C', 'timestamp': '2025-06-02T13:32:37.677111'}\n",
      "Sent: {'sensor': 'temperature', 'value': 17.0, 'unit': '°C', 'timestamp': '2025-06-02T13:32:37.879519'}\n",
      "Sent: {'sensor': 'temperature', 'value': 8.31, 'unit': '°C', 'timestamp': '2025-06-02T13:32:38.080701'}\n",
      "Sent: {'sensor': 'temperature', 'value': 28.53, 'unit': '°C', 'timestamp': '2025-06-02T13:32:38.282856'}\n",
      "Sent: {'sensor': 'temperature', 'value': 5.83, 'unit': '°C', 'timestamp': '2025-06-02T13:32:38.484041'}\n",
      "Sent: {'sensor': 'temperature', 'value': 27.09, 'unit': '°C', 'timestamp': '2025-06-02T13:32:38.685432'}\n",
      "Sent: {'sensor': 'temperature', 'value': 27.56, 'unit': '°C', 'timestamp': '2025-06-02T13:32:38.886578'}\n",
      "Sent: {'sensor': 'temperature', 'value': 20.44, 'unit': '°C', 'timestamp': '2025-06-02T13:32:39.088967'}\n",
      "Sent: {'sensor': 'temperature', 'value': 25.27, 'unit': '°C', 'timestamp': '2025-06-02T13:32:39.292881'}\n",
      "Sent: {'sensor': 'temperature', 'value': 4.19, 'unit': '°C', 'timestamp': '2025-06-02T13:32:39.494121'}\n",
      "Sent: {'sensor': 'temperature', 'value': 13.81, 'unit': '°C', 'timestamp': '2025-06-02T13:32:39.699433'}\n",
      "Sent: {'sensor': 'temperature', 'value': 8.75, 'unit': '°C', 'timestamp': '2025-06-02T13:32:39.900870'}\n",
      "Sent: {'sensor': 'temperature', 'value': 11.84, 'unit': '°C', 'timestamp': '2025-06-02T13:32:40.104097'}\n",
      "Sent: {'sensor': 'temperature', 'value': 15.58, 'unit': '°C', 'timestamp': '2025-06-02T13:32:40.305510'}\n",
      "Sent: {'sensor': 'temperature', 'value': 25.21, 'unit': '°C', 'timestamp': '2025-06-02T13:32:40.510241'}\n",
      "Sent: {'sensor': 'temperature', 'value': 1.37, 'unit': '°C', 'timestamp': '2025-06-02T13:32:40.713566'}\n",
      "Sent: {'sensor': 'temperature', 'value': 6.65, 'unit': '°C', 'timestamp': '2025-06-02T13:32:40.914824'}\n",
      "Sent: {'sensor': 'temperature', 'value': 3.33, 'unit': '°C', 'timestamp': '2025-06-02T13:32:41.117319'}\n",
      "Sent: {'sensor': 'temperature', 'value': 3.09, 'unit': '°C', 'timestamp': '2025-06-02T13:32:41.318890'}\n",
      "Sent: {'sensor': 'temperature', 'value': 27.41, 'unit': '°C', 'timestamp': '2025-06-02T13:32:41.521350'}\n",
      "Sent: {'sensor': 'temperature', 'value': 24.87, 'unit': '°C', 'timestamp': '2025-06-02T13:32:41.724215'}\n",
      "Sent: {'sensor': 'temperature', 'value': 29.48, 'unit': '°C', 'timestamp': '2025-06-02T13:32:41.926050'}\n",
      "Sent: {'sensor': 'temperature', 'value': 9.43, 'unit': '°C', 'timestamp': '2025-06-02T13:32:42.128196'}\n",
      "Sent: {'sensor': 'temperature', 'value': 1.95, 'unit': '°C', 'timestamp': '2025-06-02T13:32:42.329783'}\n",
      "Sent: {'sensor': 'temperature', 'value': 27.38, 'unit': '°C', 'timestamp': '2025-06-02T13:32:42.532463'}\n",
      "Sent: {'sensor': 'temperature', 'value': 5.94, 'unit': '°C', 'timestamp': '2025-06-02T13:32:42.733825'}\n",
      "Sent: {'sensor': 'temperature', 'value': 15.4, 'unit': '°C', 'timestamp': '2025-06-02T13:32:42.936878'}\n",
      "Sent: {'sensor': 'temperature', 'value': 6.97, 'unit': '°C', 'timestamp': '2025-06-02T13:32:43.141046'}\n",
      "Sent: {'sensor': 'temperature', 'value': 0.1, 'unit': '°C', 'timestamp': '2025-06-02T13:32:43.342245'}\n",
      "Sent: {'sensor': 'temperature', 'value': 29.27, 'unit': '°C', 'timestamp': '2025-06-02T13:32:43.547965'}\n",
      "Sent: {'sensor': 'temperature', 'value': 0.67, 'unit': '°C', 'timestamp': '2025-06-02T13:32:43.748923'}\n",
      "Sent: {'sensor': 'temperature', 'value': 15.81, 'unit': '°C', 'timestamp': '2025-06-02T13:32:43.951415'}\n",
      "Sent: {'sensor': 'temperature', 'value': 15.95, 'unit': '°C', 'timestamp': '2025-06-02T13:32:44.152632'}\n",
      "Sent: {'sensor': 'temperature', 'value': 5.81, 'unit': '°C', 'timestamp': '2025-06-02T13:32:44.355670'}\n",
      "Sent: {'sensor': 'temperature', 'value': 14.08, 'unit': '°C', 'timestamp': '2025-06-02T13:32:44.556891'}\n",
      "Sent: {'sensor': 'temperature', 'value': 7.58, 'unit': '°C', 'timestamp': '2025-06-02T13:32:44.760006'}\n",
      "Sent: {'sensor': 'temperature', 'value': 0.58, 'unit': '°C', 'timestamp': '2025-06-02T13:32:44.961350'}\n",
      "Sent: {'sensor': 'temperature', 'value': 17.86, 'unit': '°C', 'timestamp': '2025-06-02T13:32:45.163665'}\n",
      "Sent: {'sensor': 'temperature', 'value': 6.28, 'unit': '°C', 'timestamp': '2025-06-02T13:32:45.365134'}\n",
      "Sent: {'sensor': 'temperature', 'value': 17.76, 'unit': '°C', 'timestamp': '2025-06-02T13:32:45.567372'}\n",
      "Sent: {'sensor': 'temperature', 'value': 9.65, 'unit': '°C', 'timestamp': '2025-06-02T13:32:45.769237'}\n",
      "Sent: {'sensor': 'temperature', 'value': 1.66, 'unit': '°C', 'timestamp': '2025-06-02T13:32:45.972430'}\n",
      "Sent: {'sensor': 'temperature', 'value': 22.78, 'unit': '°C', 'timestamp': '2025-06-02T13:32:46.173970'}\n",
      "Sent: {'sensor': 'temperature', 'value': 28.2, 'unit': '°C', 'timestamp': '2025-06-02T13:32:46.375315'}\n",
      "Sent: {'sensor': 'temperature', 'value': 28.13, 'unit': '°C', 'timestamp': '2025-06-02T13:32:46.576658'}\n",
      "Sent: {'sensor': 'temperature', 'value': 24.57, 'unit': '°C', 'timestamp': '2025-06-02T13:32:46.777777'}\n",
      "Sent: {'sensor': 'temperature', 'value': 10.85, 'unit': '°C', 'timestamp': '2025-06-02T13:32:46.978929'}\n",
      "All measurements sent.\n"
     ]
    }
   ],
   "source": [
    "# Create Kafka producer\n",
    "producer = KafkaProducer(\n",
    "    bootstrap_servers='localhost:9092',\n",
    "    value_serializer=lambda v: json.dumps(v).encode('utf-8')  # auto JSON encode\n",
    ")\n",
    "\n",
    "# Function to generate a random measurement\n",
    "def rand_temp_generator(min_temp=0.0, max_temp=30.0):\n",
    "    return {\n",
    "        \"sensor\": \"temperature\",\n",
    "        \"value\": round(random.uniform(min_temp, max_temp), 2), \n",
    "        \"unit\": \"°C\",\n",
    "        \"timestamp\": datetime.now().isoformat()\n",
    "    }\n",
    "\n",
    "# Send 100 measurements with 0.2 second intervals\n",
    "for _ in range(100):\n",
    "    measurement = rand_temp_generator()\n",
    "    producer.send(\"measurements\", measurement)\n",
    "    print(f\"Sent: {measurement}\")\n",
    "    time.sleep(0.2)\n",
    "\n",
    "producer.flush()\n",
    "print(\"All measurements sent.\")"
   ]
  },
  {
   "cell_type": "code",
   "execution_count": null,
   "id": "f14034a7",
   "metadata": {},
   "outputs": [],
   "source": []
  },
  {
   "cell_type": "markdown",
   "id": "55fc0bf5",
   "metadata": {},
   "source": [
    "## Task 5"
   ]
  },
  {
   "cell_type": "markdown",
   "id": "ecddddbf",
   "metadata": {},
   "source": [
    "#### **Kafka Consumer**\n",
    "\n",
    "This consumer subscribes to the topic \"measurements\" and reads JSON-encoded messages produced by the temperature sensor simulator.\n",
    "\n",
    "Each message is parsed and displayed as a structured record. The data includes:\n",
    "- Sensor type\n",
    "- Measurement value\n",
    "- Unit\n",
    "- Timestamp\n",
    "\n",
    "For better readability, the data is converted into a Pandas DataFrame."
   ]
  },
  {
   "cell_type": "code",
   "execution_count": 24,
   "id": "af15828e",
   "metadata": {},
   "outputs": [
    {
     "name": "stdout",
     "output_type": "stream",
     "text": [
      "Received: {'sensor': 'test', 'value': 'Test message from Jupyter', 'timestamp': '2025-06-02T13:32:22.669518'}\n",
      "Received: {'sensor': 'temperature', 'value': 8.92, 'unit': '°C', 'timestamp': '2025-06-02T13:32:26.839797'}\n",
      "Received: {'sensor': 'temperature', 'value': 29.56, 'unit': '°C', 'timestamp': '2025-06-02T13:32:27.162315'}\n",
      "Received: {'sensor': 'temperature', 'value': 24.25, 'unit': '°C', 'timestamp': '2025-06-02T13:32:27.364947'}\n",
      "Received: {'sensor': 'temperature', 'value': 29.48, 'unit': '°C', 'timestamp': '2025-06-02T13:32:27.566260'}\n",
      "Received: {'sensor': 'temperature', 'value': 19.21, 'unit': '°C', 'timestamp': '2025-06-02T13:32:27.769791'}\n",
      "Received: {'sensor': 'temperature', 'value': 18.77, 'unit': '°C', 'timestamp': '2025-06-02T13:32:27.970788'}\n",
      "Received: {'sensor': 'temperature', 'value': 3.39, 'unit': '°C', 'timestamp': '2025-06-02T13:32:28.173204'}\n",
      "Received: {'sensor': 'temperature', 'value': 29.48, 'unit': '°C', 'timestamp': '2025-06-02T13:32:28.374201'}\n",
      "Received: {'sensor': 'temperature', 'value': 13.84, 'unit': '°C', 'timestamp': '2025-06-02T13:32:28.576981'}\n",
      "Received: {'sensor': 'temperature', 'value': 24.29, 'unit': '°C', 'timestamp': '2025-06-02T13:32:28.778144'}\n",
      "Received: {'sensor': 'temperature', 'value': 9.06, 'unit': '°C', 'timestamp': '2025-06-02T13:32:28.981187'}\n",
      "Received: {'sensor': 'temperature', 'value': 12.81, 'unit': '°C', 'timestamp': '2025-06-02T13:32:29.184596'}\n",
      "Received: {'sensor': 'temperature', 'value': 2.61, 'unit': '°C', 'timestamp': '2025-06-02T13:32:29.385820'}\n",
      "Received: {'sensor': 'temperature', 'value': 22.54, 'unit': '°C', 'timestamp': '2025-06-02T13:32:29.589542'}\n",
      "Received: {'sensor': 'temperature', 'value': 22.02, 'unit': '°C', 'timestamp': '2025-06-02T13:32:29.791775'}\n",
      "Received: {'sensor': 'temperature', 'value': 16.58, 'unit': '°C', 'timestamp': '2025-06-02T13:32:29.992945'}\n",
      "Received: {'sensor': 'temperature', 'value': 25.54, 'unit': '°C', 'timestamp': '2025-06-02T13:32:30.194522'}\n",
      "Received: {'sensor': 'temperature', 'value': 13.07, 'unit': '°C', 'timestamp': '2025-06-02T13:32:30.395614'}\n",
      "Received: {'sensor': 'temperature', 'value': 9.6, 'unit': '°C', 'timestamp': '2025-06-02T13:32:30.597299'}\n",
      "Received: {'sensor': 'temperature', 'value': 13.72, 'unit': '°C', 'timestamp': '2025-06-02T13:32:30.798758'}\n",
      "Received: {'sensor': 'temperature', 'value': 18.55, 'unit': '°C', 'timestamp': '2025-06-02T13:32:31.002117'}\n",
      "Received: {'sensor': 'temperature', 'value': 0.54, 'unit': '°C', 'timestamp': '2025-06-02T13:32:31.203364'}\n",
      "Received: {'sensor': 'temperature', 'value': 3.92, 'unit': '°C', 'timestamp': '2025-06-02T13:32:31.405384'}\n",
      "Received: {'sensor': 'temperature', 'value': 25.21, 'unit': '°C', 'timestamp': '2025-06-02T13:32:31.607452'}\n",
      "Received: {'sensor': 'temperature', 'value': 5.27, 'unit': '°C', 'timestamp': '2025-06-02T13:32:31.808767'}\n",
      "Received: {'sensor': 'temperature', 'value': 13.6, 'unit': '°C', 'timestamp': '2025-06-02T13:32:32.011061'}\n",
      "Received: {'sensor': 'temperature', 'value': 2.06, 'unit': '°C', 'timestamp': '2025-06-02T13:32:32.212683'}\n",
      "Received: {'sensor': 'temperature', 'value': 3.23, 'unit': '°C', 'timestamp': '2025-06-02T13:32:32.416204'}\n",
      "Received: {'sensor': 'temperature', 'value': 22.55, 'unit': '°C', 'timestamp': '2025-06-02T13:32:32.618023'}\n",
      "Received: {'sensor': 'temperature', 'value': 16.89, 'unit': '°C', 'timestamp': '2025-06-02T13:32:32.819149'}\n",
      "Received: {'sensor': 'temperature', 'value': 11.21, 'unit': '°C', 'timestamp': '2025-06-02T13:32:33.021720'}\n",
      "Received: {'sensor': 'temperature', 'value': 11.48, 'unit': '°C', 'timestamp': '2025-06-02T13:32:33.222701'}\n",
      "Received: {'sensor': 'temperature', 'value': 8.13, 'unit': '°C', 'timestamp': '2025-06-02T13:32:33.424533'}\n",
      "Received: {'sensor': 'temperature', 'value': 3.04, 'unit': '°C', 'timestamp': '2025-06-02T13:32:33.626100'}\n",
      "Received: {'sensor': 'temperature', 'value': 1.41, 'unit': '°C', 'timestamp': '2025-06-02T13:32:33.828388'}\n",
      "Received: {'sensor': 'temperature', 'value': 5.23, 'unit': '°C', 'timestamp': '2025-06-02T13:32:34.032122'}\n",
      "Received: {'sensor': 'temperature', 'value': 6.84, 'unit': '°C', 'timestamp': '2025-06-02T13:32:34.243153'}\n",
      "Received: {'sensor': 'temperature', 'value': 28.42, 'unit': '°C', 'timestamp': '2025-06-02T13:32:34.445119'}\n",
      "Received: {'sensor': 'temperature', 'value': 27.38, 'unit': '°C', 'timestamp': '2025-06-02T13:32:34.646775'}\n",
      "Received: {'sensor': 'temperature', 'value': 9.98, 'unit': '°C', 'timestamp': '2025-06-02T13:32:34.849001'}\n",
      "Received: {'sensor': 'temperature', 'value': 19.23, 'unit': '°C', 'timestamp': '2025-06-02T13:32:35.050657'}\n",
      "Received: {'sensor': 'temperature', 'value': 28.84, 'unit': '°C', 'timestamp': '2025-06-02T13:32:35.253065'}\n",
      "Received: {'sensor': 'temperature', 'value': 0.05, 'unit': '°C', 'timestamp': '2025-06-02T13:32:35.454419'}\n",
      "Received: {'sensor': 'temperature', 'value': 17.84, 'unit': '°C', 'timestamp': '2025-06-02T13:32:35.656140'}\n",
      "Received: {'sensor': 'temperature', 'value': 8.83, 'unit': '°C', 'timestamp': '2025-06-02T13:32:35.856975'}\n",
      "Received: {'sensor': 'temperature', 'value': 19.49, 'unit': '°C', 'timestamp': '2025-06-02T13:32:36.059533'}\n",
      "Received: {'sensor': 'temperature', 'value': 13.77, 'unit': '°C', 'timestamp': '2025-06-02T13:32:36.263646'}\n",
      "Received: {'sensor': 'temperature', 'value': 15.21, 'unit': '°C', 'timestamp': '2025-06-02T13:32:36.464589'}\n",
      "Received: {'sensor': 'temperature', 'value': 14.88, 'unit': '°C', 'timestamp': '2025-06-02T13:32:36.666753'}\n",
      "Received: {'sensor': 'temperature', 'value': 8.8, 'unit': '°C', 'timestamp': '2025-06-02T13:32:36.868445'}\n",
      "Received: {'sensor': 'temperature', 'value': 11.3, 'unit': '°C', 'timestamp': '2025-06-02T13:32:37.070569'}\n",
      "Received: {'sensor': 'temperature', 'value': 0.64, 'unit': '°C', 'timestamp': '2025-06-02T13:32:37.272083'}\n",
      "Received: {'sensor': 'temperature', 'value': 28.0, 'unit': '°C', 'timestamp': '2025-06-02T13:32:37.474469'}\n",
      "Received: {'sensor': 'temperature', 'value': 16.49, 'unit': '°C', 'timestamp': '2025-06-02T13:32:37.677111'}\n",
      "Received: {'sensor': 'temperature', 'value': 17.0, 'unit': '°C', 'timestamp': '2025-06-02T13:32:37.879519'}\n",
      "Received: {'sensor': 'temperature', 'value': 8.31, 'unit': '°C', 'timestamp': '2025-06-02T13:32:38.080701'}\n",
      "Received: {'sensor': 'temperature', 'value': 28.53, 'unit': '°C', 'timestamp': '2025-06-02T13:32:38.282856'}\n",
      "Received: {'sensor': 'temperature', 'value': 5.83, 'unit': '°C', 'timestamp': '2025-06-02T13:32:38.484041'}\n",
      "Received: {'sensor': 'temperature', 'value': 27.09, 'unit': '°C', 'timestamp': '2025-06-02T13:32:38.685432'}\n",
      "Received: {'sensor': 'temperature', 'value': 27.56, 'unit': '°C', 'timestamp': '2025-06-02T13:32:38.886578'}\n",
      "Received: {'sensor': 'temperature', 'value': 20.44, 'unit': '°C', 'timestamp': '2025-06-02T13:32:39.088967'}\n",
      "Received: {'sensor': 'temperature', 'value': 25.27, 'unit': '°C', 'timestamp': '2025-06-02T13:32:39.292881'}\n",
      "Received: {'sensor': 'temperature', 'value': 4.19, 'unit': '°C', 'timestamp': '2025-06-02T13:32:39.494121'}\n",
      "Received: {'sensor': 'temperature', 'value': 13.81, 'unit': '°C', 'timestamp': '2025-06-02T13:32:39.699433'}\n",
      "Received: {'sensor': 'temperature', 'value': 8.75, 'unit': '°C', 'timestamp': '2025-06-02T13:32:39.900870'}\n",
      "Received: {'sensor': 'temperature', 'value': 11.84, 'unit': '°C', 'timestamp': '2025-06-02T13:32:40.104097'}\n",
      "Received: {'sensor': 'temperature', 'value': 15.58, 'unit': '°C', 'timestamp': '2025-06-02T13:32:40.305510'}\n",
      "Received: {'sensor': 'temperature', 'value': 25.21, 'unit': '°C', 'timestamp': '2025-06-02T13:32:40.510241'}\n",
      "Received: {'sensor': 'temperature', 'value': 1.37, 'unit': '°C', 'timestamp': '2025-06-02T13:32:40.713566'}\n",
      "Received: {'sensor': 'temperature', 'value': 6.65, 'unit': '°C', 'timestamp': '2025-06-02T13:32:40.914824'}\n",
      "Received: {'sensor': 'temperature', 'value': 3.33, 'unit': '°C', 'timestamp': '2025-06-02T13:32:41.117319'}\n",
      "Received: {'sensor': 'temperature', 'value': 3.09, 'unit': '°C', 'timestamp': '2025-06-02T13:32:41.318890'}\n",
      "Received: {'sensor': 'temperature', 'value': 27.41, 'unit': '°C', 'timestamp': '2025-06-02T13:32:41.521350'}\n",
      "Received: {'sensor': 'temperature', 'value': 24.87, 'unit': '°C', 'timestamp': '2025-06-02T13:32:41.724215'}\n",
      "Received: {'sensor': 'temperature', 'value': 29.48, 'unit': '°C', 'timestamp': '2025-06-02T13:32:41.926050'}\n",
      "Received: {'sensor': 'temperature', 'value': 9.43, 'unit': '°C', 'timestamp': '2025-06-02T13:32:42.128196'}\n",
      "Received: {'sensor': 'temperature', 'value': 1.95, 'unit': '°C', 'timestamp': '2025-06-02T13:32:42.329783'}\n",
      "Received: {'sensor': 'temperature', 'value': 27.38, 'unit': '°C', 'timestamp': '2025-06-02T13:32:42.532463'}\n",
      "Received: {'sensor': 'temperature', 'value': 5.94, 'unit': '°C', 'timestamp': '2025-06-02T13:32:42.733825'}\n",
      "Received: {'sensor': 'temperature', 'value': 15.4, 'unit': '°C', 'timestamp': '2025-06-02T13:32:42.936878'}\n",
      "Received: {'sensor': 'temperature', 'value': 6.97, 'unit': '°C', 'timestamp': '2025-06-02T13:32:43.141046'}\n",
      "Received: {'sensor': 'temperature', 'value': 0.1, 'unit': '°C', 'timestamp': '2025-06-02T13:32:43.342245'}\n",
      "Received: {'sensor': 'temperature', 'value': 29.27, 'unit': '°C', 'timestamp': '2025-06-02T13:32:43.547965'}\n",
      "Received: {'sensor': 'temperature', 'value': 0.67, 'unit': '°C', 'timestamp': '2025-06-02T13:32:43.748923'}\n",
      "Received: {'sensor': 'temperature', 'value': 15.81, 'unit': '°C', 'timestamp': '2025-06-02T13:32:43.951415'}\n",
      "Received: {'sensor': 'temperature', 'value': 15.95, 'unit': '°C', 'timestamp': '2025-06-02T13:32:44.152632'}\n",
      "Received: {'sensor': 'temperature', 'value': 5.81, 'unit': '°C', 'timestamp': '2025-06-02T13:32:44.355670'}\n",
      "Received: {'sensor': 'temperature', 'value': 14.08, 'unit': '°C', 'timestamp': '2025-06-02T13:32:44.556891'}\n",
      "Received: {'sensor': 'temperature', 'value': 7.58, 'unit': '°C', 'timestamp': '2025-06-02T13:32:44.760006'}\n",
      "Received: {'sensor': 'temperature', 'value': 0.58, 'unit': '°C', 'timestamp': '2025-06-02T13:32:44.961350'}\n",
      "Received: {'sensor': 'temperature', 'value': 17.86, 'unit': '°C', 'timestamp': '2025-06-02T13:32:45.163665'}\n",
      "Received: {'sensor': 'temperature', 'value': 6.28, 'unit': '°C', 'timestamp': '2025-06-02T13:32:45.365134'}\n",
      "Received: {'sensor': 'temperature', 'value': 17.76, 'unit': '°C', 'timestamp': '2025-06-02T13:32:45.567372'}\n",
      "Received: {'sensor': 'temperature', 'value': 9.65, 'unit': '°C', 'timestamp': '2025-06-02T13:32:45.769237'}\n",
      "Received: {'sensor': 'temperature', 'value': 1.66, 'unit': '°C', 'timestamp': '2025-06-02T13:32:45.972430'}\n",
      "Received: {'sensor': 'temperature', 'value': 22.78, 'unit': '°C', 'timestamp': '2025-06-02T13:32:46.173970'}\n",
      "Received: {'sensor': 'temperature', 'value': 28.2, 'unit': '°C', 'timestamp': '2025-06-02T13:32:46.375315'}\n",
      "Received: {'sensor': 'temperature', 'value': 28.13, 'unit': '°C', 'timestamp': '2025-06-02T13:32:46.576658'}\n",
      "Received: {'sensor': 'temperature', 'value': 24.57, 'unit': '°C', 'timestamp': '2025-06-02T13:32:46.777777'}\n",
      "Received: {'sensor': 'temperature', 'value': 10.85, 'unit': '°C', 'timestamp': '2025-06-02T13:32:46.978929'}\n"
     ]
    },
    {
     "data": {
      "text/html": [
       "<div>\n",
       "<style scoped>\n",
       "    .dataframe tbody tr th:only-of-type {\n",
       "        vertical-align: middle;\n",
       "    }\n",
       "\n",
       "    .dataframe tbody tr th {\n",
       "        vertical-align: top;\n",
       "    }\n",
       "\n",
       "    .dataframe thead th {\n",
       "        text-align: right;\n",
       "    }\n",
       "</style>\n",
       "<table border=\"1\" class=\"dataframe\">\n",
       "  <thead>\n",
       "    <tr style=\"text-align: right;\">\n",
       "      <th></th>\n",
       "      <th>sensor</th>\n",
       "      <th>value</th>\n",
       "      <th>timestamp</th>\n",
       "      <th>unit</th>\n",
       "    </tr>\n",
       "  </thead>\n",
       "  <tbody>\n",
       "    <tr>\n",
       "      <th>0</th>\n",
       "      <td>test</td>\n",
       "      <td>Test message from Jupyter</td>\n",
       "      <td>2025-06-02T13:32:22.669518</td>\n",
       "      <td>NaN</td>\n",
       "    </tr>\n",
       "    <tr>\n",
       "      <th>1</th>\n",
       "      <td>temperature</td>\n",
       "      <td>8.92</td>\n",
       "      <td>2025-06-02T13:32:26.839797</td>\n",
       "      <td>°C</td>\n",
       "    </tr>\n",
       "    <tr>\n",
       "      <th>2</th>\n",
       "      <td>temperature</td>\n",
       "      <td>29.56</td>\n",
       "      <td>2025-06-02T13:32:27.162315</td>\n",
       "      <td>°C</td>\n",
       "    </tr>\n",
       "    <tr>\n",
       "      <th>3</th>\n",
       "      <td>temperature</td>\n",
       "      <td>24.25</td>\n",
       "      <td>2025-06-02T13:32:27.364947</td>\n",
       "      <td>°C</td>\n",
       "    </tr>\n",
       "    <tr>\n",
       "      <th>4</th>\n",
       "      <td>temperature</td>\n",
       "      <td>29.48</td>\n",
       "      <td>2025-06-02T13:32:27.566260</td>\n",
       "      <td>°C</td>\n",
       "    </tr>\n",
       "    <tr>\n",
       "      <th>...</th>\n",
       "      <td>...</td>\n",
       "      <td>...</td>\n",
       "      <td>...</td>\n",
       "      <td>...</td>\n",
       "    </tr>\n",
       "    <tr>\n",
       "      <th>96</th>\n",
       "      <td>temperature</td>\n",
       "      <td>22.78</td>\n",
       "      <td>2025-06-02T13:32:46.173970</td>\n",
       "      <td>°C</td>\n",
       "    </tr>\n",
       "    <tr>\n",
       "      <th>97</th>\n",
       "      <td>temperature</td>\n",
       "      <td>28.2</td>\n",
       "      <td>2025-06-02T13:32:46.375315</td>\n",
       "      <td>°C</td>\n",
       "    </tr>\n",
       "    <tr>\n",
       "      <th>98</th>\n",
       "      <td>temperature</td>\n",
       "      <td>28.13</td>\n",
       "      <td>2025-06-02T13:32:46.576658</td>\n",
       "      <td>°C</td>\n",
       "    </tr>\n",
       "    <tr>\n",
       "      <th>99</th>\n",
       "      <td>temperature</td>\n",
       "      <td>24.57</td>\n",
       "      <td>2025-06-02T13:32:46.777777</td>\n",
       "      <td>°C</td>\n",
       "    </tr>\n",
       "    <tr>\n",
       "      <th>100</th>\n",
       "      <td>temperature</td>\n",
       "      <td>10.85</td>\n",
       "      <td>2025-06-02T13:32:46.978929</td>\n",
       "      <td>°C</td>\n",
       "    </tr>\n",
       "  </tbody>\n",
       "</table>\n",
       "<p>101 rows × 4 columns</p>\n",
       "</div>"
      ],
      "text/plain": [
       "          sensor                      value                   timestamp unit\n",
       "0           test  Test message from Jupyter  2025-06-02T13:32:22.669518  NaN\n",
       "1    temperature                       8.92  2025-06-02T13:32:26.839797   °C\n",
       "2    temperature                      29.56  2025-06-02T13:32:27.162315   °C\n",
       "3    temperature                      24.25  2025-06-02T13:32:27.364947   °C\n",
       "4    temperature                      29.48  2025-06-02T13:32:27.566260   °C\n",
       "..           ...                        ...                         ...  ...\n",
       "96   temperature                      22.78  2025-06-02T13:32:46.173970   °C\n",
       "97   temperature                       28.2  2025-06-02T13:32:46.375315   °C\n",
       "98   temperature                      28.13  2025-06-02T13:32:46.576658   °C\n",
       "99   temperature                      24.57  2025-06-02T13:32:46.777777   °C\n",
       "100  temperature                      10.85  2025-06-02T13:32:46.978929   °C\n",
       "\n",
       "[101 rows x 4 columns]"
      ]
     },
     "execution_count": 24,
     "metadata": {},
     "output_type": "execute_result"
    }
   ],
   "source": [
    "# Create Kafka consumer\n",
    "consumer = KafkaConsumer(\n",
    "    'measurements',                         # Topic to subscribe to\n",
    "    bootstrap_servers='localhost:9092',     # Kafka broker address\n",
    "    auto_offset_reset='earliest',           # Start from the beginning if no offset is committed\n",
    "    enable_auto_commit=True,                # Automatically commit read offsets\n",
    "    group_id='measurement-consumer-group',  # Consumer group ID (helps track offsets)\n",
    "    value_deserializer=lambda v: json.loads(v.decode('utf-8')),  # Decode and parse JSON messages\n",
    "    consumer_timeout_ms=10000               # Stop after 10 seconds of no new messages\n",
    ")\n",
    "\n",
    "# Read and collect messages \n",
    "records = []\n",
    "for i, message in enumerate(consumer):\n",
    "    records.append(message.value)\n",
    "    print(f\"Received: {message.value}\")\n",
    "\n",
    "# Display as DataFrame\n",
    "measurements_df = pd.DataFrame(records)\n",
    "measurements_df"
   ]
  },
  {
   "cell_type": "markdown",
   "id": "a8ed1809",
   "metadata": {},
   "source": [
    "## Task 6"
   ]
  },
  {
   "cell_type": "markdown",
   "id": "1c2f0bac",
   "metadata": {},
   "source": [
    "Delivered via PDF file."
   ]
  },
  {
   "cell_type": "code",
   "execution_count": null,
   "id": "420c0ea2",
   "metadata": {},
   "outputs": [],
   "source": []
  }
 ],
 "metadata": {
  "kernelspec": {
   "display_name": ".venv",
   "language": "python",
   "name": "python3"
  },
  "language_info": {
   "codemirror_mode": {
    "name": "ipython",
    "version": 3
   },
   "file_extension": ".py",
   "mimetype": "text/x-python",
   "name": "python",
   "nbconvert_exporter": "python",
   "pygments_lexer": "ipython3",
   "version": "3.12.6"
  }
 },
 "nbformat": 4,
 "nbformat_minor": 5
}
