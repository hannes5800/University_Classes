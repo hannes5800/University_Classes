{
 "cells": [
  {
   "cell_type": "markdown",
   "id": "d6569cf7",
   "metadata": {},
   "source": [
    "# Big Data Technologies - NoSQL Databases: MongoDB"
   ]
  },
  {
   "cell_type": "markdown",
   "id": "0844f5b0",
   "metadata": {},
   "source": [
    "MongoDB was installed using Docker with the following command in a terminal:\n",
    "\n",
    "docker run -d -p 27017:27017 --name mongodb mongo:7"
   ]
  },
  {
   "cell_type": "markdown",
   "id": "12e83c38",
   "metadata": {},
   "source": [
    "## Task 1"
   ]
  },
  {
   "cell_type": "code",
   "execution_count": 1,
   "id": "d831ec36",
   "metadata": {},
   "outputs": [
    {
     "name": "stdout",
     "output_type": "stream",
     "text": [
      "mongodb\n"
     ]
    }
   ],
   "source": [
    "# Start container if needed\n",
    "!docker start mongodb"
   ]
  },
  {
   "cell_type": "markdown",
   "id": "e30d6ca4",
   "metadata": {},
   "source": [
    "## Task 2"
   ]
  },
  {
   "cell_type": "markdown",
   "id": "db179624",
   "metadata": {},
   "source": [
    "The MongoDB database and collection were created using the Shell with these commands:\n",
    "\n",
    "1. docker exec -it mongodb mongosh\n",
    "2. use university\n",
    "3. db.createCollection(\"students\")\n"
   ]
  },
  {
   "cell_type": "markdown",
   "id": "6c3b862f",
   "metadata": {},
   "source": [
    "## Task 3"
   ]
  },
  {
   "cell_type": "markdown",
   "id": "f8cbea91",
   "metadata": {},
   "source": [
    "Step 1: Install MongoDB Python Client Library:"
   ]
  },
  {
   "cell_type": "code",
   "execution_count": 4,
   "id": "198975b8",
   "metadata": {},
   "outputs": [
    {
     "name": "stdout",
     "output_type": "stream",
     "text": [
      "Collecting pymongo\n",
      "  Using cached pymongo-4.12.1-cp312-cp312-win_amd64.whl.metadata (22 kB)\n",
      "Collecting dnspython<3.0.0,>=1.16.0 (from pymongo)\n",
      "  Using cached dnspython-2.7.0-py3-none-any.whl.metadata (5.8 kB)\n",
      "Using cached pymongo-4.12.1-cp312-cp312-win_amd64.whl (897 kB)\n",
      "Using cached dnspython-2.7.0-py3-none-any.whl (313 kB)\n",
      "Installing collected packages: dnspython, pymongo\n",
      "Successfully installed dnspython-2.7.0 pymongo-4.12.1\n"
     ]
    },
    {
     "name": "stderr",
     "output_type": "stream",
     "text": [
      "\n",
      "[notice] A new release of pip is available: 24.2 -> 25.1.1\n",
      "[notice] To update, run: python.exe -m pip install --upgrade pip\n"
     ]
    }
   ],
   "source": [
    "import pip\n",
    "from gettext import install\n",
    "!pip install pymongo"
   ]
  },
  {
   "cell_type": "markdown",
   "id": "48c2e6aa",
   "metadata": {},
   "source": [
    "Step 2: Import all packages for the subsequent steps and task:"
   ]
  },
  {
   "cell_type": "code",
   "execution_count": 70,
   "id": "356aae37",
   "metadata": {},
   "outputs": [
    {
     "name": "stdout",
     "output_type": "stream",
     "text": [
      "Imported all packages!\n"
     ]
    }
   ],
   "source": [
    "from pymongo import MongoClient\n",
    "from pymongo.errors import ConnectionFailure\n",
    "from faker import Faker\n",
    "import random\n",
    "import pandas as pd\n",
    "\n",
    "print(\"Imported all packages!\")"
   ]
  },
  {
   "cell_type": "markdown",
   "id": "557f150e",
   "metadata": {},
   "source": [
    "Step 3: Test the database connection. **Note:** For security reasons, the API token is read from an external file ('MongoDB_API.txt'), which is not included in this submission:"
   ]
  },
  {
   "cell_type": "code",
   "execution_count": 71,
   "id": "0775992d",
   "metadata": {},
   "outputs": [
    {
     "name": "stdout",
     "output_type": "stream",
     "text": [
      "Connection to MongoDB was successful.\n",
      "Databases: ['admin', 'config', 'local', 'university']\n",
      "Collections in 'university': ['students']\n"
     ]
    }
   ],
   "source": [
    "try:\n",
    "    # Connect to MongoDB\n",
    "    client = MongoClient(\"mongodb://localhost:27017/\", serverSelectionTimeoutMS=3000)\n",
    "\n",
    "    # Force connection by pinging the server\n",
    "    client.admin.command(\"ping\")\n",
    "\n",
    "    # Access database and collection\n",
    "    db = client[\"university\"]\n",
    "    collection = db[\"students\"]\n",
    "\n",
    "    print(\"Connection to MongoDB was successful.\")\n",
    "    print(\"Databases:\", client.list_database_names())\n",
    "    print(\"Collections in 'university':\", db.list_collection_names())\n",
    "\n",
    "except ConnectionFailure:\n",
    "    print(\"Failed to connect to MongoDB.\")"
   ]
  },
  {
   "cell_type": "markdown",
   "id": "1f436bfb",
   "metadata": {},
   "source": [
    "## Task 4"
   ]
  },
  {
   "cell_type": "markdown",
   "id": "9733473e",
   "metadata": {},
   "source": [
    "Create random JSON-style documents. 200 random student documents are generated using the 'faker' library and stored in a list.  \n",
    "Each document includes: 'student_id', 'ame', 'age', 'major', and 'grade'."
   ]
  },
  {
   "cell_type": "code",
   "execution_count": null,
   "id": "bfe2f44b",
   "metadata": {},
   "outputs": [
    {
     "name": "stdout",
     "output_type": "stream",
     "text": [
      "{'student_id': 315275, 'name': 'Jennifer Johnson', 'age': 28, 'program': 'Computer Science', 'grade': 4.08}\n",
      "{'student_id': 880015, 'name': 'Leslie Mendez', 'age': 27, 'program': 'Mathematics', 'grade': 4.12}\n",
      "{'student_id': 984245, 'name': 'Pamela Nguyen', 'age': 27, 'program': 'Computer Science', 'grade': 2.65}\n",
      "{'student_id': 289131, 'name': 'Jodi Dunn', 'age': 29, 'program': 'Data Science', 'grade': 1.77}\n",
      "{'student_id': 982494, 'name': 'Dan Hartman', 'age': 23, 'program': 'Data Science', 'grade': 1.47}\n",
      "{'student_id': 440893, 'name': 'Nancy Gibson', 'age': 23, 'program': 'Data Science', 'grade': 2.97}\n",
      "{'student_id': 215396, 'name': 'Brandon Travis', 'age': 28, 'program': 'Data Science', 'grade': 1.86}\n",
      "{'student_id': 961264, 'name': 'Luis Ford', 'age': 27, 'program': 'Computer Science', 'grade': 4.4}\n",
      "{'student_id': 549186, 'name': 'Grant Mills', 'age': 27, 'program': 'Finance', 'grade': 1.65}\n",
      "{'student_id': 301362, 'name': 'Brian Smith', 'age': 30, 'program': 'Mathematics', 'grade': 1.46}\n",
      "{'student_id': 516135, 'name': 'Mark Bennett', 'age': 23, 'program': 'Data Science', 'grade': 2.08}\n",
      "{'student_id': 182522, 'name': 'Catherine Lane', 'age': 26, 'program': 'Finance', 'grade': 2.12}\n",
      "{'student_id': 384112, 'name': 'Natalie Lee', 'age': 25, 'program': 'Computer Science', 'grade': 1.56}\n",
      "{'student_id': 635005, 'name': 'Ann Taylor', 'age': 27, 'program': 'Computer Science', 'grade': 1.58}\n",
      "{'student_id': 893123, 'name': 'Jamie Dunn', 'age': 29, 'program': 'Data Science', 'grade': 4.01}\n",
      "{'student_id': 742103, 'name': 'Kim Fuller', 'age': 21, 'program': 'Finance', 'grade': 4.26}\n",
      "{'student_id': 127037, 'name': 'David Fields', 'age': 27, 'program': 'Mathematics', 'grade': 3.41}\n",
      "{'student_id': 516176, 'name': 'Jaime Guerra', 'age': 21, 'program': 'Biology', 'grade': 3.4}\n",
      "{'student_id': 544341, 'name': 'Tiffany Velazquez', 'age': 22, 'program': 'Biology', 'grade': 4.24}\n",
      "{'student_id': 737684, 'name': 'Erica Ward', 'age': 27, 'program': 'Economics', 'grade': 4.62}\n",
      "{'student_id': 604422, 'name': 'Laura Ramsey', 'age': 19, 'program': 'Biology', 'grade': 2.32}\n",
      "{'student_id': 604245, 'name': 'Linda Herrera MD', 'age': 23, 'program': 'Economics', 'grade': 1.69}\n",
      "{'student_id': 314086, 'name': 'Misty Jones', 'age': 27, 'program': 'History', 'grade': 3.4}\n",
      "{'student_id': 152797, 'name': 'Mrs. Patricia Fox', 'age': 23, 'program': 'Data Science', 'grade': 1.21}\n",
      "{'student_id': 245780, 'name': 'Elizabeth Wagner', 'age': 25, 'program': 'Data Science', 'grade': 4.9}\n",
      "{'student_id': 921505, 'name': 'Becky Shelton', 'age': 21, 'program': 'Mathematics', 'grade': 2.46}\n",
      "{'student_id': 585296, 'name': 'Amanda Young', 'age': 21, 'program': 'Biology', 'grade': 2.39}\n",
      "{'student_id': 868327, 'name': 'Michael Brown', 'age': 25, 'program': 'Biology', 'grade': 3.71}\n",
      "{'student_id': 627112, 'name': 'Emily Leblanc', 'age': 27, 'program': 'Finance', 'grade': 4.94}\n",
      "{'student_id': 876786, 'name': 'Debbie Valenzuela MD', 'age': 25, 'program': 'Economics', 'grade': 1.84}\n",
      "{'student_id': 667335, 'name': 'Michael Newton', 'age': 21, 'program': 'Economics', 'grade': 1.82}\n",
      "{'student_id': 477717, 'name': 'Norman Sweeney', 'age': 21, 'program': 'Economics', 'grade': 3.59}\n",
      "{'student_id': 384017, 'name': 'Scott Clayton', 'age': 23, 'program': 'History', 'grade': 1.82}\n",
      "{'student_id': 679756, 'name': 'Jose Collins', 'age': 20, 'program': 'Mathematics', 'grade': 3.09}\n",
      "{'student_id': 165540, 'name': 'Nancy Guerra', 'age': 29, 'program': 'History', 'grade': 2.34}\n",
      "{'student_id': 298538, 'name': 'Jennifer Mcdonald', 'age': 18, 'program': 'History', 'grade': 2.64}\n",
      "{'student_id': 598285, 'name': 'James Coleman', 'age': 25, 'program': 'Mathematics', 'grade': 1.63}\n",
      "{'student_id': 996755, 'name': 'James Palmer', 'age': 19, 'program': 'Mathematics', 'grade': 1.98}\n",
      "{'student_id': 414742, 'name': 'Ruben Barker', 'age': 18, 'program': 'Economics', 'grade': 4.31}\n",
      "{'student_id': 579994, 'name': 'Julia Coleman', 'age': 21, 'program': 'History', 'grade': 3.12}\n",
      "{'student_id': 651274, 'name': 'Brittany Young', 'age': 21, 'program': 'Data Science', 'grade': 1.56}\n",
      "{'student_id': 232580, 'name': 'Sandra Martinez', 'age': 24, 'program': 'Data Science', 'grade': 4.04}\n",
      "{'student_id': 148813, 'name': 'Edward Reese', 'age': 19, 'program': 'Finance', 'grade': 2.61}\n",
      "{'student_id': 802049, 'name': 'Ronnie Garcia', 'age': 27, 'program': 'History', 'grade': 1.11}\n",
      "{'student_id': 243106, 'name': 'Arthur Estes', 'age': 28, 'program': 'Mathematics', 'grade': 4.51}\n",
      "{'student_id': 458309, 'name': 'Sheri Thompson', 'age': 25, 'program': 'Finance', 'grade': 1.29}\n",
      "{'student_id': 193107, 'name': 'Derek Daniel', 'age': 22, 'program': 'Biology', 'grade': 4.25}\n",
      "{'student_id': 378058, 'name': 'Scott Robinson', 'age': 30, 'program': 'Mathematics', 'grade': 1.76}\n",
      "{'student_id': 356002, 'name': 'Stacy Payne', 'age': 28, 'program': 'Computer Science', 'grade': 1.92}\n",
      "{'student_id': 945498, 'name': 'Randy Harvey', 'age': 29, 'program': 'Economics', 'grade': 3.88}\n",
      "{'student_id': 985742, 'name': 'Melissa Daniels', 'age': 30, 'program': 'Finance', 'grade': 2.88}\n",
      "{'student_id': 156197, 'name': 'Edward Christensen', 'age': 29, 'program': 'Economics', 'grade': 1.29}\n",
      "{'student_id': 218955, 'name': 'Kyle Fowler', 'age': 19, 'program': 'Mathematics', 'grade': 4.04}\n",
      "{'student_id': 402531, 'name': 'Jessica Navarro', 'age': 30, 'program': 'Economics', 'grade': 2.48}\n",
      "{'student_id': 518646, 'name': 'Joseph Gonzalez', 'age': 28, 'program': 'History', 'grade': 2.72}\n",
      "{'student_id': 418049, 'name': 'Edward Meyers', 'age': 27, 'program': 'Data Science', 'grade': 2.42}\n",
      "{'student_id': 310228, 'name': 'Brian Ford', 'age': 20, 'program': 'Mathematics', 'grade': 2.66}\n",
      "{'student_id': 352699, 'name': 'Sharon Snyder', 'age': 30, 'program': 'Data Science', 'grade': 3.35}\n",
      "{'student_id': 711775, 'name': 'Paige Wheeler', 'age': 29, 'program': 'Economics', 'grade': 1.91}\n",
      "{'student_id': 128936, 'name': 'Phillip Wells PhD', 'age': 21, 'program': 'Computer Science', 'grade': 3.08}\n",
      "{'student_id': 825917, 'name': 'Adam Holmes', 'age': 26, 'program': 'Finance', 'grade': 1.42}\n",
      "{'student_id': 699271, 'name': 'Troy Edwards', 'age': 19, 'program': 'History', 'grade': 1.25}\n",
      "{'student_id': 809008, 'name': 'Christina Guzman', 'age': 22, 'program': 'Economics', 'grade': 4.36}\n",
      "{'student_id': 501598, 'name': 'Jessica Dunlap', 'age': 19, 'program': 'Data Science', 'grade': 3.55}\n",
      "{'student_id': 653634, 'name': 'Briana Boyd', 'age': 30, 'program': 'Computer Science', 'grade': 2.22}\n",
      "{'student_id': 539970, 'name': 'Richard Diaz', 'age': 24, 'program': 'Finance', 'grade': 4.38}\n",
      "{'student_id': 640283, 'name': 'Jonathan Martin', 'age': 19, 'program': 'Finance', 'grade': 3.53}\n",
      "{'student_id': 146653, 'name': 'Jillian Krueger', 'age': 24, 'program': 'Computer Science', 'grade': 3.58}\n",
      "{'student_id': 263398, 'name': 'David Jones', 'age': 22, 'program': 'Finance', 'grade': 3.99}\n",
      "{'student_id': 418319, 'name': 'Michael Young', 'age': 20, 'program': 'History', 'grade': 2.33}\n",
      "{'student_id': 464129, 'name': 'Douglas Cline', 'age': 22, 'program': 'Data Science', 'grade': 3.33}\n",
      "{'student_id': 825789, 'name': 'William Vasquez', 'age': 19, 'program': 'Economics', 'grade': 4.16}\n",
      "{'student_id': 301819, 'name': 'Stephen Odonnell', 'age': 27, 'program': 'Economics', 'grade': 1.88}\n",
      "{'student_id': 315229, 'name': 'Rose Robinson', 'age': 18, 'program': 'Finance', 'grade': 1.31}\n",
      "{'student_id': 581977, 'name': 'Roy Morris', 'age': 24, 'program': 'History', 'grade': 1.91}\n",
      "{'student_id': 536959, 'name': 'Kyle Norman', 'age': 26, 'program': 'Economics', 'grade': 4.81}\n",
      "{'student_id': 833970, 'name': 'Richard Johnson', 'age': 28, 'program': 'History', 'grade': 3.74}\n",
      "{'student_id': 641150, 'name': 'Travis King', 'age': 22, 'program': 'Data Science', 'grade': 4.61}\n",
      "{'student_id': 350287, 'name': 'Michael Jones', 'age': 29, 'program': 'Computer Science', 'grade': 2.81}\n",
      "{'student_id': 816774, 'name': 'Victor Bridges', 'age': 21, 'program': 'History', 'grade': 1.26}\n",
      "{'student_id': 465811, 'name': 'William Riggs', 'age': 21, 'program': 'Mathematics', 'grade': 1.26}\n",
      "{'student_id': 794717, 'name': 'Christopher Chase', 'age': 30, 'program': 'History', 'grade': 2.45}\n",
      "{'student_id': 875047, 'name': 'Christopher Miller', 'age': 20, 'program': 'Economics', 'grade': 1.12}\n",
      "{'student_id': 615126, 'name': 'Tonya Garcia', 'age': 18, 'program': 'Economics', 'grade': 3.54}\n",
      "{'student_id': 786784, 'name': 'Joe Alvarado', 'age': 24, 'program': 'Data Science', 'grade': 1.51}\n",
      "{'student_id': 924090, 'name': 'Henry Rodriguez', 'age': 26, 'program': 'Finance', 'grade': 3.02}\n",
      "{'student_id': 296985, 'name': 'Matthew Harris', 'age': 27, 'program': 'Computer Science', 'grade': 4.57}\n",
      "{'student_id': 195251, 'name': 'Thomas Douglas', 'age': 21, 'program': 'Data Science', 'grade': 1.77}\n",
      "{'student_id': 375499, 'name': 'Diana Adams', 'age': 19, 'program': 'Economics', 'grade': 1.15}\n",
      "{'student_id': 601394, 'name': 'Jason Solomon', 'age': 27, 'program': 'Economics', 'grade': 3.83}\n",
      "{'student_id': 576716, 'name': 'Benjamin Smith', 'age': 21, 'program': 'History', 'grade': 1.56}\n",
      "{'student_id': 965288, 'name': 'Christopher Park', 'age': 28, 'program': 'Biology', 'grade': 2.91}\n",
      "{'student_id': 100873, 'name': 'Donna Delgado', 'age': 25, 'program': 'Biology', 'grade': 1.29}\n",
      "{'student_id': 176217, 'name': 'Michelle Ryan', 'age': 29, 'program': 'Economics', 'grade': 4.68}\n",
      "{'student_id': 807783, 'name': 'Richard Hill', 'age': 27, 'program': 'Economics', 'grade': 3.98}\n",
      "{'student_id': 838231, 'name': 'John Sanchez', 'age': 29, 'program': 'Data Science', 'grade': 4.97}\n",
      "{'student_id': 265564, 'name': 'Brian Henderson', 'age': 21, 'program': 'History', 'grade': 3.52}\n",
      "{'student_id': 223994, 'name': 'Casey Watkins', 'age': 25, 'program': 'Finance', 'grade': 1.77}\n",
      "{'student_id': 244884, 'name': 'Christopher King', 'age': 19, 'program': 'Finance', 'grade': 4.03}\n",
      "{'student_id': 883729, 'name': 'James Lopez', 'age': 28, 'program': 'Computer Science', 'grade': 1.55}\n",
      "{'student_id': 552860, 'name': 'Jeremy Barron', 'age': 22, 'program': 'Biology', 'grade': 1.09}\n",
      "{'student_id': 258099, 'name': 'Matthew Adams', 'age': 27, 'program': 'Economics', 'grade': 1.37}\n",
      "{'student_id': 696933, 'name': 'Ms. Angela Matthews DVM', 'age': 25, 'program': 'Mathematics', 'grade': 1.82}\n",
      "{'student_id': 210773, 'name': 'Robert Herrera', 'age': 29, 'program': 'Biology', 'grade': 3.42}\n",
      "{'student_id': 651661, 'name': 'Randy Young', 'age': 18, 'program': 'Economics', 'grade': 1.38}\n",
      "{'student_id': 531501, 'name': 'Tiffany Grant', 'age': 18, 'program': 'Data Science', 'grade': 1.3}\n",
      "{'student_id': 825031, 'name': 'Edward Juarez', 'age': 24, 'program': 'History', 'grade': 4.47}\n",
      "{'student_id': 746079, 'name': 'Nancy Henderson', 'age': 25, 'program': 'Mathematics', 'grade': 4.2}\n",
      "{'student_id': 134531, 'name': 'Stephanie Gonzalez', 'age': 20, 'program': 'Finance', 'grade': 2.15}\n",
      "{'student_id': 206553, 'name': 'Mason Gonzalez DDS', 'age': 25, 'program': 'Mathematics', 'grade': 4.43}\n",
      "{'student_id': 435844, 'name': 'David Garcia', 'age': 29, 'program': 'History', 'grade': 4.51}\n",
      "{'student_id': 397370, 'name': 'Kerri Hill', 'age': 18, 'program': 'Computer Science', 'grade': 3.84}\n",
      "{'student_id': 716269, 'name': 'Brian Davenport', 'age': 29, 'program': 'Mathematics', 'grade': 1.85}\n",
      "{'student_id': 601702, 'name': 'Terri Benson', 'age': 21, 'program': 'Computer Science', 'grade': 1.89}\n",
      "{'student_id': 886546, 'name': 'Dr. Jessica Stevens', 'age': 29, 'program': 'Mathematics', 'grade': 3.7}\n",
      "{'student_id': 690226, 'name': 'Taylor Larson', 'age': 29, 'program': 'Computer Science', 'grade': 4.47}\n",
      "{'student_id': 359894, 'name': 'Jesus Thomas', 'age': 29, 'program': 'Computer Science', 'grade': 3.76}\n",
      "{'student_id': 234770, 'name': 'Andrew Davis', 'age': 21, 'program': 'Biology', 'grade': 3.97}\n",
      "{'student_id': 431341, 'name': 'Peter Hernandez', 'age': 18, 'program': 'Finance', 'grade': 1.24}\n",
      "{'student_id': 576590, 'name': 'Dakota Shields', 'age': 25, 'program': 'Computer Science', 'grade': 1.26}\n",
      "{'student_id': 593912, 'name': 'Steve Parsons', 'age': 24, 'program': 'Biology', 'grade': 3.19}\n",
      "{'student_id': 949628, 'name': 'Angela Gilbert', 'age': 18, 'program': 'Mathematics', 'grade': 4.2}\n",
      "{'student_id': 301178, 'name': 'Maria Hancock', 'age': 29, 'program': 'Computer Science', 'grade': 1.08}\n",
      "{'student_id': 515154, 'name': 'Alicia Morris', 'age': 25, 'program': 'Mathematics', 'grade': 1.28}\n",
      "{'student_id': 374347, 'name': 'Christopher Lynn', 'age': 30, 'program': 'History', 'grade': 1.02}\n",
      "{'student_id': 464336, 'name': 'Catherine Jackson', 'age': 22, 'program': 'Computer Science', 'grade': 4.25}\n",
      "{'student_id': 550848, 'name': 'Carly Vasquez', 'age': 21, 'program': 'Computer Science', 'grade': 3.38}\n",
      "{'student_id': 532517, 'name': 'Charles Abbott', 'age': 22, 'program': 'Data Science', 'grade': 4.3}\n",
      "{'student_id': 483331, 'name': 'Gary Bush', 'age': 27, 'program': 'Economics', 'grade': 2.68}\n",
      "{'student_id': 185668, 'name': 'Melissa Kim', 'age': 19, 'program': 'Biology', 'grade': 3.77}\n",
      "{'student_id': 677346, 'name': 'Troy Suarez', 'age': 23, 'program': 'Economics', 'grade': 2.12}\n",
      "{'student_id': 247674, 'name': 'Diane Anderson', 'age': 20, 'program': 'Economics', 'grade': 3.56}\n",
      "{'student_id': 842650, 'name': 'Andrea Moran', 'age': 30, 'program': 'Computer Science', 'grade': 3.58}\n",
      "{'student_id': 551595, 'name': 'Monica Smith', 'age': 22, 'program': 'Economics', 'grade': 4.33}\n",
      "{'student_id': 924626, 'name': 'Amy Hutchinson', 'age': 19, 'program': 'Computer Science', 'grade': 4.59}\n",
      "{'student_id': 737001, 'name': 'Joshua Hutchinson', 'age': 28, 'program': 'Data Science', 'grade': 4.11}\n",
      "{'student_id': 315940, 'name': 'Debra Woods', 'age': 29, 'program': 'History', 'grade': 3.66}\n",
      "{'student_id': 845255, 'name': 'Alicia Oconnell', 'age': 30, 'program': 'Mathematics', 'grade': 1.14}\n",
      "{'student_id': 727915, 'name': 'Kendra Cohen', 'age': 23, 'program': 'Data Science', 'grade': 4.78}\n",
      "{'student_id': 885059, 'name': 'Antonio Hall', 'age': 26, 'program': 'Finance', 'grade': 3.88}\n",
      "{'student_id': 492081, 'name': 'Melinda Summers', 'age': 28, 'program': 'Mathematics', 'grade': 3.17}\n",
      "{'student_id': 989747, 'name': 'Kimberly Stein', 'age': 22, 'program': 'Mathematics', 'grade': 1.11}\n",
      "{'student_id': 971070, 'name': 'Mrs. Danielle Ray', 'age': 18, 'program': 'Data Science', 'grade': 2.91}\n",
      "{'student_id': 335305, 'name': 'John Mclaughlin', 'age': 25, 'program': 'Computer Science', 'grade': 4.44}\n",
      "{'student_id': 675209, 'name': 'Diane Sanchez', 'age': 23, 'program': 'Biology', 'grade': 3.51}\n",
      "{'student_id': 602941, 'name': 'Tamara Bentley', 'age': 19, 'program': 'Biology', 'grade': 3.07}\n",
      "{'student_id': 511754, 'name': 'Danielle Rivera', 'age': 22, 'program': 'Computer Science', 'grade': 3.84}\n",
      "{'student_id': 310291, 'name': 'Anthony Ramirez', 'age': 23, 'program': 'Finance', 'grade': 2.4}\n",
      "{'student_id': 574023, 'name': 'Kenneth Jordan', 'age': 28, 'program': 'Computer Science', 'grade': 3.0}\n",
      "{'student_id': 996775, 'name': 'Paul Evans', 'age': 27, 'program': 'Computer Science', 'grade': 4.01}\n",
      "{'student_id': 133683, 'name': 'Joseph Jones', 'age': 20, 'program': 'Mathematics', 'grade': 2.93}\n",
      "{'student_id': 400554, 'name': 'Connie Jones', 'age': 19, 'program': 'Mathematics', 'grade': 3.42}\n",
      "{'student_id': 209965, 'name': 'Carlos Johnson', 'age': 23, 'program': 'History', 'grade': 2.0}\n",
      "{'student_id': 971299, 'name': 'Dr. Stephanie Gonzales', 'age': 28, 'program': 'Finance', 'grade': 1.03}\n",
      "{'student_id': 255553, 'name': 'Larry Castillo', 'age': 23, 'program': 'Finance', 'grade': 2.94}\n",
      "{'student_id': 783910, 'name': 'Patrick Avery', 'age': 30, 'program': 'Economics', 'grade': 1.27}\n",
      "{'student_id': 554319, 'name': 'Denise Huerta', 'age': 20, 'program': 'Biology', 'grade': 3.65}\n",
      "{'student_id': 674658, 'name': 'Dylan Soto', 'age': 22, 'program': 'History', 'grade': 4.97}\n",
      "{'student_id': 671686, 'name': 'Nicole Black', 'age': 18, 'program': 'Finance', 'grade': 2.22}\n",
      "{'student_id': 630267, 'name': 'Tammy Porter', 'age': 26, 'program': 'Computer Science', 'grade': 2.35}\n",
      "{'student_id': 571893, 'name': 'Cassandra Howard', 'age': 25, 'program': 'Finance', 'grade': 4.94}\n",
      "{'student_id': 351071, 'name': 'Tyrone Butler', 'age': 24, 'program': 'Data Science', 'grade': 2.03}\n",
      "{'student_id': 736544, 'name': 'Sydney Clark', 'age': 27, 'program': 'Data Science', 'grade': 1.93}\n",
      "{'student_id': 405821, 'name': 'Aaron Gonzales', 'age': 20, 'program': 'Biology', 'grade': 3.65}\n",
      "{'student_id': 423932, 'name': 'Julie Johnson', 'age': 25, 'program': 'Biology', 'grade': 2.27}\n",
      "{'student_id': 115896, 'name': 'Christopher Scott', 'age': 24, 'program': 'Mathematics', 'grade': 1.44}\n",
      "{'student_id': 110570, 'name': 'William Nielsen', 'age': 22, 'program': 'Mathematics', 'grade': 4.32}\n",
      "{'student_id': 629606, 'name': 'Richard Downs', 'age': 20, 'program': 'Economics', 'grade': 1.08}\n",
      "{'student_id': 846639, 'name': 'Benjamin Stone', 'age': 26, 'program': 'History', 'grade': 1.03}\n",
      "{'student_id': 752036, 'name': 'Steven Grant', 'age': 18, 'program': 'Biology', 'grade': 4.57}\n",
      "{'student_id': 465036, 'name': 'Stephen Johnson', 'age': 19, 'program': 'Biology', 'grade': 4.94}\n",
      "{'student_id': 838674, 'name': 'David Brown', 'age': 26, 'program': 'Data Science', 'grade': 2.54}\n",
      "{'student_id': 837591, 'name': 'Jeanne Elliott', 'age': 19, 'program': 'History', 'grade': 3.21}\n",
      "{'student_id': 767550, 'name': 'Meagan King', 'age': 21, 'program': 'Mathematics', 'grade': 4.5}\n",
      "{'student_id': 427800, 'name': 'Melissa Olsen', 'age': 23, 'program': 'Economics', 'grade': 1.1}\n",
      "{'student_id': 444809, 'name': 'Jerry Rodriguez', 'age': 26, 'program': 'Data Science', 'grade': 1.55}\n",
      "{'student_id': 187631, 'name': 'James Lopez', 'age': 29, 'program': 'History', 'grade': 3.23}\n",
      "{'student_id': 849492, 'name': 'Hailey Gonzales', 'age': 26, 'program': 'Economics', 'grade': 3.02}\n",
      "{'student_id': 556511, 'name': 'Dana Porter', 'age': 19, 'program': 'History', 'grade': 3.18}\n",
      "{'student_id': 578597, 'name': 'John Cooper', 'age': 26, 'program': 'Mathematics', 'grade': 1.01}\n",
      "{'student_id': 425901, 'name': 'Benjamin Mcgrath', 'age': 23, 'program': 'Computer Science', 'grade': 3.87}\n",
      "{'student_id': 505475, 'name': 'Jordan Ortega', 'age': 19, 'program': 'History', 'grade': 3.73}\n",
      "{'student_id': 393128, 'name': 'Jason Hull', 'age': 28, 'program': 'Computer Science', 'grade': 2.25}\n",
      "{'student_id': 473312, 'name': 'Curtis Knapp', 'age': 18, 'program': 'Computer Science', 'grade': 3.48}\n",
      "{'student_id': 250014, 'name': 'Sarah Washington', 'age': 20, 'program': 'History', 'grade': 1.5}\n",
      "{'student_id': 265400, 'name': 'Andrew Jones', 'age': 23, 'program': 'Data Science', 'grade': 2.94}\n",
      "{'student_id': 476888, 'name': 'Michael Morrison', 'age': 28, 'program': 'Economics', 'grade': 2.25}\n",
      "{'student_id': 528418, 'name': 'Kyle Sanchez', 'age': 22, 'program': 'Finance', 'grade': 4.43}\n",
      "{'student_id': 506268, 'name': 'John Mcintosh', 'age': 22, 'program': 'History', 'grade': 4.97}\n",
      "{'student_id': 696753, 'name': 'Brittany Carroll', 'age': 29, 'program': 'Economics', 'grade': 1.9}\n",
      "{'student_id': 527019, 'name': 'Julie Miller', 'age': 27, 'program': 'Mathematics', 'grade': 1.72}\n",
      "{'student_id': 869883, 'name': 'Mrs. Melissa Durham', 'age': 30, 'program': 'Biology', 'grade': 2.07}\n",
      "{'student_id': 827607, 'name': 'Matthew Reid', 'age': 22, 'program': 'Data Science', 'grade': 2.24}\n",
      "{'student_id': 893676, 'name': 'Marco Acosta', 'age': 22, 'program': 'Mathematics', 'grade': 1.32}\n",
      "{'student_id': 252930, 'name': 'Michael Martinez', 'age': 22, 'program': 'Finance', 'grade': 4.45}\n",
      "{'student_id': 737063, 'name': 'Tiffany Spencer', 'age': 18, 'program': 'Economics', 'grade': 4.36}\n",
      "{'student_id': 674765, 'name': 'Joseph Erickson', 'age': 29, 'program': 'Data Science', 'grade': 3.72}\n",
      "{'student_id': 237463, 'name': 'Katherine Davis', 'age': 22, 'program': 'Computer Science', 'grade': 2.84}\n",
      "{'student_id': 710472, 'name': 'Angel Howard', 'age': 30, 'program': 'Biology', 'grade': 1.81}\n",
      "{'student_id': 953727, 'name': 'Jeremy Keller', 'age': 24, 'program': 'Data Science', 'grade': 2.8}\n"
     ]
    }
   ],
   "source": [
    "# Generate fake student data\n",
    "faker = Faker()\n",
    "programs = [\"Computer Science\", \"Mathematics\", \"Data Science\",  \"Finance\", \"Economics\", \"Biology\", \"History\"]\n",
    "# Generate 200 unique 6-digit student IDs\n",
    "student_ids = random.sample(range(100000, 999999), 200)\n",
    "\n",
    "students = []\n",
    "for student_id in student_ids:\n",
    "    student = {\n",
    "        \"student_id\": student_id,\n",
    "        \"name\": faker.name(),\n",
    "        \"age\": random.randint(18, 30),\n",
    "        \"program\": random.choice(programs),\n",
    "        \"grade\": round(random.uniform(1.0, 5.0), 2)\n",
    "    }\n",
    "    students.append(student)\n",
    "\n",
    "# Show entries\n",
    "for s in students:\n",
    "    print(s)"
   ]
  },
  {
   "cell_type": "markdown",
   "id": "3ff27966",
   "metadata": {},
   "source": [
    "## Task 5"
   ]
  },
  {
   "cell_type": "markdown",
   "id": "42ad307d",
   "metadata": {},
   "source": [
    "Step 1: **Insert** all 200 documents"
   ]
  },
  {
   "cell_type": "code",
   "execution_count": 73,
   "id": "26a5852d",
   "metadata": {},
   "outputs": [
    {
     "name": "stdout",
     "output_type": "stream",
     "text": [
      "Inserted 200 student documents.\n",
      "Total documents in collection 'students': 200\n"
     ]
    }
   ],
   "source": [
    "# Insert the student documents into MongoDB\n",
    "insert_result = collection.insert_many(students) # collection defined in step 2 of task 3 \n",
    "print(f\"Inserted {len(insert_result.inserted_ids)} student documents.\")\n",
    "\n",
    "# Real check if the documents are in the database\n",
    "count = collection.count_documents({})\n",
    "print(f\"Total documents in collection 'students': {count}\")"
   ]
  },
  {
   "cell_type": "markdown",
   "id": "f7427626",
   "metadata": {},
   "source": [
    "Step 2: **Update** all 'Mathematics' students by improving their grade by 0.3 (improving meaning decreasing by 0.3)"
   ]
  },
  {
   "cell_type": "code",
   "execution_count": 74,
   "id": "3b61bb51",
   "metadata": {},
   "outputs": [
    {
     "name": "stdout",
     "output_type": "stream",
     "text": [
      "Grades for first 3 Mathematics students before update:\n",
      "ID: 880015, grade: 4.12\n",
      "ID: 301362, grade: 1.46\n",
      "ID: 127037, grade: 3.41\n",
      "\n",
      "Grades for first 3 Mathematics students after update::\n",
      "ID: 880015, grade: 3.82\n",
      "ID: 301362, grade: 1.16\n",
      "ID: 127037, grade: 3.11\n"
     ]
    }
   ],
   "source": [
    "# 1. Get all Mathematics students and show first 3 as examples before the update\n",
    "math_students_before = list(collection.find({\"program\": \"Mathematics\"}))\n",
    "print(\"Grades for first 3 Mathematics students before update:\")\n",
    "for student in math_students_before[:3]:\n",
    "    print(f\"ID: {student['student_id']}, grade: {round(student['grade'], 2)}\")\n",
    "print()\n",
    "\n",
    "# Update all students majoring in Mathematics: improve grade by 0.3\n",
    "update_result = collection.update_many(\n",
    "    {\"program\": \"Mathematics\"},  # filter condition\n",
    "    {\"$inc\": {\"grade\": -0.3}}    # improve (decrease) grade by 0.3\n",
    ")\n",
    "\n",
    "# 3. Get all Mathematics students and show first 3 as examples after the update\n",
    "math_students_after = list(collection.find({\"program\": \"Mathematics\"}))\n",
    "print(\"Grades for first 3 Mathematics students after update::\")\n",
    "for student in math_students_after[:3]:\n",
    "    print(f\"ID: {student['student_id']}, grade: {round(student['grade'], 2)}\")"
   ]
  },
  {
   "cell_type": "markdown",
   "id": "8789ea15",
   "metadata": {},
   "source": [
    "Step 3: **Query** all 'Economics' students with a grade better than (lower than) 2.0"
   ]
  },
  {
   "cell_type": "code",
   "execution_count": 75,
   "id": "93465926",
   "metadata": {},
   "outputs": [
    {
     "name": "stdout",
     "output_type": "stream",
     "text": [
      "Found 14 Economics students with grade better than 2.0.\n",
      "\n",
      "Example results:\n",
      "{'_id': ObjectId('681c3c833ea16bfb05eacb4c'), 'student_id': 604245, 'name': 'Linda Herrera MD', 'age': 23, 'program': 'Economics', 'grade': 1.69}\n",
      "{'_id': ObjectId('681c3c833ea16bfb05eacb54'), 'student_id': 876786, 'name': 'Debbie Valenzuela MD', 'age': 25, 'program': 'Economics', 'grade': 1.84}\n",
      "{'_id': ObjectId('681c3c833ea16bfb05eacb55'), 'student_id': 667335, 'name': 'Michael Newton', 'age': 21, 'program': 'Economics', 'grade': 1.82}\n"
     ]
    }
   ],
   "source": [
    "results = collection.find({\n",
    "    \"program\": \"Economics\",\n",
    "    \"grade\": {\"$lt\": 2.0}\n",
    "})\n",
    "\n",
    "# Print how many matched the query\n",
    "econ_students_list = list(results)\n",
    "print(f\"Found {len(econ_students_list)} Economics students with grade better than 2.0.\\n\")\n",
    "\n",
    "# Show first 3 as examples\n",
    "print(\"Example results:\")\n",
    "for student in econ_students_list[:3]:\n",
    "    print(student)\n"
   ]
  },
  {
   "cell_type": "markdown",
   "id": "ac36cf51",
   "metadata": {},
   "source": [
    "Step 4: **Delete** all students with a grade worse than (higher than) 4.0"
   ]
  },
  {
   "cell_type": "code",
   "execution_count": 76,
   "id": "19f14d8c",
   "metadata": {},
   "outputs": [
    {
     "name": "stdout",
     "output_type": "stream",
     "text": [
      "Deleted 43 students with a grade worse than 4.0.\n",
      "Documents with a grade better than 4.0 still remaining: 157\n",
      "The number of remaining students matches 200 - number of deleted students: True\n"
     ]
    }
   ],
   "source": [
    "# 1. Delete documents \n",
    "delete_result = collection.delete_many({\n",
    "    \"grade\": {\"$gt\": 4.0}\n",
    "})\n",
    "students_deleted_count = delete_result.deleted_count\n",
    "print(f\"Deleted {students_deleted_count} students with a grade worse than 4.0.\")\n",
    "\n",
    "# Show how may documents remain (should be 200 - students_deleted_count)\n",
    "students_remaining_count = collection.count_documents({\"grade\": {\"$lte\": 4.0}})  # lte = less than equal\n",
    "difference = 200 - students_deleted_count\n",
    "print(f\"Documents with a grade better than 4.0 still remaining: {students_remaining_count}\")\n",
    "print(f\"The number of remaining students matches 200 - number of deleted students: {difference == students_remaining_count}\")"
   ]
  },
  {
   "cell_type": "markdown",
   "id": "23254572",
   "metadata": {},
   "source": [
    "(Alternatively Step 5: **Delete** all entries)"
   ]
  },
  {
   "cell_type": "code",
   "execution_count": 77,
   "id": "969f5e9c",
   "metadata": {},
   "outputs": [],
   "source": [
    "#delete_result = collection.delete_many({})\n",
    "#print(f\"Deleted {delete_result.deleted_count} documents from the collection.\")"
   ]
  }
 ],
 "metadata": {
  "kernelspec": {
   "display_name": ".venv",
   "language": "python",
   "name": "python3"
  },
  "language_info": {
   "codemirror_mode": {
    "name": "ipython",
    "version": 3
   },
   "file_extension": ".py",
   "mimetype": "text/x-python",
   "name": "python",
   "nbconvert_exporter": "python",
   "pygments_lexer": "ipython3",
   "version": "3.12.6"
  }
 },
 "nbformat": 4,
 "nbformat_minor": 5
}
