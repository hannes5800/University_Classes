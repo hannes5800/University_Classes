{
 "cells": [
  {
   "cell_type": "markdown",
   "id": "d7c12491",
   "metadata": {},
   "source": [
    "# Cloud Computing: Exam Part 1"
   ]
  },
  {
   "cell_type": "code",
   "execution_count": 31,
   "id": "68b138b4",
   "metadata": {},
   "outputs": [],
   "source": [
    "import requests\n",
    "import pandas as pd\n",
    "import json"
   ]
  },
  {
   "cell_type": "markdown",
   "id": "a29496bb",
   "metadata": {},
   "source": [
    "# Task 2 - Open Library"
   ]
  },
  {
   "cell_type": "markdown",
   "id": "9646416e",
   "metadata": {},
   "source": [
    "Get information about the book with the ISBN 978-1108491457:"
   ]
  },
  {
   "cell_type": "code",
   "execution_count": 32,
   "id": "32b78ba6",
   "metadata": {},
   "outputs": [
    {
     "name": "stdout",
     "output_type": "stream",
     "text": [
      "The API call was successful!\n"
     ]
    },
    {
     "data": {
      "text/plain": [
       "{'type': {'key': '/type/edition'},\n",
       " 'authors': [{'key': '/authors/OL5316574A'}],\n",
       " 'isbn_13': ['9781108491457'],\n",
       " 'languages': [{'key': '/languages/eng'}],\n",
       " 'publish_date': '2021',\n",
       " 'publishers': ['University of Cambridge ESOL Examinations'],\n",
       " 'source_records': ['bwb:9781108491457'],\n",
       " 'title': 'Quantum Internet',\n",
       " 'pagination': '300',\n",
       " 'subtitle': 'The Second Quantum Revolution',\n",
       " 'full_title': 'Quantum Internet The Second Quantum Revolution',\n",
       " 'works': [{'key': '/works/OL25800800W'}],\n",
       " 'key': '/books/OL34781685M',\n",
       " 'latest_revision': 1,\n",
       " 'revision': 1,\n",
       " 'created': {'type': '/type/datetime', 'value': '2021-10-08T00:56:13.055059'},\n",
       " 'last_modified': {'type': '/type/datetime',\n",
       "  'value': '2021-10-08T00:56:13.055059'}}"
      ]
     },
     "metadata": {},
     "output_type": "display_data"
    }
   ],
   "source": [
    "isbn = '978-1108491457'\n",
    "format = 'json'\n",
    "url = f'http://openlibrary.org/isbn/{isbn}.{format}'\n",
    "response = requests.get(url)\n",
    "\n",
    "if response.status_code == 200:\n",
    "    book_resp = response.json()\n",
    "    print('The API call was successful!')\n",
    "    display(book_resp)\n",
    "else:\n",
    "    print(f'The API call was not successful! Error Code: {response.status_code}')"
   ]
  },
  {
   "cell_type": "markdown",
   "id": "de704b9e",
   "metadata": {},
   "source": [
    "## 2.1"
   ]
  },
  {
   "cell_type": "markdown",
   "id": "cc9121b3",
   "metadata": {},
   "source": [
    "Print title and subtitle with infos from the book response:"
   ]
  },
  {
   "cell_type": "code",
   "execution_count": 33,
   "id": "5d507a4c",
   "metadata": {},
   "outputs": [
    {
     "name": "stdout",
     "output_type": "stream",
     "text": [
      "The title of the book with the ISBN 978-1108491457 is \"Quantum Internet\".\n",
      "The subtitle of the book with the ISBN 978-1108491457 is \"The Second Quantum Revolution\".\n"
     ]
    }
   ],
   "source": [
    "print(f'The title of the book with the ISBN {isbn} is \"{book_resp.get('title')}\".')\n",
    "print(f'The subtitle of the book with the ISBN {isbn} is \"{book_resp.get('subtitle')}\".')"
   ]
  },
  {
   "cell_type": "markdown",
   "id": "e8a4bd1d",
   "metadata": {},
   "source": [
    "**Answer:** The title of the book with the ISBN 978-1108491457 is \"Quantum Internet\" and the subtitle is \"The Second Quantum Revolution\"."
   ]
  },
  {
   "cell_type": "markdown",
   "id": "b7799929",
   "metadata": {},
   "source": [
    "## 2.2"
   ]
  },
  {
   "cell_type": "markdown",
   "id": "18f51197",
   "metadata": {},
   "source": [
    "Get information about the author with the key of 'authors' from the response of previous subtask and the respective URL:"
   ]
  },
  {
   "cell_type": "code",
   "execution_count": 34,
   "id": "af09a11f",
   "metadata": {},
   "outputs": [
    {
     "name": "stdout",
     "output_type": "stream",
     "text": [
      "The API call was successful!\n"
     ]
    },
    {
     "data": {
      "text/plain": [
       "{'name': 'Peter P. Rohde',\n",
       " 'personal_name': 'Peter P. Rohde',\n",
       " 'last_modified': {'type': '/type/datetime',\n",
       "  'value': '2008-09-29 05:04:49.974928'},\n",
       " 'key': '/authors/OL5316574A',\n",
       " 'type': {'key': '/type/author'},\n",
       " 'id': 26820633,\n",
       " 'revision': 1}"
      ]
     },
     "metadata": {},
     "output_type": "display_data"
    }
   ],
   "source": [
    "author_key = book_resp.get('authors')[0].get('key')\n",
    "url = f'http://openlibrary.org{author_key}.json'\n",
    "response = requests.get(url)\n",
    "\n",
    "if response.status_code == 200:\n",
    "    author_resp = response.json()\n",
    "    print('The API call was successful!')\n",
    "    display(author_resp)\n",
    "else:\n",
    "    print(f'The API call was not successful! Error Code: {response.status_code}')"
   ]
  },
  {
   "cell_type": "markdown",
   "id": "6da4b4a2",
   "metadata": {},
   "source": [
    "Print author name with infos from the author response:"
   ]
  },
  {
   "cell_type": "code",
   "execution_count": 35,
   "id": "38331786",
   "metadata": {},
   "outputs": [
    {
     "name": "stdout",
     "output_type": "stream",
     "text": [
      "The name of the author of the book with the ISBN 978-1108491457 is \"Peter P. Rohde\".\n"
     ]
    }
   ],
   "source": [
    "print(f'The name of the author of the book with the ISBN {isbn} is \"{author_resp.get('name')}\".')"
   ]
  },
  {
   "cell_type": "markdown",
   "id": "d8764420",
   "metadata": {},
   "source": [
    "**Answer:** The name of the author of the book with the ISBN 978-1108491457 is \"Peter P. Rohde\"."
   ]
  },
  {
   "cell_type": "markdown",
   "id": "71667ad3",
   "metadata": {},
   "source": [
    "## 2.3"
   ]
  },
  {
   "cell_type": "markdown",
   "id": "f041b27c",
   "metadata": {},
   "source": [
    "Get information about the author 'Marko Luksa' with the respective URL:"
   ]
  },
  {
   "cell_type": "code",
   "execution_count": 36,
   "id": "d8122171",
   "metadata": {},
   "outputs": [
    {
     "name": "stdout",
     "output_type": "stream",
     "text": [
      "The API call was successful!\n"
     ]
    },
    {
     "data": {
      "text/plain": [
       "{'numFound': 1,\n",
       " 'start': 0,\n",
       " 'numFoundExact': True,\n",
       " 'docs': [{'key': 'OL7495503A',\n",
       "   'name': 'Marko Luksa',\n",
       "   'top_subjects': ['Electronic data processing, distributed processing',\n",
       "    'Application software, development'],\n",
       "   'top_work': 'Kubernetes in Action',\n",
       "   'type': 'author',\n",
       "   'work_count': 2,\n",
       "   'ratings_average': 4.0,\n",
       "   'ratings_sortable': 2.5403202,\n",
       "   'ratings_count': 2,\n",
       "   'ratings_count_1': 0,\n",
       "   'ratings_count_2': 0,\n",
       "   'ratings_count_3': 0,\n",
       "   'ratings_count_4': 2,\n",
       "   'ratings_count_5': 0,\n",
       "   'want_to_read_count': 28,\n",
       "   'already_read_count': 2,\n",
       "   'currently_reading_count': 3,\n",
       "   'readinglog_count': 33,\n",
       "   '_version_': 1826843312887169028}]}"
      ]
     },
     "metadata": {},
     "output_type": "display_data"
    }
   ],
   "source": [
    "author_name = 'Marko Luksa'\n",
    "url = f'https://openlibrary.org/search/authors.json?q={author_name}'\n",
    "response = requests.get(url)\n",
    "\n",
    "if response.status_code == 200:\n",
    "    author_resp = response.json()\n",
    "    print('The API call was successful!')\n",
    "    display(author_resp)\n",
    "else:\n",
    "    print(f'The API call was not successful! Error Code: {response.status_code}')"
   ]
  },
  {
   "cell_type": "markdown",
   "id": "7545c52f",
   "metadata": {},
   "source": [
    "Print top work and number of books written with infos from the author response:"
   ]
  },
  {
   "cell_type": "code",
   "execution_count": 37,
   "id": "72376395",
   "metadata": {},
   "outputs": [
    {
     "name": "stdout",
     "output_type": "stream",
     "text": [
      "The top work of the author Marko Luksa is \"Kubernetes in Action\".\n",
      "The author Marko Luksa has written 2 books.\n"
     ]
    }
   ],
   "source": [
    "print(f'The top work of the author {author_name} is \"{author_resp.get('docs')[0].get('top_work')}\".')\n",
    "print(f'The author {author_name} has written {author_resp.get('docs')[0].get('work_count')} books.')"
   ]
  },
  {
   "cell_type": "markdown",
   "id": "a30852d7",
   "metadata": {},
   "source": [
    "**Answer:** The top work of the author Marko Luksa is \"Kubernetes in Action\" and the author Marko Luksa has written 2 books."
   ]
  },
  {
   "cell_type": "markdown",
   "id": "b9b76c89",
   "metadata": {},
   "source": [
    "## 2.4"
   ]
  },
  {
   "cell_type": "markdown",
   "id": "dbea398e",
   "metadata": {},
   "source": [
    "Get author key for Marko Luksa with response from previous subtask:"
   ]
  },
  {
   "cell_type": "code",
   "execution_count": 38,
   "id": "850764c0",
   "metadata": {},
   "outputs": [],
   "source": [
    "author_key = author_resp.get('docs')[0].get('key')"
   ]
  },
  {
   "cell_type": "markdown",
   "id": "4d37fed0",
   "metadata": {},
   "source": [
    "Get information about the author's book titles with the key of from the author response and the respecive URL:"
   ]
  },
  {
   "cell_type": "code",
   "execution_count": 39,
   "id": "b767cbcc",
   "metadata": {},
   "outputs": [
    {
     "name": "stdout",
     "output_type": "stream",
     "text": [
      "The API call was successful!\n"
     ]
    },
    {
     "data": {
      "text/plain": [
       "{'links': {'self': '/authors/OL7495503A/works.json?limit=100',\n",
       "  'author': '/authors/OL7495503A'},\n",
       " 'size': 2,\n",
       " 'entries': [{'type': {'key': '/type/work'},\n",
       "   'title': 'Kubernetes in Action, Second Edition',\n",
       "   'authors': [{'type': {'key': '/type/author_role'},\n",
       "     'author': {'key': '/authors/OL7495503A'}}],\n",
       "   'key': '/works/OL28417305W',\n",
       "   'covers': [13803594],\n",
       "   'latest_revision': 2,\n",
       "   'revision': 2,\n",
       "   'created': {'type': '/type/datetime',\n",
       "    'value': '2022-07-19T23:48:40.645032'},\n",
       "   'last_modified': {'type': '/type/datetime',\n",
       "    'value': '2023-04-02T18:13:15.303455'}},\n",
       "  {'title': 'Kubernetes in Action',\n",
       "   'covers': [8509009],\n",
       "   'key': '/works/OL19542950W',\n",
       "   'authors': [{'type': {'key': '/type/author_role'},\n",
       "     'author': {'key': '/authors/OL7495503A'}}],\n",
       "   'type': {'key': '/type/work'},\n",
       "   'subjects': ['Application software, development',\n",
       "    'Electronic data processing, distributed processing'],\n",
       "   'latest_revision': 2,\n",
       "   'revision': 2,\n",
       "   'created': {'type': '/type/datetime',\n",
       "    'value': '2019-04-05T02:02:36.076387'},\n",
       "   'last_modified': {'type': '/type/datetime',\n",
       "    'value': '2021-10-05T20:20:59.808403'}}]}"
      ]
     },
     "metadata": {},
     "output_type": "display_data"
    }
   ],
   "source": [
    "url = f'https://openlibrary.org/authors/{author_key}/works.json?limit=100'\n",
    "response = requests.get(url)\n",
    "\n",
    "if response.status_code == 200:\n",
    "    author_works = response.json()\n",
    "    print('The API call was successful!')\n",
    "    display(author_works)\n",
    "else: \n",
    "    print(f'The API call was not  successful! Error Code: {response.status_code}')"
   ]
  },
  {
   "cell_type": "markdown",
   "id": "d4a24202",
   "metadata": {},
   "source": [
    "Print book titles from the author works response:"
   ]
  },
  {
   "cell_type": "code",
   "execution_count": 40,
   "id": "f99190cd",
   "metadata": {},
   "outputs": [
    {
     "name": "stdout",
     "output_type": "stream",
     "text": [
      "Marko Luksa has written the books with the following titles: \n",
      "- Kubernetes in Action, Second Edition\n",
      "- Kubernetes in Action\n"
     ]
    }
   ],
   "source": [
    "entries = author_works.get('entries')\n",
    "titles = []\n",
    "\n",
    "for entry in entries:\n",
    "    title = entry.get('title')\n",
    "    titles.append(title)\n",
    "\n",
    "print(f'Marko Luksa has written the books with the following titles: \\n- {\"\\n- \".join(titles)}')"
   ]
  },
  {
   "cell_type": "markdown",
   "id": "3b72d323",
   "metadata": {},
   "source": [
    "**Answer:** Marko Luksa has written the books with the titles \"Kubernetes in Action, Second Edition\" and \"Kubernetes in Action\"."
   ]
  },
  {
   "cell_type": "code",
   "execution_count": null,
   "id": "e26d4c01",
   "metadata": {},
   "outputs": [],
   "source": []
  }
 ],
 "metadata": {
  "kernelspec": {
   "display_name": ".venv",
   "language": "python",
   "name": "python3"
  },
  "language_info": {
   "codemirror_mode": {
    "name": "ipython",
    "version": 3
   },
   "file_extension": ".py",
   "mimetype": "text/x-python",
   "name": "python",
   "nbconvert_exporter": "python",
   "pygments_lexer": "ipython3",
   "version": "3.12.6"
  }
 },
 "nbformat": 4,
 "nbformat_minor": 5
}
