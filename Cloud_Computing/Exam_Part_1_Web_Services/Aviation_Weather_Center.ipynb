{
 "cells": [
  {
   "cell_type": "markdown",
   "id": "e77d2e11",
   "metadata": {},
   "source": [
    "# Cloud Computing: Exam Part 1"
   ]
  },
  {
   "cell_type": "code",
   "execution_count": 20,
   "id": "b90289e9",
   "metadata": {},
   "outputs": [],
   "source": [
    "import requests\n",
    "import pandas as pd\n",
    "import json"
   ]
  },
  {
   "cell_type": "markdown",
   "id": "3ada2751",
   "metadata": {},
   "source": [
    "# Task 1 - Aviation Weather Center "
   ]
  },
  {
   "cell_type": "markdown",
   "id": "29adf003",
   "metadata": {},
   "source": [
    "Get information about the airport with the station ID 'EDDH' in JSON-format:"
   ]
  },
  {
   "cell_type": "code",
   "execution_count": 21,
   "id": "66748f87",
   "metadata": {},
   "outputs": [
    {
     "name": "stdout",
     "output_type": "stream",
     "text": [
      "The API call was successful!\n"
     ]
    },
    {
     "data": {
      "text/plain": [
       "[{'id': '20137',\n",
       "  'icaoId': 'EDDH',\n",
       "  'iataId': 'HAM',\n",
       "  'faaId': None,\n",
       "  'name': 'HAMBURG AIRPORT',\n",
       "  'state': 'HH',\n",
       "  'country': 'DE',\n",
       "  'source': 'Intl',\n",
       "  'type': 'ARP',\n",
       "  'lat': 53.6318,\n",
       "  'lon': 9.9951,\n",
       "  'elev': 8,\n",
       "  'magdec': '2E',\n",
       "  'owner': 'P',\n",
       "  'runways': [{'id': '15/33',\n",
       "    'dimension': '12024x150',\n",
       "    'surface': 'Hi',\n",
       "    'alignment': '150'},\n",
       "   {'id': '05/23',\n",
       "    'dimension': '10663x150',\n",
       "    'surface': 'H',\n",
       "    'alignment': '048'}],\n",
       "  'rwyNum': '2',\n",
       "  'rwyLength': 'L',\n",
       "  'rwyType': 'H',\n",
       "  'services': 'S',\n",
       "  'tower': 'T',\n",
       "  'beacon': 'B',\n",
       "  'operations': None,\n",
       "  'passengers': '11090',\n",
       "  'freqs': 'ATIS,123.12;TWR,121.27',\n",
       "  'priority': '2'}]"
      ]
     },
     "metadata": {},
     "output_type": "display_data"
    }
   ],
   "source": [
    "url = 'https://aviationweather.gov/api/data/airport?ids=EDDH&format=json'\n",
    "\n",
    "params = {'ids': 'EDDH',\n",
    "          'format': 'json'}\n",
    "response = requests.get(url) \n",
    "\n",
    "if response.status_code == 200:\n",
    "    airport_resp = response.json()\n",
    "    print('The API call was successful!')\n",
    "    display(airport_resp)\n",
    "else:\n",
    "    print(f'The API call was not successful! Error Code: {response.status_code}')"
   ]
  },
  {
   "cell_type": "markdown",
   "id": "d279055d",
   "metadata": {},
   "source": [
    "## 1.1"
   ]
  },
  {
   "cell_type": "markdown",
   "id": "d132f211",
   "metadata": {},
   "source": [
    "Print airport name of 'EDDH' with infos from the airport response:"
   ]
  },
  {
   "cell_type": "code",
   "execution_count": 22,
   "id": "287a7259",
   "metadata": {},
   "outputs": [
    {
     "name": "stdout",
     "output_type": "stream",
     "text": [
      "The name of the airpot with the ID \"EDDH\" is HAMBURG AIRPORT.\n"
     ]
    }
   ],
   "source": [
    "print(f'The name of the airpot with the ID \"EDDH\" is {airport_resp[0].get('name')}.')"
   ]
  },
  {
   "cell_type": "markdown",
   "id": "48ffaacb",
   "metadata": {},
   "source": [
    "**Answer**: The name of the airpot with the ID \"EDDH\" is HAMBURG AIRPORT."
   ]
  },
  {
   "cell_type": "markdown",
   "id": "cfcc69e9",
   "metadata": {},
   "source": [
    "## 1.2"
   ]
  },
  {
   "cell_type": "markdown",
   "id": "4e99e76f",
   "metadata": {},
   "source": [
    "Print IATA code of 'EDDH' with infos from the airport response:"
   ]
  },
  {
   "cell_type": "code",
   "execution_count": 23,
   "id": "e0e7eb5c",
   "metadata": {},
   "outputs": [
    {
     "name": "stdout",
     "output_type": "stream",
     "text": [
      "The IATA code of the airport with the ID \"EDDH\" is \"HAM\".\n"
     ]
    }
   ],
   "source": [
    "print(f'The IATA code of the airport with the ID \"EDDH\" is \"{airport_resp[0].get('iataId')}\".')"
   ]
  },
  {
   "cell_type": "markdown",
   "id": "0c2caa01",
   "metadata": {},
   "source": [
    "**Answer**: The IATA code of the airport with the ID \"EDDH\" is \"HAM\"."
   ]
  },
  {
   "cell_type": "markdown",
   "id": "54c53ec9",
   "metadata": {},
   "source": [
    "## 1.3"
   ]
  },
  {
   "cell_type": "markdown",
   "id": "321afb6f",
   "metadata": {},
   "source": [
    "Print geolocation (longitude/latitude) of 'EDDH' with infos from the airport response:"
   ]
  },
  {
   "cell_type": "code",
   "execution_count": 24,
   "id": "21f1bcbd",
   "metadata": {},
   "outputs": [
    {
     "name": "stdout",
     "output_type": "stream",
     "text": [
      "The Geolocation of the airport with the ID \"EDDH\" is: longitude: 9.9951, latitude: 53.6318.\n"
     ]
    }
   ],
   "source": [
    "print(f'The Geolocation of the airport with the ID \"EDDH\" is: ' + \n",
    "      f'longitude: {airport_resp[0].get('lon')}, latitude: {airport_resp[0].get('lat')}.')"
   ]
  },
  {
   "cell_type": "markdown",
   "id": "65b46b8c",
   "metadata": {},
   "source": [
    "**Answer**: The Geolocation of the airport with the ID \"EDDH\" is: longitude: 9.9951, latitude: 53.6318."
   ]
  },
  {
   "cell_type": "markdown",
   "id": "8c17b1ef",
   "metadata": {},
   "source": [
    "## 1.4"
   ]
  },
  {
   "cell_type": "markdown",
   "id": "a4d5f780",
   "metadata": {},
   "source": [
    "Print number of runways of 'EDDH' with infos from the airport response:"
   ]
  },
  {
   "cell_type": "code",
   "execution_count": 25,
   "id": "1566cb8b",
   "metadata": {},
   "outputs": [
    {
     "name": "stdout",
     "output_type": "stream",
     "text": [
      "The airport with the ID \"EDDH\" has 2 runways.\n"
     ]
    }
   ],
   "source": [
    "print(f'The airport with the ID \"EDDH\" has {len(airport_resp[0].get('runways'))} runways.')"
   ]
  },
  {
   "cell_type": "markdown",
   "id": "6707d35d",
   "metadata": {},
   "source": [
    "**Answer**: The airport with the ID \"EDDH\" has 2 runways."
   ]
  },
  {
   "cell_type": "code",
   "execution_count": null,
   "id": "93358739",
   "metadata": {},
   "outputs": [],
   "source": []
  }
 ],
 "metadata": {
  "kernelspec": {
   "display_name": ".venv",
   "language": "python",
   "name": "python3"
  },
  "language_info": {
   "codemirror_mode": {
    "name": "ipython",
    "version": 3
   },
   "file_extension": ".py",
   "mimetype": "text/x-python",
   "name": "python",
   "nbconvert_exporter": "python",
   "pygments_lexer": "ipython3",
   "version": "3.12.6"
  }
 },
 "nbformat": 4,
 "nbformat_minor": 5
}
